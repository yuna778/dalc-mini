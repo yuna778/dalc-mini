  {
   "cell_type": "markdown",
   "metadata": {},
   "source": [
    "# 2.2 금융 데이터 전처리&분석을 위한 판다스 pandas 사용법.\n",
    "\n",
    "## 2.2.1. 데이터 불러오기"
   ]
  },
  {
   "cell_type": "code",
   "execution_count": 2,
   "metadata": {},
   "outputs": [],
   "source": [
    "import pandas as pd\n",
    "df = pd.read_csv('../data/AAPL.csv')"
   ]
  },
  {
   "cell_type": "code",
   "execution_count": 2,
   "metadata": {},
   "outputs": [
    {
     "data": {
      "text/html": [
       "<div>\n",
       "<style scoped>\n",
       "    .dataframe tbody tr th:only-of-type {\n",
       "        vertical-align: middle;\n",
       "    }\n",
       "\n",
       "    .dataframe tbody tr th {\n",
       "        vertical-align: top;\n",
       "    }\n",
       "\n",
       "    .dataframe thead th {\n",
       "        text-align: right;\n",
       "    }\n",
       "</style>\n",
       "<table border=\"1\" class=\"dataframe\">\n",
       "  <thead>\n",
       "    <tr style=\"text-align: right;\">\n",
       "      <th></th>\n",
       "      <th>Date</th>\n",
       "      <th>Open</th>\n",
       "      <th>High</th>\n",
       "      <th>Low</th>\n",
       "      <th>Close</th>\n",
       "      <th>Adj Close</th>\n",
       "      <th>Volume</th>\n",
       "    </tr>\n",
       "  </thead>\n",
       "  <tbody>\n",
       "    <tr>\n",
       "      <th>0</th>\n",
       "      <td>1980-12-12</td>\n",
       "      <td>0.513393</td>\n",
       "      <td>0.515625</td>\n",
       "      <td>0.513393</td>\n",
       "      <td>0.513393</td>\n",
       "      <td>0.410525</td>\n",
       "      <td>117258400.0</td>\n",
       "    </tr>\n",
       "    <tr>\n",
       "      <th>1</th>\n",
       "      <td>1980-12-15</td>\n",
       "      <td>0.488839</td>\n",
       "      <td>0.488839</td>\n",
       "      <td>0.486607</td>\n",
       "      <td>0.486607</td>\n",
       "      <td>0.389106</td>\n",
       "      <td>43971200.0</td>\n",
       "    </tr>\n",
       "    <tr>\n",
       "      <th>2</th>\n",
       "      <td>1980-12-16</td>\n",
       "      <td>0.453125</td>\n",
       "      <td>0.453125</td>\n",
       "      <td>0.450893</td>\n",
       "      <td>0.450893</td>\n",
       "      <td>0.360548</td>\n",
       "      <td>26432000.0</td>\n",
       "    </tr>\n",
       "    <tr>\n",
       "      <th>3</th>\n",
       "      <td>1980-12-17</td>\n",
       "      <td>0.462054</td>\n",
       "      <td>0.464286</td>\n",
       "      <td>0.462054</td>\n",
       "      <td>0.462054</td>\n",
       "      <td>0.369472</td>\n",
       "      <td>21610400.0</td>\n",
       "    </tr>\n",
       "    <tr>\n",
       "      <th>4</th>\n",
       "      <td>1980-12-18</td>\n",
       "      <td>0.475446</td>\n",
       "      <td>0.477679</td>\n",
       "      <td>0.475446</td>\n",
       "      <td>0.475446</td>\n",
       "      <td>0.380182</td>\n",
       "      <td>18362400.0</td>\n",
       "    </tr>\n",
       "  </tbody>\n",
       "</table>\n",
       "</div>"
      ],
      "text/plain": [
       "         Date      Open      High       Low     Close  Adj Close       Volume\n",
       "0  1980-12-12  0.513393  0.515625  0.513393  0.513393   0.410525  117258400.0\n",
       "1  1980-12-15  0.488839  0.488839  0.486607  0.486607   0.389106   43971200.0\n",
       "2  1980-12-16  0.453125  0.453125  0.450893  0.450893   0.360548   26432000.0\n",
       "3  1980-12-17  0.462054  0.464286  0.462054  0.462054   0.369472   21610400.0\n",
       "4  1980-12-18  0.475446  0.477679  0.475446  0.475446   0.380182   18362400.0"
      ]
     },
     "execution_count": 2,
     "metadata": {},
     "output_type": "execute_result"
    }
   ],
   "source": [
    "df.head()"
   ]
  },
  {
   "cell_type": "code",
   "execution_count": 3,
   "metadata": {},
   "outputs": [
    {
     "name": "stdout",
     "output_type": "stream",
     "text": [
      "<class 'pandas.core.indexes.range.RangeIndex'>\n",
      "<class 'int'>\n"
     ]
    }
   ],
   "source": [
    "print(type(df.index))\n",
    "print(type(df.index[0]))"
   ]
  },
  {
   "cell_type": "code",
   "execution_count": 4,
   "metadata": {},
   "outputs": [
    {
     "data": {
      "text/plain": [
       "str"
      ]
     },
     "execution_count": 4,
     "metadata": {},
     "output_type": "execute_result"
    }
   ],
   "source": [
    "type(df['Date'][0])"
   ]
  },
  {
   "cell_type": "code",
   "execution_count": 5,
   "metadata": {},
   "outputs": [],
   "source": [
    "for col in df.columns:\n",
    "    series = df[col]"
   ]
  },
  {
   "cell_type": "code",
   "execution_count": 6,
   "metadata": {},
   "outputs": [
    {
     "data": {
      "text/plain": [
       "0       117258400.0\n",
       "1        43971200.0\n",
       "2        26432000.0\n",
       "3        21610400.0\n",
       "4        18362400.0\n",
       "           ...     \n",
       "9710     26551000.0\n",
       "9711     21124200.0\n",
       "9712     21514000.0\n",
       "9713     47735300.0\n",
       "9714      9025362.0\n",
       "Name: Volume, Length: 9715, dtype: float64"
      ]
     },
     "execution_count": 6,
     "metadata": {},
     "output_type": "execute_result"
    }
   ],
   "source": [
    "series"
   ]
  },
  {
   "cell_type": "markdown",
   "metadata": {},
   "source": [
    "* parse_dates 매개변수를 사용하여 'Date' 컬럼을 timestamp타입으로 변환한다.\n",
    "* index_col 매개변수를 사용하여 'Date' 컬럼을 dataframe의 index로 지정한다."
   ]
  },
  {
   "cell_type": "code",
   "execution_count": 7,
   "metadata": {},
   "outputs": [],
   "source": [
    "aapl_df = pd.read_csv('../data/us_etf_data/AAPL.csv',index_col='Date', parse_dates=['Date'])"
   ]
  },
  {
   "cell_type": "code",
   "execution_count": 8,
   "metadata": {},
   "outputs": [
    {
     "data": {
      "text/html": [
       "<div>\n",
       "<style scoped>\n",
       "    .dataframe tbody tr th:only-of-type {\n",
       "        vertical-align: middle;\n",
       "    }\n",
       "\n",
       "    .dataframe tbody tr th {\n",
       "        vertical-align: top;\n",
       "    }\n",
       "\n",
       "    .dataframe thead th {\n",
       "        text-align: right;\n",
       "    }\n",
       "</style>\n",
       "<table border=\"1\" class=\"dataframe\">\n",
       "  <thead>\n",
       "    <tr style=\"text-align: right;\">\n",
       "      <th></th>\n",
       "      <th>Open</th>\n",
       "      <th>High</th>\n",
       "      <th>Low</th>\n",
       "      <th>Close</th>\n",
       "      <th>Adj Close</th>\n",
       "      <th>Volume</th>\n",
       "    </tr>\n",
       "    <tr>\n",
       "      <th>Date</th>\n",
       "      <th></th>\n",
       "      <th></th>\n",
       "      <th></th>\n",
       "      <th></th>\n",
       "      <th></th>\n",
       "      <th></th>\n",
       "    </tr>\n",
       "  </thead>\n",
       "  <tbody>\n",
       "    <tr>\n",
       "      <th>1980-12-12</th>\n",
       "      <td>0.513393</td>\n",
       "      <td>0.515625</td>\n",
       "      <td>0.513393</td>\n",
       "      <td>0.513393</td>\n",
       "      <td>0.410525</td>\n",
       "      <td>117258400.0</td>\n",
       "    </tr>\n",
       "    <tr>\n",
       "      <th>1980-12-15</th>\n",
       "      <td>0.488839</td>\n",
       "      <td>0.488839</td>\n",
       "      <td>0.486607</td>\n",
       "      <td>0.486607</td>\n",
       "      <td>0.389106</td>\n",
       "      <td>43971200.0</td>\n",
       "    </tr>\n",
       "    <tr>\n",
       "      <th>1980-12-16</th>\n",
       "      <td>0.453125</td>\n",
       "      <td>0.453125</td>\n",
       "      <td>0.450893</td>\n",
       "      <td>0.450893</td>\n",
       "      <td>0.360548</td>\n",
       "      <td>26432000.0</td>\n",
       "    </tr>\n",
       "    <tr>\n",
       "      <th>1980-12-17</th>\n",
       "      <td>0.462054</td>\n",
       "      <td>0.464286</td>\n",
       "      <td>0.462054</td>\n",
       "      <td>0.462054</td>\n",
       "      <td>0.369472</td>\n",
       "      <td>21610400.0</td>\n",
       "    </tr>\n",
       "    <tr>\n",
       "      <th>1980-12-18</th>\n",
       "      <td>0.475446</td>\n",
       "      <td>0.477679</td>\n",
       "      <td>0.475446</td>\n",
       "      <td>0.475446</td>\n",
       "      <td>0.380182</td>\n",
       "      <td>18362400.0</td>\n",
       "    </tr>\n",
       "  </tbody>\n",
       "</table>\n",
       "</div>"
      ],
      "text/plain": [
       "                Open      High       Low     Close  Adj Close       Volume\n",
       "Date                                                                      \n",
       "1980-12-12  0.513393  0.515625  0.513393  0.513393   0.410525  117258400.0\n",
       "1980-12-15  0.488839  0.488839  0.486607  0.486607   0.389106   43971200.0\n",
       "1980-12-16  0.453125  0.453125  0.450893  0.450893   0.360548   26432000.0\n",
       "1980-12-17  0.462054  0.464286  0.462054  0.462054   0.369472   21610400.0\n",
       "1980-12-18  0.475446  0.477679  0.475446  0.475446   0.380182   18362400.0"
      ]
     },
     "execution_count": 8,
     "metadata": {},
     "output_type": "execute_result"
    }
   ],
   "source": [
    "aapl_df.head()"
   ]
  },
  {
   "cell_type": "code",
   "execution_count": 9,
   "metadata": {},
   "outputs": [
    {
     "name": "stdout",
     "output_type": "stream",
     "text": [
      "                Open      High       Low     Close  Adj Close       Volume\n",
      "Date                                                                      \n",
      "1980-12-12  0.513393  0.515625  0.513393  0.513393   0.410525  117258400.0\n",
      "1980-12-15  0.488839  0.488839  0.486607  0.486607   0.389106   43971200.0\n",
      "1980-12-16  0.453125  0.453125  0.450893  0.450893   0.360548   26432000.0\n",
      "1980-12-17  0.462054  0.464286  0.462054  0.462054   0.369472   21610400.0\n",
      "1980-12-18  0.475446  0.477679  0.475446  0.475446   0.380182   18362400.0\n",
      "<class 'pandas.core.indexes.datetimes.DatetimeIndex'>\n",
      "<class 'pandas._libs.tslibs.timestamps.Timestamp'>\n"
     ]
    }
   ],
   "source": [
    "print(aapl_df.head())\n",
    "print(type(aapl_df.index))\n",
    "print(type(aapl_df.index[0]))"
   ]
  },
  {
   "cell_type": "code",
   "execution_count": 10,
   "metadata": {},
   "outputs": [
    {
     "name": "stdout",
     "output_type": "stream",
     "text": [
      "<class 'pandas._libs.tslibs.timestamps.Timestamp'>\n",
      "<class 'pandas.core.indexes.datetimes.DatetimeIndex'>\n"
     ]
    }
   ],
   "source": [
    "print(type(aapl_df.index[0]))\n",
    "print(type(aapl_df.index))"
   ]
  },
  {
   "cell_type": "markdown",
   "metadata": {},
   "source": [
    "## 2.2.2 에러의 주된 원인을 처리하자\n",
    "\n",
    "\n",
    "* objective : Cleaning and preparing time series data\n",
    "1. 누락데이터가 있는지 확인한다. \n",
    "  - 어떻게 확인하는가?\n",
    "2. 누락 데이터는 fillna(method='ffill')"
   ]
  },
  {
   "cell_type": "code",
   "execution_count": 11,
   "metadata": {},
   "outputs": [
    {
     "data": {
      "text/html": [
       "<div>\n",
       "<style scoped>\n",
       "    .dataframe tbody tr th:only-of-type {\n",
       "        vertical-align: middle;\n",
       "    }\n",
       "\n",
       "    .dataframe tbody tr th {\n",
       "        vertical-align: top;\n",
       "    }\n",
       "\n",
       "    .dataframe thead th {\n",
       "        text-align: right;\n",
       "    }\n",
       "</style>\n",
       "<table border=\"1\" class=\"dataframe\">\n",
       "  <thead>\n",
       "    <tr style=\"text-align: right;\">\n",
       "      <th></th>\n",
       "      <th>S1</th>\n",
       "      <th>S2</th>\n",
       "      <th>S3</th>\n",
       "    </tr>\n",
       "  </thead>\n",
       "  <tbody>\n",
       "    <tr>\n",
       "      <th>0</th>\n",
       "      <td>1.0</td>\n",
       "      <td>1.0</td>\n",
       "      <td>1.0</td>\n",
       "    </tr>\n",
       "    <tr>\n",
       "      <th>1</th>\n",
       "      <td>NaN</td>\n",
       "      <td>2.0</td>\n",
       "      <td>2.0</td>\n",
       "    </tr>\n",
       "    <tr>\n",
       "      <th>2</th>\n",
       "      <td>3.0</td>\n",
       "      <td>NaN</td>\n",
       "      <td>3.0</td>\n",
       "    </tr>\n",
       "    <tr>\n",
       "      <th>3</th>\n",
       "      <td>4.0</td>\n",
       "      <td>4.0</td>\n",
       "      <td>NaN</td>\n",
       "    </tr>\n",
       "    <tr>\n",
       "      <th>4</th>\n",
       "      <td>5.0</td>\n",
       "      <td>5.0</td>\n",
       "      <td>5.0</td>\n",
       "    </tr>\n",
       "  </tbody>\n",
       "</table>\n",
       "</div>"
      ],
      "text/plain": [
       "    S1   S2   S3\n",
       "0  1.0  1.0  1.0\n",
       "1  NaN  2.0  2.0\n",
       "2  3.0  NaN  3.0\n",
       "3  4.0  4.0  NaN\n",
       "4  5.0  5.0  5.0"
      ]
     },
     "execution_count": 11,
     "metadata": {},
     "output_type": "execute_result"
    }
   ],
   "source": [
    "import pandas as pd\n",
    "import numpy as np\n",
    "s1 = pd.Series([1,np.nan,3,4,5])\n",
    "s2 = pd.Series([1,2,np.nan,4,5])\n",
    "s3 = pd.Series([1,2,3,np.nan,5])\n",
    "df = pd.DataFrame({'S1':s1,\n",
    "                  'S2':s2,\n",
    "                  'S3':s3\n",
    "                  })\n",
    "df.head()"
   ]
  },
  {
   "cell_type": "code",
   "execution_count": 12,
   "metadata": {},
   "outputs": [
    {
     "data": {
      "text/plain": [
       "0    False\n",
       "1     True\n",
       "2    False\n",
       "3    False\n",
       "4    False\n",
       "Name: S1, dtype: bool"
      ]
     },
     "execution_count": 12,
     "metadata": {},
     "output_type": "execute_result"
    }
   ],
   "source": [
    "df['S1'].isna()"
   ]
  },
  {
   "cell_type": "code",
   "execution_count": 13,
   "metadata": {},
   "outputs": [
    {
     "data": {
      "text/html": [
       "<div>\n",
       "<style scoped>\n",
       "    .dataframe tbody tr th:only-of-type {\n",
       "        vertical-align: middle;\n",
       "    }\n",
       "\n",
       "    .dataframe tbody tr th {\n",
       "        vertical-align: top;\n",
       "    }\n",
       "\n",
       "    .dataframe thead th {\n",
       "        text-align: right;\n",
       "    }\n",
       "</style>\n",
       "<table border=\"1\" class=\"dataframe\">\n",
       "  <thead>\n",
       "    <tr style=\"text-align: right;\">\n",
       "      <th></th>\n",
       "      <th>S1</th>\n",
       "      <th>S2</th>\n",
       "      <th>S3</th>\n",
       "    </tr>\n",
       "  </thead>\n",
       "  <tbody>\n",
       "    <tr>\n",
       "      <th>0</th>\n",
       "      <td>False</td>\n",
       "      <td>False</td>\n",
       "      <td>False</td>\n",
       "    </tr>\n",
       "    <tr>\n",
       "      <th>1</th>\n",
       "      <td>True</td>\n",
       "      <td>False</td>\n",
       "      <td>False</td>\n",
       "    </tr>\n",
       "    <tr>\n",
       "      <th>2</th>\n",
       "      <td>False</td>\n",
       "      <td>True</td>\n",
       "      <td>False</td>\n",
       "    </tr>\n",
       "    <tr>\n",
       "      <th>3</th>\n",
       "      <td>False</td>\n",
       "      <td>False</td>\n",
       "      <td>True</td>\n",
       "    </tr>\n",
       "    <tr>\n",
       "      <th>4</th>\n",
       "      <td>False</td>\n",
       "      <td>False</td>\n",
       "      <td>False</td>\n",
       "    </tr>\n",
       "  </tbody>\n",
       "</table>\n",
       "</div>"
      ],
      "text/plain": [
       "      S1     S2     S3\n",
       "0  False  False  False\n",
       "1   True  False  False\n",
       "2  False   True  False\n",
       "3  False  False   True\n",
       "4  False  False  False"
      ]
     },
     "execution_count": 13,
     "metadata": {},
     "output_type": "execute_result"
    }
   ],
   "source": [
    "df.isna()"
   ]
  },
  {
   "cell_type": "code",
   "execution_count": 14,
   "metadata": {},
   "outputs": [
    {
     "data": {
      "text/plain": [
       "True"
      ]
     },
     "execution_count": 14,
     "metadata": {},
     "output_type": "execute_result"
    }
   ],
   "source": [
    "True == 1"
   ]
  },
  {
   "cell_type": "code",
   "execution_count": 15,
   "metadata": {},
   "outputs": [
    {
     "data": {
      "text/plain": [
       "True"
      ]
     },
     "execution_count": 15,
     "metadata": {},
     "output_type": "execute_result"
    }
   ],
   "source": [
    "False == 0"
   ]
  },
  {
   "cell_type": "code",
   "execution_count": 16,
   "metadata": {},
   "outputs": [
    {
     "data": {
      "text/plain": [
       "False"
      ]
     },
     "execution_count": 16,
     "metadata": {},
     "output_type": "execute_result"
    }
   ],
   "source": [
    "True == 0"
   ]
  },
  {
   "cell_type": "code",
   "execution_count": 17,
   "metadata": {},
   "outputs": [
    {
     "data": {
      "text/plain": [
       "False"
      ]
     },
     "execution_count": 17,
     "metadata": {},
     "output_type": "execute_result"
    }
   ],
   "source": [
    "False == 1"
   ]
  },
  {
   "cell_type": "code",
   "execution_count": 18,
   "metadata": {},
   "outputs": [
    {
     "data": {
      "text/plain": [
       "S1    1\n",
       "S2    1\n",
       "S3    1\n",
       "dtype: int64"
      ]
     },
     "execution_count": 18,
     "metadata": {},
     "output_type": "execute_result"
    }
   ],
   "source": [
    "df.isna().sum()"
   ]
  },
  {
   "cell_type": "code",
   "execution_count": 19,
   "metadata": {},
   "outputs": [
    {
     "data": {
      "text/plain": [
       "S1    4\n",
       "S2    4\n",
       "S3    4\n",
       "dtype: int64"
      ]
     },
     "execution_count": 19,
     "metadata": {},
     "output_type": "execute_result"
    }
   ],
   "source": [
    "df.count()"
   ]
  },
  {
   "cell_type": "code",
   "execution_count": 20,
   "metadata": {},
   "outputs": [
    {
     "data": {
      "text/plain": [
       "<bound method DataFrame.count of       S1     S2     S3\n",
       "0  False  False  False\n",
       "1   True  False  False\n",
       "2  False   True  False\n",
       "3  False  False   True\n",
       "4  False  False  False>"
      ]
     },
     "execution_count": 20,
     "metadata": {},
     "output_type": "execute_result"
    }
   ],
   "source": [
    "df.isna().count"
   ]
  },
  {
   "cell_type": "code",
   "execution_count": 21,
   "metadata": {},
   "outputs": [
    {
     "data": {
      "text/html": [
       "<div>\n",
       "<style scoped>\n",
       "    .dataframe tbody tr th:only-of-type {\n",
       "        vertical-align: middle;\n",
       "    }\n",
       "\n",
       "    .dataframe tbody tr th {\n",
       "        vertical-align: top;\n",
       "    }\n",
       "\n",
       "    .dataframe thead th {\n",
       "        text-align: right;\n",
       "    }\n",
       "</style>\n",
       "<table border=\"1\" class=\"dataframe\">\n",
       "  <thead>\n",
       "    <tr style=\"text-align: right;\">\n",
       "      <th></th>\n",
       "      <th>S1</th>\n",
       "      <th>S2</th>\n",
       "      <th>S3</th>\n",
       "    </tr>\n",
       "  </thead>\n",
       "  <tbody>\n",
       "    <tr>\n",
       "      <th>0</th>\n",
       "      <td>False</td>\n",
       "      <td>False</td>\n",
       "      <td>False</td>\n",
       "    </tr>\n",
       "    <tr>\n",
       "      <th>1</th>\n",
       "      <td>True</td>\n",
       "      <td>False</td>\n",
       "      <td>False</td>\n",
       "    </tr>\n",
       "    <tr>\n",
       "      <th>2</th>\n",
       "      <td>False</td>\n",
       "      <td>True</td>\n",
       "      <td>False</td>\n",
       "    </tr>\n",
       "    <tr>\n",
       "      <th>3</th>\n",
       "      <td>False</td>\n",
       "      <td>False</td>\n",
       "      <td>True</td>\n",
       "    </tr>\n",
       "    <tr>\n",
       "      <th>4</th>\n",
       "      <td>False</td>\n",
       "      <td>False</td>\n",
       "      <td>False</td>\n",
       "    </tr>\n",
       "  </tbody>\n",
       "</table>\n",
       "</div>"
      ],
      "text/plain": [
       "      S1     S2     S3\n",
       "0  False  False  False\n",
       "1   True  False  False\n",
       "2  False   True  False\n",
       "3  False  False   True\n",
       "4  False  False  False"
      ]
     },
     "execution_count": 21,
     "metadata": {},
     "output_type": "execute_result"
    }
   ],
   "source": [
    "df.isin([np.nan])"
   ]
  },
  {
   "cell_type": "code",
   "execution_count": 22,
   "metadata": {},
   "outputs": [
    {
     "data": {
      "text/plain": [
       "S1    1\n",
       "S2    1\n",
       "S3    1\n",
       "dtype: int64"
      ]
     },
     "execution_count": 22,
     "metadata": {},
     "output_type": "execute_result"
    }
   ],
   "source": [
    "df.isin([np.nan]).sum()"
   ]
  },
  {
   "cell_type": "code",
   "execution_count": 23,
   "metadata": {},
   "outputs": [
    {
     "data": {
      "text/html": [
       "<div>\n",
       "<style scoped>\n",
       "    .dataframe tbody tr th:only-of-type {\n",
       "        vertical-align: middle;\n",
       "    }\n",
       "\n",
       "    .dataframe tbody tr th {\n",
       "        vertical-align: top;\n",
       "    }\n",
       "\n",
       "    .dataframe thead th {\n",
       "        text-align: right;\n",
       "    }\n",
       "</style>\n",
       "<table border=\"1\" class=\"dataframe\">\n",
       "  <thead>\n",
       "    <tr style=\"text-align: right;\">\n",
       "      <th></th>\n",
       "      <th>S1</th>\n",
       "      <th>S2</th>\n",
       "      <th>S3</th>\n",
       "    </tr>\n",
       "  </thead>\n",
       "  <tbody>\n",
       "    <tr>\n",
       "      <th>0</th>\n",
       "      <td>False</td>\n",
       "      <td>False</td>\n",
       "      <td>False</td>\n",
       "    </tr>\n",
       "    <tr>\n",
       "      <th>1</th>\n",
       "      <td>True</td>\n",
       "      <td>False</td>\n",
       "      <td>False</td>\n",
       "    </tr>\n",
       "    <tr>\n",
       "      <th>2</th>\n",
       "      <td>False</td>\n",
       "      <td>True</td>\n",
       "      <td>False</td>\n",
       "    </tr>\n",
       "    <tr>\n",
       "      <th>3</th>\n",
       "      <td>False</td>\n",
       "      <td>False</td>\n",
       "      <td>True</td>\n",
       "    </tr>\n",
       "    <tr>\n",
       "      <th>4</th>\n",
       "      <td>False</td>\n",
       "      <td>False</td>\n",
       "      <td>False</td>\n",
       "    </tr>\n",
       "  </tbody>\n",
       "</table>\n",
       "</div>"
      ],
      "text/plain": [
       "      S1     S2     S3\n",
       "0  False  False  False\n",
       "1   True  False  False\n",
       "2  False   True  False\n",
       "3  False  False   True\n",
       "4  False  False  False"
      ]
     },
     "execution_count": 23,
     "metadata": {},
     "output_type": "execute_result"
    }
   ],
   "source": [
    "df.isnull()"
   ]
  },
  {
   "cell_type": "code",
   "execution_count": 24,
   "metadata": {},
   "outputs": [
    {
     "data": {
      "text/plain": [
       "S1    1\n",
       "S2    1\n",
       "S3    1\n",
       "dtype: int64"
      ]
     },
     "execution_count": 24,
     "metadata": {},
     "output_type": "execute_result"
    }
   ],
   "source": [
    "df.isnull().sum()"
   ]
  },
  {
   "cell_type": "code",
   "execution_count": 25,
   "metadata": {},
   "outputs": [
    {
     "data": {
      "text/html": [
       "<div>\n",
       "<style scoped>\n",
       "    .dataframe tbody tr th:only-of-type {\n",
       "        vertical-align: middle;\n",
       "    }\n",
       "\n",
       "    .dataframe tbody tr th {\n",
       "        vertical-align: top;\n",
       "    }\n",
       "\n",
       "    .dataframe thead th {\n",
       "        text-align: right;\n",
       "    }\n",
       "</style>\n",
       "<table border=\"1\" class=\"dataframe\">\n",
       "  <thead>\n",
       "    <tr style=\"text-align: right;\">\n",
       "      <th></th>\n",
       "      <th>S1</th>\n",
       "      <th>S2</th>\n",
       "      <th>S3</th>\n",
       "    </tr>\n",
       "  </thead>\n",
       "  <tbody>\n",
       "    <tr>\n",
       "      <th>1</th>\n",
       "      <td>NaN</td>\n",
       "      <td>2.0</td>\n",
       "      <td>2.0</td>\n",
       "    </tr>\n",
       "    <tr>\n",
       "      <th>2</th>\n",
       "      <td>3.0</td>\n",
       "      <td>NaN</td>\n",
       "      <td>3.0</td>\n",
       "    </tr>\n",
       "    <tr>\n",
       "      <th>3</th>\n",
       "      <td>4.0</td>\n",
       "      <td>4.0</td>\n",
       "      <td>NaN</td>\n",
       "    </tr>\n",
       "  </tbody>\n",
       "</table>\n",
       "</div>"
      ],
      "text/plain": [
       "    S1   S2   S3\n",
       "1  NaN  2.0  2.0\n",
       "2  3.0  NaN  3.0\n",
       "3  4.0  4.0  NaN"
      ]
     },
     "execution_count": 25,
     "metadata": {},
     "output_type": "execute_result"
    }
   ],
   "source": [
    "df[df.isna().any(1)]"
   ]
  },
  {
   "cell_type": "code",
   "execution_count": 26,
   "metadata": {},
   "outputs": [
    {
     "data": {
      "text/html": [
       "<div>\n",
       "<style scoped>\n",
       "    .dataframe tbody tr th:only-of-type {\n",
       "        vertical-align: middle;\n",
       "    }\n",
       "\n",
       "    .dataframe tbody tr th {\n",
       "        vertical-align: top;\n",
       "    }\n",
       "\n",
       "    .dataframe thead th {\n",
       "        text-align: right;\n",
       "    }\n",
       "</style>\n",
       "<table border=\"1\" class=\"dataframe\">\n",
       "  <thead>\n",
       "    <tr style=\"text-align: right;\">\n",
       "      <th></th>\n",
       "      <th>S1</th>\n",
       "      <th>S2</th>\n",
       "      <th>S3</th>\n",
       "    </tr>\n",
       "  </thead>\n",
       "  <tbody>\n",
       "    <tr>\n",
       "      <th>1</th>\n",
       "      <td>NaN</td>\n",
       "      <td>2.0</td>\n",
       "      <td>2.0</td>\n",
       "    </tr>\n",
       "    <tr>\n",
       "      <th>2</th>\n",
       "      <td>3.0</td>\n",
       "      <td>NaN</td>\n",
       "      <td>3.0</td>\n",
       "    </tr>\n",
       "    <tr>\n",
       "      <th>3</th>\n",
       "      <td>4.0</td>\n",
       "      <td>4.0</td>\n",
       "      <td>NaN</td>\n",
       "    </tr>\n",
       "  </tbody>\n",
       "</table>\n",
       "</div>"
      ],
      "text/plain": [
       "    S1   S2   S3\n",
       "1  NaN  2.0  2.0\n",
       "2  3.0  NaN  3.0\n",
       "3  4.0  4.0  NaN"
      ]
     },
     "execution_count": 26,
     "metadata": {},
     "output_type": "execute_result"
    }
   ],
   "source": [
    "df[df.isin([np.nan]).any(1)]"
   ]
  },
  {
   "cell_type": "code",
   "execution_count": 27,
   "metadata": {},
   "outputs": [
    {
     "data": {
      "text/html": [
       "<div>\n",
       "<style scoped>\n",
       "    .dataframe tbody tr th:only-of-type {\n",
       "        vertical-align: middle;\n",
       "    }\n",
       "\n",
       "    .dataframe tbody tr th {\n",
       "        vertical-align: top;\n",
       "    }\n",
       "\n",
       "    .dataframe thead th {\n",
       "        text-align: right;\n",
       "    }\n",
       "</style>\n",
       "<table border=\"1\" class=\"dataframe\">\n",
       "  <thead>\n",
       "    <tr style=\"text-align: right;\">\n",
       "      <th></th>\n",
       "      <th>S1</th>\n",
       "      <th>S2</th>\n",
       "      <th>S3</th>\n",
       "    </tr>\n",
       "  </thead>\n",
       "  <tbody>\n",
       "    <tr>\n",
       "      <th>0</th>\n",
       "      <td>1.0</td>\n",
       "      <td>1.0</td>\n",
       "      <td>1.0</td>\n",
       "    </tr>\n",
       "    <tr>\n",
       "      <th>1</th>\n",
       "      <td>0.0</td>\n",
       "      <td>2.0</td>\n",
       "      <td>2.0</td>\n",
       "    </tr>\n",
       "    <tr>\n",
       "      <th>2</th>\n",
       "      <td>3.0</td>\n",
       "      <td>0.0</td>\n",
       "      <td>3.0</td>\n",
       "    </tr>\n",
       "    <tr>\n",
       "      <th>3</th>\n",
       "      <td>4.0</td>\n",
       "      <td>4.0</td>\n",
       "      <td>0.0</td>\n",
       "    </tr>\n",
       "    <tr>\n",
       "      <th>4</th>\n",
       "      <td>5.0</td>\n",
       "      <td>5.0</td>\n",
       "      <td>5.0</td>\n",
       "    </tr>\n",
       "  </tbody>\n",
       "</table>\n",
       "</div>"
      ],
      "text/plain": [
       "    S1   S2   S3\n",
       "0  1.0  1.0  1.0\n",
       "1  0.0  2.0  2.0\n",
       "2  3.0  0.0  3.0\n",
       "3  4.0  4.0  0.0\n",
       "4  5.0  5.0  5.0"
      ]
     },
     "execution_count": 27,
     "metadata": {},
     "output_type": "execute_result"
    }
   ],
   "source": [
    "df.fillna(0)"
   ]
  },
  {
   "cell_type": "code",
   "execution_count": 28,
   "metadata": {},
   "outputs": [
    {
     "data": {
      "text/html": [
       "<div>\n",
       "<style scoped>\n",
       "    .dataframe tbody tr th:only-of-type {\n",
       "        vertical-align: middle;\n",
       "    }\n",
       "\n",
       "    .dataframe tbody tr th {\n",
       "        vertical-align: top;\n",
       "    }\n",
       "\n",
       "    .dataframe thead th {\n",
       "        text-align: right;\n",
       "    }\n",
       "</style>\n",
       "<table border=\"1\" class=\"dataframe\">\n",
       "  <thead>\n",
       "    <tr style=\"text-align: right;\">\n",
       "      <th></th>\n",
       "      <th>S1</th>\n",
       "      <th>S2</th>\n",
       "      <th>S3</th>\n",
       "    </tr>\n",
       "  </thead>\n",
       "  <tbody>\n",
       "    <tr>\n",
       "      <th>0</th>\n",
       "      <td>1.0</td>\n",
       "      <td>1.0</td>\n",
       "      <td>1.0</td>\n",
       "    </tr>\n",
       "    <tr>\n",
       "      <th>1</th>\n",
       "      <td>1.0</td>\n",
       "      <td>2.0</td>\n",
       "      <td>2.0</td>\n",
       "    </tr>\n",
       "    <tr>\n",
       "      <th>2</th>\n",
       "      <td>3.0</td>\n",
       "      <td>2.0</td>\n",
       "      <td>3.0</td>\n",
       "    </tr>\n",
       "    <tr>\n",
       "      <th>3</th>\n",
       "      <td>4.0</td>\n",
       "      <td>4.0</td>\n",
       "      <td>3.0</td>\n",
       "    </tr>\n",
       "    <tr>\n",
       "      <th>4</th>\n",
       "      <td>5.0</td>\n",
       "      <td>5.0</td>\n",
       "      <td>5.0</td>\n",
       "    </tr>\n",
       "  </tbody>\n",
       "</table>\n",
       "</div>"
      ],
      "text/plain": [
       "    S1   S2   S3\n",
       "0  1.0  1.0  1.0\n",
       "1  1.0  2.0  2.0\n",
       "2  3.0  2.0  3.0\n",
       "3  4.0  4.0  3.0\n",
       "4  5.0  5.0  5.0"
      ]
     },
     "execution_count": 28,
     "metadata": {},
     "output_type": "execute_result"
    }
   ],
   "source": [
    "df.fillna(method='pad')"
   ]
  },
  {
   "cell_type": "code",
   "execution_count": 29,
   "metadata": {},
   "outputs": [
    {
     "data": {
      "text/html": [
       "<div>\n",
       "<style scoped>\n",
       "    .dataframe tbody tr th:only-of-type {\n",
       "        vertical-align: middle;\n",
       "    }\n",
       "\n",
       "    .dataframe tbody tr th {\n",
       "        vertical-align: top;\n",
       "    }\n",
       "\n",
       "    .dataframe thead th {\n",
       "        text-align: right;\n",
       "    }\n",
       "</style>\n",
       "<table border=\"1\" class=\"dataframe\">\n",
       "  <thead>\n",
       "    <tr style=\"text-align: right;\">\n",
       "      <th></th>\n",
       "      <th>S1</th>\n",
       "      <th>S2</th>\n",
       "      <th>S3</th>\n",
       "    </tr>\n",
       "  </thead>\n",
       "  <tbody>\n",
       "    <tr>\n",
       "      <th>0</th>\n",
       "      <td>1.0</td>\n",
       "      <td>1.0</td>\n",
       "      <td>1.0</td>\n",
       "    </tr>\n",
       "    <tr>\n",
       "      <th>1</th>\n",
       "      <td>1.0</td>\n",
       "      <td>2.0</td>\n",
       "      <td>2.0</td>\n",
       "    </tr>\n",
       "    <tr>\n",
       "      <th>2</th>\n",
       "      <td>3.0</td>\n",
       "      <td>2.0</td>\n",
       "      <td>3.0</td>\n",
       "    </tr>\n",
       "    <tr>\n",
       "      <th>3</th>\n",
       "      <td>4.0</td>\n",
       "      <td>4.0</td>\n",
       "      <td>3.0</td>\n",
       "    </tr>\n",
       "    <tr>\n",
       "      <th>4</th>\n",
       "      <td>5.0</td>\n",
       "      <td>5.0</td>\n",
       "      <td>5.0</td>\n",
       "    </tr>\n",
       "  </tbody>\n",
       "</table>\n",
       "</div>"
      ],
      "text/plain": [
       "    S1   S2   S3\n",
       "0  1.0  1.0  1.0\n",
       "1  1.0  2.0  2.0\n",
       "2  3.0  2.0  3.0\n",
       "3  4.0  4.0  3.0\n",
       "4  5.0  5.0  5.0"
      ]
     },
     "execution_count": 29,
     "metadata": {},
     "output_type": "execute_result"
    }
   ],
   "source": [
    "df.fillna(method='ffill')"
   ]
  },
  {
   "cell_type": "code",
   "execution_count": 30,
   "metadata": {},
   "outputs": [
    {
     "data": {
      "text/html": [
       "<div>\n",
       "<style scoped>\n",
       "    .dataframe tbody tr th:only-of-type {\n",
       "        vertical-align: middle;\n",
       "    }\n",
       "\n",
       "    .dataframe tbody tr th {\n",
       "        vertical-align: top;\n",
       "    }\n",
       "\n",
       "    .dataframe thead th {\n",
       "        text-align: right;\n",
       "    }\n",
       "</style>\n",
       "<table border=\"1\" class=\"dataframe\">\n",
       "  <thead>\n",
       "    <tr style=\"text-align: right;\">\n",
       "      <th></th>\n",
       "      <th>S1</th>\n",
       "      <th>S2</th>\n",
       "      <th>S3</th>\n",
       "    </tr>\n",
       "  </thead>\n",
       "  <tbody>\n",
       "    <tr>\n",
       "      <th>0</th>\n",
       "      <td>1.0</td>\n",
       "      <td>1.0</td>\n",
       "      <td>1.0</td>\n",
       "    </tr>\n",
       "    <tr>\n",
       "      <th>1</th>\n",
       "      <td>3.0</td>\n",
       "      <td>2.0</td>\n",
       "      <td>2.0</td>\n",
       "    </tr>\n",
       "    <tr>\n",
       "      <th>2</th>\n",
       "      <td>3.0</td>\n",
       "      <td>4.0</td>\n",
       "      <td>3.0</td>\n",
       "    </tr>\n",
       "    <tr>\n",
       "      <th>3</th>\n",
       "      <td>4.0</td>\n",
       "      <td>4.0</td>\n",
       "      <td>5.0</td>\n",
       "    </tr>\n",
       "    <tr>\n",
       "      <th>4</th>\n",
       "      <td>5.0</td>\n",
       "      <td>5.0</td>\n",
       "      <td>5.0</td>\n",
       "    </tr>\n",
       "  </tbody>\n",
       "</table>\n",
       "</div>"
      ],
      "text/plain": [
       "    S1   S2   S3\n",
       "0  1.0  1.0  1.0\n",
       "1  3.0  2.0  2.0\n",
       "2  3.0  4.0  3.0\n",
       "3  4.0  4.0  5.0\n",
       "4  5.0  5.0  5.0"
      ]
     },
     "execution_count": 30,
     "metadata": {},
     "output_type": "execute_result"
    }
   ],
   "source": [
    "df.fillna(method='bfill')"
   ]
  },
  {
   "cell_type": "code",
   "execution_count": 31,
   "metadata": {},
   "outputs": [
    {
     "data": {
      "text/html": [
       "<div>\n",
       "<style scoped>\n",
       "    .dataframe tbody tr th:only-of-type {\n",
       "        vertical-align: middle;\n",
       "    }\n",
       "\n",
       "    .dataframe tbody tr th {\n",
       "        vertical-align: top;\n",
       "    }\n",
       "\n",
       "    .dataframe thead th {\n",
       "        text-align: right;\n",
       "    }\n",
       "</style>\n",
       "<table border=\"1\" class=\"dataframe\">\n",
       "  <thead>\n",
       "    <tr style=\"text-align: right;\">\n",
       "      <th></th>\n",
       "      <th>S1</th>\n",
       "      <th>S2</th>\n",
       "      <th>S3</th>\n",
       "    </tr>\n",
       "  </thead>\n",
       "  <tbody>\n",
       "    <tr>\n",
       "      <th>0</th>\n",
       "      <td>1.0</td>\n",
       "      <td>1.0</td>\n",
       "      <td>1.0</td>\n",
       "    </tr>\n",
       "    <tr>\n",
       "      <th>4</th>\n",
       "      <td>5.0</td>\n",
       "      <td>5.0</td>\n",
       "      <td>5.0</td>\n",
       "    </tr>\n",
       "  </tbody>\n",
       "</table>\n",
       "</div>"
      ],
      "text/plain": [
       "    S1   S2   S3\n",
       "0  1.0  1.0  1.0\n",
       "4  5.0  5.0  5.0"
      ]
     },
     "execution_count": 31,
     "metadata": {},
     "output_type": "execute_result"
    }
   ],
   "source": [
    "df.dropna(axis=0)"
   ]
  },
  {
   "cell_type": "code",
   "execution_count": 32,
   "metadata": {},
   "outputs": [
    {
     "data": {
      "text/html": [
       "<div>\n",
       "<style scoped>\n",
       "    .dataframe tbody tr th:only-of-type {\n",
       "        vertical-align: middle;\n",
       "    }\n",
       "\n",
       "    .dataframe tbody tr th {\n",
       "        vertical-align: top;\n",
       "    }\n",
       "\n",
       "    .dataframe thead th {\n",
       "        text-align: right;\n",
       "    }\n",
       "</style>\n",
       "<table border=\"1\" class=\"dataframe\">\n",
       "  <thead>\n",
       "    <tr style=\"text-align: right;\">\n",
       "      <th></th>\n",
       "      <th>S1</th>\n",
       "      <th>S2</th>\n",
       "      <th>S3</th>\n",
       "    </tr>\n",
       "  </thead>\n",
       "  <tbody>\n",
       "    <tr>\n",
       "      <th>0</th>\n",
       "      <td>1.0</td>\n",
       "      <td>1.0</td>\n",
       "      <td>1.0</td>\n",
       "    </tr>\n",
       "    <tr>\n",
       "      <th>4</th>\n",
       "      <td>5.0</td>\n",
       "      <td>5.0</td>\n",
       "      <td>5.0</td>\n",
       "    </tr>\n",
       "  </tbody>\n",
       "</table>\n",
       "</div>"
      ],
      "text/plain": [
       "    S1   S2   S3\n",
       "0  1.0  1.0  1.0\n",
       "4  5.0  5.0  5.0"
      ]
     },
     "execution_count": 32,
     "metadata": {},
     "output_type": "execute_result"
    }
   ],
   "source": [
    "df.dropna(axis='rows')"
   ]
  },
  {
   "cell_type": "code",
   "execution_count": 33,
   "metadata": {},
   "outputs": [
    {
     "data": {
      "text/html": [
       "<div>\n",
       "<style scoped>\n",
       "    .dataframe tbody tr th:only-of-type {\n",
       "        vertical-align: middle;\n",
       "    }\n",
       "\n",
       "    .dataframe tbody tr th {\n",
       "        vertical-align: top;\n",
       "    }\n",
       "\n",
       "    .dataframe thead th {\n",
       "        text-align: right;\n",
       "    }\n",
       "</style>\n",
       "<table border=\"1\" class=\"dataframe\">\n",
       "  <thead>\n",
       "    <tr style=\"text-align: right;\">\n",
       "      <th></th>\n",
       "    </tr>\n",
       "  </thead>\n",
       "  <tbody>\n",
       "    <tr>\n",
       "      <th>0</th>\n",
       "    </tr>\n",
       "    <tr>\n",
       "      <th>1</th>\n",
       "    </tr>\n",
       "    <tr>\n",
       "      <th>2</th>\n",
       "    </tr>\n",
       "    <tr>\n",
       "      <th>3</th>\n",
       "    </tr>\n",
       "    <tr>\n",
       "      <th>4</th>\n",
       "    </tr>\n",
       "  </tbody>\n",
       "</table>\n",
       "</div>"
      ],
      "text/plain": [
       "Empty DataFrame\n",
       "Columns: []\n",
       "Index: [0, 1, 2, 3, 4]"
      ]
     },
     "execution_count": 33,
     "metadata": {},
     "output_type": "execute_result"
    }
   ],
   "source": [
    "df.dropna(axis=1)"
   ]
  },
  {
   "cell_type": "code",
   "execution_count": 34,
   "metadata": {},
   "outputs": [
    {
     "data": {
      "text/html": [
       "<div>\n",
       "<style scoped>\n",
       "    .dataframe tbody tr th:only-of-type {\n",
       "        vertical-align: middle;\n",
       "    }\n",
       "\n",
       "    .dataframe tbody tr th {\n",
       "        vertical-align: top;\n",
       "    }\n",
       "\n",
       "    .dataframe thead th {\n",
       "        text-align: right;\n",
       "    }\n",
       "</style>\n",
       "<table border=\"1\" class=\"dataframe\">\n",
       "  <thead>\n",
       "    <tr style=\"text-align: right;\">\n",
       "      <th></th>\n",
       "    </tr>\n",
       "  </thead>\n",
       "  <tbody>\n",
       "    <tr>\n",
       "      <th>0</th>\n",
       "    </tr>\n",
       "    <tr>\n",
       "      <th>1</th>\n",
       "    </tr>\n",
       "    <tr>\n",
       "      <th>2</th>\n",
       "    </tr>\n",
       "    <tr>\n",
       "      <th>3</th>\n",
       "    </tr>\n",
       "    <tr>\n",
       "      <th>4</th>\n",
       "    </tr>\n",
       "  </tbody>\n",
       "</table>\n",
       "</div>"
      ],
      "text/plain": [
       "Empty DataFrame\n",
       "Columns: []\n",
       "Index: [0, 1, 2, 3, 4]"
      ]
     },
     "execution_count": 34,
     "metadata": {},
     "output_type": "execute_result"
    }
   ],
   "source": [
    "df.dropna(axis='columns')"
   ]
  },
  {
   "cell_type": "markdown",
   "metadata": {},
   "source": [
    "* 실제 종목 데이터로 확인해보자."
   ]
  },
  {
   "cell_type": "code",
   "execution_count": 35,
   "metadata": {},
   "outputs": [
    {
     "data": {
      "text/plain": [
       "Open         1\n",
       "High         1\n",
       "Low          1\n",
       "Close        1\n",
       "Adj Close    1\n",
       "Volume       1\n",
       "dtype: int64"
      ]
     },
     "execution_count": 35,
     "metadata": {},
     "output_type": "execute_result"
    }
   ],
   "source": [
    "import pandas as pd\n",
    "aapl_df = pd.read_csv('../data/us_etf_data\\AAPL.csv',index_col='Date', parse_dates=['Date'])\n",
    "# aapl_df.head()\n",
    "aapl_df.isna().sum()"
   ]
  },
  {
   "cell_type": "code",
   "execution_count": 36,
   "metadata": {},
   "outputs": [
    {
     "data": {
      "text/html": [
       "<div>\n",
       "<style scoped>\n",
       "    .dataframe tbody tr th:only-of-type {\n",
       "        vertical-align: middle;\n",
       "    }\n",
       "\n",
       "    .dataframe tbody tr th {\n",
       "        vertical-align: top;\n",
       "    }\n",
       "\n",
       "    .dataframe thead th {\n",
       "        text-align: right;\n",
       "    }\n",
       "</style>\n",
       "<table border=\"1\" class=\"dataframe\">\n",
       "  <thead>\n",
       "    <tr style=\"text-align: right;\">\n",
       "      <th></th>\n",
       "      <th>Open</th>\n",
       "      <th>High</th>\n",
       "      <th>Low</th>\n",
       "      <th>Close</th>\n",
       "      <th>Adj Close</th>\n",
       "      <th>Volume</th>\n",
       "    </tr>\n",
       "    <tr>\n",
       "      <th>Date</th>\n",
       "      <th></th>\n",
       "      <th></th>\n",
       "      <th></th>\n",
       "      <th></th>\n",
       "      <th></th>\n",
       "      <th></th>\n",
       "    </tr>\n",
       "  </thead>\n",
       "  <tbody>\n",
       "    <tr>\n",
       "      <th>1981-08-10</th>\n",
       "      <td>NaN</td>\n",
       "      <td>NaN</td>\n",
       "      <td>NaN</td>\n",
       "      <td>NaN</td>\n",
       "      <td>NaN</td>\n",
       "      <td>NaN</td>\n",
       "    </tr>\n",
       "  </tbody>\n",
       "</table>\n",
       "</div>"
      ],
      "text/plain": [
       "            Open  High  Low  Close  Adj Close  Volume\n",
       "Date                                                 \n",
       "1981-08-10   NaN   NaN  NaN    NaN        NaN     NaN"
      ]
     },
     "execution_count": 36,
     "metadata": {},
     "output_type": "execute_result"
    }
   ],
   "source": [
    "import numpy as np\n",
    "aapl_df[aapl_df.isin([np.nan, np.inf, -np.inf]).any(1)]"
   ]
  },
  {
   "cell_type": "markdown",
   "metadata": {},
   "source": [
    "## 2.2.3가장 자주 쓰이는 데이터 선택방법(슬라이싱, 인덱싱, 서브셋 데이터 추출)"
   ]
  },
  {
   "cell_type": "code",
   "execution_count": 37,
   "metadata": {},
   "outputs": [
    {
     "data": {
      "text/plain": [
       "[0, 1, 2, 3, 4]"
      ]
     },
     "execution_count": 37,
     "metadata": {},
     "output_type": "execute_result"
    }
   ],
   "source": [
    "a = [0,1,2,3,4,5,6,7,8,9,10]\n",
    "a[0:5]"
   ]
  },
  {
   "cell_type": "code",
   "execution_count": 38,
   "metadata": {},
   "outputs": [
    {
     "data": {
      "text/html": [
       "<div>\n",
       "<style scoped>\n",
       "    .dataframe tbody tr th:only-of-type {\n",
       "        vertical-align: middle;\n",
       "    }\n",
       "\n",
       "    .dataframe tbody tr th {\n",
       "        vertical-align: top;\n",
       "    }\n",
       "\n",
       "    .dataframe thead th {\n",
       "        text-align: right;\n",
       "    }\n",
       "</style>\n",
       "<table border=\"1\" class=\"dataframe\">\n",
       "  <thead>\n",
       "    <tr style=\"text-align: right;\">\n",
       "      <th></th>\n",
       "      <th>Open</th>\n",
       "      <th>High</th>\n",
       "      <th>Low</th>\n",
       "      <th>Close</th>\n",
       "      <th>Adj Close</th>\n",
       "      <th>Volume</th>\n",
       "    </tr>\n",
       "    <tr>\n",
       "      <th>Date</th>\n",
       "      <th></th>\n",
       "      <th></th>\n",
       "      <th></th>\n",
       "      <th></th>\n",
       "      <th></th>\n",
       "      <th></th>\n",
       "    </tr>\n",
       "  </thead>\n",
       "  <tbody>\n",
       "    <tr>\n",
       "      <th>1980-12-12</th>\n",
       "      <td>0.513393</td>\n",
       "      <td>0.515625</td>\n",
       "      <td>0.513393</td>\n",
       "      <td>0.513393</td>\n",
       "      <td>0.410525</td>\n",
       "      <td>117258400.0</td>\n",
       "    </tr>\n",
       "    <tr>\n",
       "      <th>1980-12-15</th>\n",
       "      <td>0.488839</td>\n",
       "      <td>0.488839</td>\n",
       "      <td>0.486607</td>\n",
       "      <td>0.486607</td>\n",
       "      <td>0.389106</td>\n",
       "      <td>43971200.0</td>\n",
       "    </tr>\n",
       "    <tr>\n",
       "      <th>1980-12-16</th>\n",
       "      <td>0.453125</td>\n",
       "      <td>0.453125</td>\n",
       "      <td>0.450893</td>\n",
       "      <td>0.450893</td>\n",
       "      <td>0.360548</td>\n",
       "      <td>26432000.0</td>\n",
       "    </tr>\n",
       "    <tr>\n",
       "      <th>1980-12-17</th>\n",
       "      <td>0.462054</td>\n",
       "      <td>0.464286</td>\n",
       "      <td>0.462054</td>\n",
       "      <td>0.462054</td>\n",
       "      <td>0.369472</td>\n",
       "      <td>21610400.0</td>\n",
       "    </tr>\n",
       "    <tr>\n",
       "      <th>1980-12-18</th>\n",
       "      <td>0.475446</td>\n",
       "      <td>0.477679</td>\n",
       "      <td>0.475446</td>\n",
       "      <td>0.475446</td>\n",
       "      <td>0.380182</td>\n",
       "      <td>18362400.0</td>\n",
       "    </tr>\n",
       "  </tbody>\n",
       "</table>\n",
       "</div>"
      ],
      "text/plain": [
       "                Open      High       Low     Close  Adj Close       Volume\n",
       "Date                                                                      \n",
       "1980-12-12  0.513393  0.515625  0.513393  0.513393   0.410525  117258400.0\n",
       "1980-12-15  0.488839  0.488839  0.486607  0.486607   0.389106   43971200.0\n",
       "1980-12-16  0.453125  0.453125  0.450893  0.450893   0.360548   26432000.0\n",
       "1980-12-17  0.462054  0.464286  0.462054  0.462054   0.369472   21610400.0\n",
       "1980-12-18  0.475446  0.477679  0.475446  0.475446   0.380182   18362400.0"
      ]
     },
     "execution_count": 38,
     "metadata": {},
     "output_type": "execute_result"
    }
   ],
   "source": [
    "import pandas as pd\n",
    "df = pd.read_csv('../data/AAPL.csv',index_col='Date', parse_dates=['Date'])\n",
    "df.head()"
   ]
  },
  {
   "cell_type": "code",
   "execution_count": 39,
   "metadata": {},
   "outputs": [
    {
     "name": "stdout",
     "output_type": "stream",
     "text": [
      "<class 'pandas.core.indexes.datetimes.DatetimeIndex'>\n",
      "<class 'pandas._libs.tslibs.timestamps.Timestamp'>\n"
     ]
    }
   ],
   "source": [
    "print(type(df.index))\n",
    "print(type(df.index[0]))"
   ]
  },
  {
   "cell_type": "markdown",
   "metadata": {},
   "source": [
    "열단위 출력"
   ]
  },
  {
   "cell_type": "code",
   "execution_count": 40,
   "metadata": {},
   "outputs": [
    {
     "data": {
      "text/plain": [
       "Date\n",
       "1980-12-12    0.513393\n",
       "1980-12-15    0.488839\n",
       "1980-12-16    0.453125\n",
       "1980-12-17    0.462054\n",
       "1980-12-18    0.475446\n",
       "Name: Open, dtype: float64"
      ]
     },
     "execution_count": 40,
     "metadata": {},
     "output_type": "execute_result"
    }
   ],
   "source": [
    "df['Open'].head()"
   ]
  },
  {
   "cell_type": "code",
   "execution_count": 3,
   "metadata": {},
   "outputs": [
    {
     "data": {
      "text/html": [
       "<div>\n",
       "<style scoped>\n",
       "    .dataframe tbody tr th:only-of-type {\n",
       "        vertical-align: middle;\n",
       "    }\n",
       "\n",
       "    .dataframe tbody tr th {\n",
       "        vertical-align: top;\n",
       "    }\n",
       "\n",
       "    .dataframe thead th {\n",
       "        text-align: right;\n",
       "    }\n",
       "</style>\n",
       "<table border=\"1\" class=\"dataframe\">\n",
       "  <thead>\n",
       "    <tr style=\"text-align: right;\">\n",
       "      <th></th>\n",
       "      <th>Open</th>\n",
       "      <th>High</th>\n",
       "    </tr>\n",
       "  </thead>\n",
       "  <tbody>\n",
       "    <tr>\n",
       "      <th>0</th>\n",
       "      <td>0.131696</td>\n",
       "      <td>0.140625</td>\n",
       "    </tr>\n",
       "    <tr>\n",
       "      <th>1</th>\n",
       "      <td>0.137277</td>\n",
       "      <td>0.138393</td>\n",
       "    </tr>\n",
       "    <tr>\n",
       "      <th>2</th>\n",
       "      <td>0.137835</td>\n",
       "      <td>0.147321</td>\n",
       "    </tr>\n",
       "    <tr>\n",
       "      <th>3</th>\n",
       "      <td>0.147321</td>\n",
       "      <td>0.154576</td>\n",
       "    </tr>\n",
       "    <tr>\n",
       "      <th>4</th>\n",
       "      <td>0.152344</td>\n",
       "      <td>0.155692</td>\n",
       "    </tr>\n",
       "    <tr>\n",
       "      <th>...</th>\n",
       "      <td>...</td>\n",
       "      <td>...</td>\n",
       "    </tr>\n",
       "    <tr>\n",
       "      <th>9829</th>\n",
       "      <td>172.699997</td>\n",
       "      <td>175.300003</td>\n",
       "    </tr>\n",
       "    <tr>\n",
       "      <th>9830</th>\n",
       "      <td>172.889999</td>\n",
       "      <td>174.139999</td>\n",
       "    </tr>\n",
       "    <tr>\n",
       "      <th>9831</th>\n",
       "      <td>169.080002</td>\n",
       "      <td>172.500000</td>\n",
       "    </tr>\n",
       "    <tr>\n",
       "      <th>9832</th>\n",
       "      <td>172.320007</td>\n",
       "      <td>175.179993</td>\n",
       "    </tr>\n",
       "    <tr>\n",
       "      <th>9833</th>\n",
       "      <td>176.119995</td>\n",
       "      <td>177.179993</td>\n",
       "    </tr>\n",
       "  </tbody>\n",
       "</table>\n",
       "<p>9834 rows × 2 columns</p>\n",
       "</div>"
      ],
      "text/plain": [
       "            Open        High\n",
       "0       0.131696    0.140625\n",
       "1       0.137277    0.138393\n",
       "2       0.137835    0.147321\n",
       "3       0.147321    0.154576\n",
       "4       0.152344    0.155692\n",
       "...          ...         ...\n",
       "9829  172.699997  175.300003\n",
       "9830  172.889999  174.139999\n",
       "9831  169.080002  172.500000\n",
       "9832  172.320007  175.179993\n",
       "9833  176.119995  177.179993\n",
       "\n",
       "[9834 rows x 2 columns]"
      ]
     },
     "execution_count": 3,
     "metadata": {},
     "output_type": "execute_result"
    }
   ],
   "source": [
    "df[['Open','High']]"
   ]
  },
  {
   "cell_type": "code",
   "execution_count": 42,
   "metadata": {},
   "outputs": [
    {
     "data": {
      "text/html": [
       "<div>\n",
       "<style scoped>\n",
       "    .dataframe tbody tr th:only-of-type {\n",
       "        vertical-align: middle;\n",
       "    }\n",
       "\n",
       "    .dataframe tbody tr th {\n",
       "        vertical-align: top;\n",
       "    }\n",
       "\n",
       "    .dataframe thead th {\n",
       "        text-align: right;\n",
       "    }\n",
       "</style>\n",
       "<table border=\"1\" class=\"dataframe\">\n",
       "  <thead>\n",
       "    <tr style=\"text-align: right;\">\n",
       "      <th></th>\n",
       "      <th>Open</th>\n",
       "      <th>High</th>\n",
       "      <th>Low</th>\n",
       "      <th>Close</th>\n",
       "    </tr>\n",
       "    <tr>\n",
       "      <th>Date</th>\n",
       "      <th></th>\n",
       "      <th></th>\n",
       "      <th></th>\n",
       "      <th></th>\n",
       "    </tr>\n",
       "  </thead>\n",
       "  <tbody>\n",
       "    <tr>\n",
       "      <th>1980-12-12</th>\n",
       "      <td>0.513393</td>\n",
       "      <td>0.515625</td>\n",
       "      <td>0.513393</td>\n",
       "      <td>0.513393</td>\n",
       "    </tr>\n",
       "    <tr>\n",
       "      <th>1980-12-15</th>\n",
       "      <td>0.488839</td>\n",
       "      <td>0.488839</td>\n",
       "      <td>0.486607</td>\n",
       "      <td>0.486607</td>\n",
       "    </tr>\n",
       "    <tr>\n",
       "      <th>1980-12-16</th>\n",
       "      <td>0.453125</td>\n",
       "      <td>0.453125</td>\n",
       "      <td>0.450893</td>\n",
       "      <td>0.450893</td>\n",
       "    </tr>\n",
       "    <tr>\n",
       "      <th>1980-12-17</th>\n",
       "      <td>0.462054</td>\n",
       "      <td>0.464286</td>\n",
       "      <td>0.462054</td>\n",
       "      <td>0.462054</td>\n",
       "    </tr>\n",
       "    <tr>\n",
       "      <th>1980-12-18</th>\n",
       "      <td>0.475446</td>\n",
       "      <td>0.477679</td>\n",
       "      <td>0.475446</td>\n",
       "      <td>0.475446</td>\n",
       "    </tr>\n",
       "  </tbody>\n",
       "</table>\n",
       "</div>"
      ],
      "text/plain": [
       "                Open      High       Low     Close\n",
       "Date                                              \n",
       "1980-12-12  0.513393  0.515625  0.513393  0.513393\n",
       "1980-12-15  0.488839  0.488839  0.486607  0.486607\n",
       "1980-12-16  0.453125  0.453125  0.450893  0.450893\n",
       "1980-12-17  0.462054  0.464286  0.462054  0.462054\n",
       "1980-12-18  0.475446  0.477679  0.475446  0.475446"
      ]
     },
     "execution_count": 42,
     "metadata": {},
     "output_type": "execute_result"
    }
   ],
   "source": [
    "df[['Open','High','Low','Close']].head()"
   ]
  },
  {
   "cell_type": "code",
   "execution_count": 43,
   "metadata": {},
   "outputs": [
    {
     "data": {
      "text/html": [
       "<div>\n",
       "<style scoped>\n",
       "    .dataframe tbody tr th:only-of-type {\n",
       "        vertical-align: middle;\n",
       "    }\n",
       "\n",
       "    .dataframe tbody tr th {\n",
       "        vertical-align: top;\n",
       "    }\n",
       "\n",
       "    .dataframe thead th {\n",
       "        text-align: right;\n",
       "    }\n",
       "</style>\n",
       "<table border=\"1\" class=\"dataframe\">\n",
       "  <thead>\n",
       "    <tr style=\"text-align: right;\">\n",
       "      <th></th>\n",
       "      <th>Open</th>\n",
       "      <th>High</th>\n",
       "      <th>Low</th>\n",
       "      <th>Close</th>\n",
       "      <th>Adj Close</th>\n",
       "      <th>Volume</th>\n",
       "    </tr>\n",
       "    <tr>\n",
       "      <th>Date</th>\n",
       "      <th></th>\n",
       "      <th></th>\n",
       "      <th></th>\n",
       "      <th></th>\n",
       "      <th></th>\n",
       "      <th></th>\n",
       "    </tr>\n",
       "  </thead>\n",
       "  <tbody>\n",
       "    <tr>\n",
       "      <th>1980-12-12</th>\n",
       "      <td>0.513393</td>\n",
       "      <td>0.515625</td>\n",
       "      <td>0.513393</td>\n",
       "      <td>0.513393</td>\n",
       "      <td>0.410525</td>\n",
       "      <td>117258400.0</td>\n",
       "    </tr>\n",
       "    <tr>\n",
       "      <th>1980-12-15</th>\n",
       "      <td>0.488839</td>\n",
       "      <td>0.488839</td>\n",
       "      <td>0.486607</td>\n",
       "      <td>0.486607</td>\n",
       "      <td>0.389106</td>\n",
       "      <td>43971200.0</td>\n",
       "    </tr>\n",
       "    <tr>\n",
       "      <th>1980-12-16</th>\n",
       "      <td>0.453125</td>\n",
       "      <td>0.453125</td>\n",
       "      <td>0.450893</td>\n",
       "      <td>0.450893</td>\n",
       "      <td>0.360548</td>\n",
       "      <td>26432000.0</td>\n",
       "    </tr>\n",
       "  </tbody>\n",
       "</table>\n",
       "</div>"
      ],
      "text/plain": [
       "                Open      High       Low     Close  Adj Close       Volume\n",
       "Date                                                                      \n",
       "1980-12-12  0.513393  0.515625  0.513393  0.513393   0.410525  117258400.0\n",
       "1980-12-15  0.488839  0.488839  0.486607  0.486607   0.389106   43971200.0\n",
       "1980-12-16  0.453125  0.453125  0.450893  0.450893   0.360548   26432000.0"
      ]
     },
     "execution_count": 43,
     "metadata": {},
     "output_type": "execute_result"
    }
   ],
   "source": [
    "df[0:3]"
   ]
  },
  {
   "cell_type": "code",
   "execution_count": 44,
   "metadata": {},
   "outputs": [
    {
     "data": {
      "text/html": [
       "<div>\n",
       "<style scoped>\n",
       "    .dataframe tbody tr th:only-of-type {\n",
       "        vertical-align: middle;\n",
       "    }\n",
       "\n",
       "    .dataframe tbody tr th {\n",
       "        vertical-align: top;\n",
       "    }\n",
       "\n",
       "    .dataframe thead th {\n",
       "        text-align: right;\n",
       "    }\n",
       "</style>\n",
       "<table border=\"1\" class=\"dataframe\">\n",
       "  <thead>\n",
       "    <tr style=\"text-align: right;\">\n",
       "      <th></th>\n",
       "      <th>Open</th>\n",
       "      <th>High</th>\n",
       "      <th>Low</th>\n",
       "      <th>Close</th>\n",
       "      <th>Adj Close</th>\n",
       "      <th>Volume</th>\n",
       "    </tr>\n",
       "    <tr>\n",
       "      <th>Date</th>\n",
       "      <th></th>\n",
       "      <th></th>\n",
       "      <th></th>\n",
       "      <th></th>\n",
       "      <th></th>\n",
       "      <th></th>\n",
       "    </tr>\n",
       "  </thead>\n",
       "  <tbody>\n",
       "    <tr>\n",
       "      <th>2018-10-10</th>\n",
       "      <td>225.460007</td>\n",
       "      <td>226.350006</td>\n",
       "      <td>216.050003</td>\n",
       "      <td>216.360001</td>\n",
       "      <td>213.863373</td>\n",
       "      <td>41990600.0</td>\n",
       "    </tr>\n",
       "    <tr>\n",
       "      <th>2018-10-11</th>\n",
       "      <td>214.520004</td>\n",
       "      <td>219.500000</td>\n",
       "      <td>212.320007</td>\n",
       "      <td>214.449997</td>\n",
       "      <td>211.975418</td>\n",
       "      <td>53124400.0</td>\n",
       "    </tr>\n",
       "    <tr>\n",
       "      <th>2018-10-12</th>\n",
       "      <td>220.419998</td>\n",
       "      <td>222.880005</td>\n",
       "      <td>216.839996</td>\n",
       "      <td>222.110001</td>\n",
       "      <td>219.547028</td>\n",
       "      <td>40337900.0</td>\n",
       "    </tr>\n",
       "    <tr>\n",
       "      <th>2018-10-15</th>\n",
       "      <td>221.160004</td>\n",
       "      <td>221.830002</td>\n",
       "      <td>217.270004</td>\n",
       "      <td>217.360001</td>\n",
       "      <td>214.851822</td>\n",
       "      <td>30791000.0</td>\n",
       "    </tr>\n",
       "    <tr>\n",
       "      <th>2018-10-16</th>\n",
       "      <td>218.929993</td>\n",
       "      <td>222.990005</td>\n",
       "      <td>216.759995</td>\n",
       "      <td>222.149994</td>\n",
       "      <td>219.586548</td>\n",
       "      <td>29184000.0</td>\n",
       "    </tr>\n",
       "    <tr>\n",
       "      <th>2018-10-17</th>\n",
       "      <td>222.300003</td>\n",
       "      <td>222.639999</td>\n",
       "      <td>219.339996</td>\n",
       "      <td>221.190002</td>\n",
       "      <td>218.637650</td>\n",
       "      <td>22885400.0</td>\n",
       "    </tr>\n",
       "    <tr>\n",
       "      <th>2018-10-18</th>\n",
       "      <td>217.860001</td>\n",
       "      <td>219.740005</td>\n",
       "      <td>213.000000</td>\n",
       "      <td>216.020004</td>\n",
       "      <td>213.527298</td>\n",
       "      <td>32581300.0</td>\n",
       "    </tr>\n",
       "    <tr>\n",
       "      <th>2018-10-19</th>\n",
       "      <td>218.059998</td>\n",
       "      <td>221.259995</td>\n",
       "      <td>217.429993</td>\n",
       "      <td>219.309998</td>\n",
       "      <td>216.779327</td>\n",
       "      <td>33078700.0</td>\n",
       "    </tr>\n",
       "  </tbody>\n",
       "</table>\n",
       "</div>"
      ],
      "text/plain": [
       "                  Open        High         Low       Close   Adj Close  \\\n",
       "Date                                                                     \n",
       "2018-10-10  225.460007  226.350006  216.050003  216.360001  213.863373   \n",
       "2018-10-11  214.520004  219.500000  212.320007  214.449997  211.975418   \n",
       "2018-10-12  220.419998  222.880005  216.839996  222.110001  219.547028   \n",
       "2018-10-15  221.160004  221.830002  217.270004  217.360001  214.851822   \n",
       "2018-10-16  218.929993  222.990005  216.759995  222.149994  219.586548   \n",
       "2018-10-17  222.300003  222.639999  219.339996  221.190002  218.637650   \n",
       "2018-10-18  217.860001  219.740005  213.000000  216.020004  213.527298   \n",
       "2018-10-19  218.059998  221.259995  217.429993  219.309998  216.779327   \n",
       "\n",
       "                Volume  \n",
       "Date                    \n",
       "2018-10-10  41990600.0  \n",
       "2018-10-11  53124400.0  \n",
       "2018-10-12  40337900.0  \n",
       "2018-10-15  30791000.0  \n",
       "2018-10-16  29184000.0  \n",
       "2018-10-17  22885400.0  \n",
       "2018-10-18  32581300.0  \n",
       "2018-10-19  33078700.0  "
      ]
     },
     "execution_count": 44,
     "metadata": {},
     "output_type": "execute_result"
    }
   ],
   "source": [
    "df['2018-10-10':'2018-10-20']"
   ]
  },
  {
   "cell_type": "code",
   "execution_count": 45,
   "metadata": {},
   "outputs": [
    {
     "data": {
      "text/html": [
       "<div>\n",
       "<style scoped>\n",
       "    .dataframe tbody tr th:only-of-type {\n",
       "        vertical-align: middle;\n",
       "    }\n",
       "\n",
       "    .dataframe tbody tr th {\n",
       "        vertical-align: top;\n",
       "    }\n",
       "\n",
       "    .dataframe thead th {\n",
       "        text-align: right;\n",
       "    }\n",
       "</style>\n",
       "<table border=\"1\" class=\"dataframe\">\n",
       "  <thead>\n",
       "    <tr style=\"text-align: right;\">\n",
       "      <th></th>\n",
       "      <th>Date</th>\n",
       "      <th>Open</th>\n",
       "      <th>High</th>\n",
       "      <th>Low</th>\n",
       "      <th>Close</th>\n",
       "      <th>Adj Close</th>\n",
       "      <th>Volume</th>\n",
       "    </tr>\n",
       "  </thead>\n",
       "  <tbody>\n",
       "    <tr>\n",
       "      <th>0</th>\n",
       "      <td>1980-12-12</td>\n",
       "      <td>0.513393</td>\n",
       "      <td>0.515625</td>\n",
       "      <td>0.513393</td>\n",
       "      <td>0.513393</td>\n",
       "      <td>0.410525</td>\n",
       "      <td>117258400.0</td>\n",
       "    </tr>\n",
       "    <tr>\n",
       "      <th>1</th>\n",
       "      <td>1980-12-15</td>\n",
       "      <td>0.488839</td>\n",
       "      <td>0.488839</td>\n",
       "      <td>0.486607</td>\n",
       "      <td>0.486607</td>\n",
       "      <td>0.389106</td>\n",
       "      <td>43971200.0</td>\n",
       "    </tr>\n",
       "    <tr>\n",
       "      <th>2</th>\n",
       "      <td>1980-12-16</td>\n",
       "      <td>0.453125</td>\n",
       "      <td>0.453125</td>\n",
       "      <td>0.450893</td>\n",
       "      <td>0.450893</td>\n",
       "      <td>0.360548</td>\n",
       "      <td>26432000.0</td>\n",
       "    </tr>\n",
       "    <tr>\n",
       "      <th>3</th>\n",
       "      <td>1980-12-17</td>\n",
       "      <td>0.462054</td>\n",
       "      <td>0.464286</td>\n",
       "      <td>0.462054</td>\n",
       "      <td>0.462054</td>\n",
       "      <td>0.369472</td>\n",
       "      <td>21610400.0</td>\n",
       "    </tr>\n",
       "    <tr>\n",
       "      <th>4</th>\n",
       "      <td>1980-12-18</td>\n",
       "      <td>0.475446</td>\n",
       "      <td>0.477679</td>\n",
       "      <td>0.475446</td>\n",
       "      <td>0.475446</td>\n",
       "      <td>0.380182</td>\n",
       "      <td>18362400.0</td>\n",
       "    </tr>\n",
       "  </tbody>\n",
       "</table>\n",
       "</div>"
      ],
      "text/plain": [
       "         Date      Open      High       Low     Close  Adj Close       Volume\n",
       "0  1980-12-12  0.513393  0.515625  0.513393  0.513393   0.410525  117258400.0\n",
       "1  1980-12-15  0.488839  0.488839  0.486607  0.486607   0.389106   43971200.0\n",
       "2  1980-12-16  0.453125  0.453125  0.450893  0.450893   0.360548   26432000.0\n",
       "3  1980-12-17  0.462054  0.464286  0.462054  0.462054   0.369472   21610400.0\n",
       "4  1980-12-18  0.475446  0.477679  0.475446  0.475446   0.380182   18362400.0"
      ]
     },
     "execution_count": 45,
     "metadata": {},
     "output_type": "execute_result"
    }
   ],
   "source": [
    "import pandas as pd\n",
    "df = pd.read_csv('../data/us_etf_data/AAPL.csv')\n",
    "df.head()"
   ]
  },
  {
   "cell_type": "code",
   "execution_count": 46,
   "metadata": {},
   "outputs": [
    {
     "name": "stdout",
     "output_type": "stream",
     "text": [
      "<class 'pandas.core.indexes.range.RangeIndex'>\n",
      "<class 'int'>\n"
     ]
    }
   ],
   "source": [
    "print(type(df.index))\n",
    "print(type(df.index[0]))"
   ]
  },
  {
   "cell_type": "markdown",
   "metadata": {},
   "source": [
    "#### loc와 iloc 인덱서"
   ]
  },
  {
   "cell_type": "markdown",
   "metadata": {},
   "source": [
    "행 데이터 출력"
   ]
  },
  {
   "cell_type": "code",
   "execution_count": 47,
   "metadata": {},
   "outputs": [
    {
     "data": {
      "text/plain": [
       "Open         5.133930e-01\n",
       "High         5.156250e-01\n",
       "Low          5.133930e-01\n",
       "Close        5.133930e-01\n",
       "Adj Close    4.105250e-01\n",
       "Volume       1.172584e+08\n",
       "Name: 1980-12-12 00:00:00, dtype: float64"
      ]
     },
     "execution_count": 47,
     "metadata": {},
     "output_type": "execute_result"
    }
   ],
   "source": [
    "df = pd.read_csv('../data/us_etf_data/AAPL.csv',index_col='Date', parse_dates=['Date'])\n",
    "df.loc['1980-12-12']"
   ]
  },
  {
   "cell_type": "code",
   "execution_count": 48,
   "metadata": {},
   "outputs": [
    {
     "data": {
      "text/plain": [
       "Open         5.133930e-01\n",
       "High         5.156250e-01\n",
       "Low          5.133930e-01\n",
       "Close        5.133930e-01\n",
       "Adj Close    4.105250e-01\n",
       "Volume       1.172584e+08\n",
       "Name: 1980-12-12 00:00:00, dtype: float64"
      ]
     },
     "execution_count": 48,
     "metadata": {},
     "output_type": "execute_result"
    }
   ],
   "source": [
    "df.iloc[0]"
   ]
  },
  {
   "cell_type": "code",
   "execution_count": 49,
   "metadata": {},
   "outputs": [
    {
     "data": {
      "text/plain": [
       "pandas.core.series.Series"
      ]
     },
     "execution_count": 49,
     "metadata": {},
     "output_type": "execute_result"
    }
   ],
   "source": [
    "type(df.loc['1980-12-12'])"
   ]
  },
  {
   "cell_type": "code",
   "execution_count": 50,
   "metadata": {},
   "outputs": [
    {
     "data": {
      "text/plain": [
       "False"
      ]
     },
     "execution_count": 50,
     "metadata": {},
     "output_type": "execute_result"
    }
   ],
   "source": [
    "df.index[0] == '1980-12-12'"
   ]
  },
  {
   "cell_type": "code",
   "execution_count": 51,
   "metadata": {},
   "outputs": [
    {
     "ename": "KeyError",
     "evalue": "\"None of [Index(['2018-10-10', '2018-10-12'], dtype='object', name='Date')] are in the [index]\"",
     "output_type": "error",
     "traceback": [
      "\u001b[1;31m---------------------------------------------------------------------------\u001b[0m",
      "\u001b[1;31mKeyError\u001b[0m                                  Traceback (most recent call last)",
      "\u001b[1;32m<ipython-input-51-f0f7ced4fa3b>\u001b[0m in \u001b[0;36m<module>\u001b[1;34m\u001b[0m\n\u001b[0;32m      1\u001b[0m \u001b[1;31m# Key Error 발생. Key값이 일치 하지 않기 때문이다.\u001b[0m\u001b[1;33m\u001b[0m\u001b[1;33m\u001b[0m\u001b[1;33m\u001b[0m\u001b[0m\n\u001b[1;32m----> 2\u001b[1;33m \u001b[0mdf\u001b[0m\u001b[1;33m.\u001b[0m\u001b[0mloc\u001b[0m\u001b[1;33m[\u001b[0m\u001b[1;33m[\u001b[0m\u001b[1;34m'2018-10-10'\u001b[0m\u001b[1;33m,\u001b[0m\u001b[1;34m'2018-10-12'\u001b[0m\u001b[1;33m]\u001b[0m\u001b[1;33m,\u001b[0m\u001b[1;34m'Open'\u001b[0m\u001b[1;33m]\u001b[0m\u001b[1;33m\u001b[0m\u001b[1;33m\u001b[0m\u001b[0m\n\u001b[0m",
      "\u001b[1;32m~\\Anaconda3\\envs\\py36\\lib\\site-packages\\pandas\\core\\indexing.py\u001b[0m in \u001b[0;36m__getitem__\u001b[1;34m(self, key)\u001b[0m\n\u001b[0;32m   1760\u001b[0m                 \u001b[1;32mexcept\u001b[0m \u001b[1;33m(\u001b[0m\u001b[0mKeyError\u001b[0m\u001b[1;33m,\u001b[0m \u001b[0mIndexError\u001b[0m\u001b[1;33m,\u001b[0m \u001b[0mAttributeError\u001b[0m\u001b[1;33m)\u001b[0m\u001b[1;33m:\u001b[0m\u001b[1;33m\u001b[0m\u001b[1;33m\u001b[0m\u001b[0m\n\u001b[0;32m   1761\u001b[0m                     \u001b[1;32mpass\u001b[0m\u001b[1;33m\u001b[0m\u001b[1;33m\u001b[0m\u001b[0m\n\u001b[1;32m-> 1762\u001b[1;33m             \u001b[1;32mreturn\u001b[0m \u001b[0mself\u001b[0m\u001b[1;33m.\u001b[0m\u001b[0m_getitem_tuple\u001b[0m\u001b[1;33m(\u001b[0m\u001b[0mkey\u001b[0m\u001b[1;33m)\u001b[0m\u001b[1;33m\u001b[0m\u001b[1;33m\u001b[0m\u001b[0m\n\u001b[0m\u001b[0;32m   1763\u001b[0m         \u001b[1;32melse\u001b[0m\u001b[1;33m:\u001b[0m\u001b[1;33m\u001b[0m\u001b[1;33m\u001b[0m\u001b[0m\n\u001b[0;32m   1764\u001b[0m             \u001b[1;31m# we by definition only have the 0th axis\u001b[0m\u001b[1;33m\u001b[0m\u001b[1;33m\u001b[0m\u001b[1;33m\u001b[0m\u001b[0m\n",
      "\u001b[1;32m~\\Anaconda3\\envs\\py36\\lib\\site-packages\\pandas\\core\\indexing.py\u001b[0m in \u001b[0;36m_getitem_tuple\u001b[1;34m(self, tup)\u001b[0m\n\u001b[0;32m   1270\u001b[0m     \u001b[1;32mdef\u001b[0m \u001b[0m_getitem_tuple\u001b[0m\u001b[1;33m(\u001b[0m\u001b[0mself\u001b[0m\u001b[1;33m,\u001b[0m \u001b[0mtup\u001b[0m\u001b[1;33m:\u001b[0m \u001b[0mTuple\u001b[0m\u001b[1;33m)\u001b[0m\u001b[1;33m:\u001b[0m\u001b[1;33m\u001b[0m\u001b[1;33m\u001b[0m\u001b[0m\n\u001b[0;32m   1271\u001b[0m         \u001b[1;32mtry\u001b[0m\u001b[1;33m:\u001b[0m\u001b[1;33m\u001b[0m\u001b[1;33m\u001b[0m\u001b[0m\n\u001b[1;32m-> 1272\u001b[1;33m             \u001b[1;32mreturn\u001b[0m \u001b[0mself\u001b[0m\u001b[1;33m.\u001b[0m\u001b[0m_getitem_lowerdim\u001b[0m\u001b[1;33m(\u001b[0m\u001b[0mtup\u001b[0m\u001b[1;33m)\u001b[0m\u001b[1;33m\u001b[0m\u001b[1;33m\u001b[0m\u001b[0m\n\u001b[0m\u001b[0;32m   1273\u001b[0m         \u001b[1;32mexcept\u001b[0m \u001b[0mIndexingError\u001b[0m\u001b[1;33m:\u001b[0m\u001b[1;33m\u001b[0m\u001b[1;33m\u001b[0m\u001b[0m\n\u001b[0;32m   1274\u001b[0m             \u001b[1;32mpass\u001b[0m\u001b[1;33m\u001b[0m\u001b[1;33m\u001b[0m\u001b[0m\n",
      "\u001b[1;32m~\\Anaconda3\\envs\\py36\\lib\\site-packages\\pandas\\core\\indexing.py\u001b[0m in \u001b[0;36m_getitem_lowerdim\u001b[1;34m(self, tup)\u001b[0m\n\u001b[0;32m   1419\u001b[0m                     \u001b[1;32mreturn\u001b[0m \u001b[0msection\u001b[0m\u001b[1;33m\u001b[0m\u001b[1;33m\u001b[0m\u001b[0m\n\u001b[0;32m   1420\u001b[0m                 \u001b[1;31m# This is an elided recursive call to iloc/loc/etc'\u001b[0m\u001b[1;33m\u001b[0m\u001b[1;33m\u001b[0m\u001b[1;33m\u001b[0m\u001b[0m\n\u001b[1;32m-> 1421\u001b[1;33m                 \u001b[1;32mreturn\u001b[0m \u001b[0mgetattr\u001b[0m\u001b[1;33m(\u001b[0m\u001b[0msection\u001b[0m\u001b[1;33m,\u001b[0m \u001b[0mself\u001b[0m\u001b[1;33m.\u001b[0m\u001b[0mname\u001b[0m\u001b[1;33m)\u001b[0m\u001b[1;33m[\u001b[0m\u001b[0mnew_key\u001b[0m\u001b[1;33m]\u001b[0m\u001b[1;33m\u001b[0m\u001b[1;33m\u001b[0m\u001b[0m\n\u001b[0m\u001b[0;32m   1422\u001b[0m \u001b[1;33m\u001b[0m\u001b[0m\n\u001b[0;32m   1423\u001b[0m         \u001b[1;32mraise\u001b[0m \u001b[0mIndexingError\u001b[0m\u001b[1;33m(\u001b[0m\u001b[1;34m\"not applicable\"\u001b[0m\u001b[1;33m)\u001b[0m\u001b[1;33m\u001b[0m\u001b[1;33m\u001b[0m\u001b[0m\n",
      "\u001b[1;32m~\\Anaconda3\\envs\\py36\\lib\\site-packages\\pandas\\core\\indexing.py\u001b[0m in \u001b[0;36m__getitem__\u001b[1;34m(self, key)\u001b[0m\n\u001b[0;32m   1766\u001b[0m \u001b[1;33m\u001b[0m\u001b[0m\n\u001b[0;32m   1767\u001b[0m             \u001b[0mmaybe_callable\u001b[0m \u001b[1;33m=\u001b[0m \u001b[0mcom\u001b[0m\u001b[1;33m.\u001b[0m\u001b[0mapply_if_callable\u001b[0m\u001b[1;33m(\u001b[0m\u001b[0mkey\u001b[0m\u001b[1;33m,\u001b[0m \u001b[0mself\u001b[0m\u001b[1;33m.\u001b[0m\u001b[0mobj\u001b[0m\u001b[1;33m)\u001b[0m\u001b[1;33m\u001b[0m\u001b[1;33m\u001b[0m\u001b[0m\n\u001b[1;32m-> 1768\u001b[1;33m             \u001b[1;32mreturn\u001b[0m \u001b[0mself\u001b[0m\u001b[1;33m.\u001b[0m\u001b[0m_getitem_axis\u001b[0m\u001b[1;33m(\u001b[0m\u001b[0mmaybe_callable\u001b[0m\u001b[1;33m,\u001b[0m \u001b[0maxis\u001b[0m\u001b[1;33m=\u001b[0m\u001b[0maxis\u001b[0m\u001b[1;33m)\u001b[0m\u001b[1;33m\u001b[0m\u001b[1;33m\u001b[0m\u001b[0m\n\u001b[0m\u001b[0;32m   1769\u001b[0m \u001b[1;33m\u001b[0m\u001b[0m\n\u001b[0;32m   1770\u001b[0m     \u001b[1;32mdef\u001b[0m \u001b[0m_is_scalar_access\u001b[0m\u001b[1;33m(\u001b[0m\u001b[0mself\u001b[0m\u001b[1;33m,\u001b[0m \u001b[0mkey\u001b[0m\u001b[1;33m:\u001b[0m \u001b[0mTuple\u001b[0m\u001b[1;33m)\u001b[0m\u001b[1;33m:\u001b[0m\u001b[1;33m\u001b[0m\u001b[1;33m\u001b[0m\u001b[0m\n",
      "\u001b[1;32m~\\Anaconda3\\envs\\py36\\lib\\site-packages\\pandas\\core\\indexing.py\u001b[0m in \u001b[0;36m_getitem_axis\u001b[1;34m(self, key, axis)\u001b[0m\n\u001b[0;32m   1952\u001b[0m                     \u001b[1;32mraise\u001b[0m \u001b[0mValueError\u001b[0m\u001b[1;33m(\u001b[0m\u001b[1;34m\"Cannot index with multidimensional key\"\u001b[0m\u001b[1;33m)\u001b[0m\u001b[1;33m\u001b[0m\u001b[1;33m\u001b[0m\u001b[0m\n\u001b[0;32m   1953\u001b[0m \u001b[1;33m\u001b[0m\u001b[0m\n\u001b[1;32m-> 1954\u001b[1;33m                 \u001b[1;32mreturn\u001b[0m \u001b[0mself\u001b[0m\u001b[1;33m.\u001b[0m\u001b[0m_getitem_iterable\u001b[0m\u001b[1;33m(\u001b[0m\u001b[0mkey\u001b[0m\u001b[1;33m,\u001b[0m \u001b[0maxis\u001b[0m\u001b[1;33m=\u001b[0m\u001b[0maxis\u001b[0m\u001b[1;33m)\u001b[0m\u001b[1;33m\u001b[0m\u001b[1;33m\u001b[0m\u001b[0m\n\u001b[0m\u001b[0;32m   1955\u001b[0m \u001b[1;33m\u001b[0m\u001b[0m\n\u001b[0;32m   1956\u001b[0m             \u001b[1;31m# nested tuple slicing\u001b[0m\u001b[1;33m\u001b[0m\u001b[1;33m\u001b[0m\u001b[1;33m\u001b[0m\u001b[0m\n",
      "\u001b[1;32m~\\Anaconda3\\envs\\py36\\lib\\site-packages\\pandas\\core\\indexing.py\u001b[0m in \u001b[0;36m_getitem_iterable\u001b[1;34m(self, key, axis)\u001b[0m\n\u001b[0;32m   1593\u001b[0m         \u001b[1;32melse\u001b[0m\u001b[1;33m:\u001b[0m\u001b[1;33m\u001b[0m\u001b[1;33m\u001b[0m\u001b[0m\n\u001b[0;32m   1594\u001b[0m             \u001b[1;31m# A collection of keys\u001b[0m\u001b[1;33m\u001b[0m\u001b[1;33m\u001b[0m\u001b[1;33m\u001b[0m\u001b[0m\n\u001b[1;32m-> 1595\u001b[1;33m             \u001b[0mkeyarr\u001b[0m\u001b[1;33m,\u001b[0m \u001b[0mindexer\u001b[0m \u001b[1;33m=\u001b[0m \u001b[0mself\u001b[0m\u001b[1;33m.\u001b[0m\u001b[0m_get_listlike_indexer\u001b[0m\u001b[1;33m(\u001b[0m\u001b[0mkey\u001b[0m\u001b[1;33m,\u001b[0m \u001b[0maxis\u001b[0m\u001b[1;33m,\u001b[0m \u001b[0mraise_missing\u001b[0m\u001b[1;33m=\u001b[0m\u001b[1;32mFalse\u001b[0m\u001b[1;33m)\u001b[0m\u001b[1;33m\u001b[0m\u001b[1;33m\u001b[0m\u001b[0m\n\u001b[0m\u001b[0;32m   1596\u001b[0m             return self.obj._reindex_with_indexers(\n\u001b[0;32m   1597\u001b[0m                 \u001b[1;33m{\u001b[0m\u001b[0maxis\u001b[0m\u001b[1;33m:\u001b[0m \u001b[1;33m[\u001b[0m\u001b[0mkeyarr\u001b[0m\u001b[1;33m,\u001b[0m \u001b[0mindexer\u001b[0m\u001b[1;33m]\u001b[0m\u001b[1;33m}\u001b[0m\u001b[1;33m,\u001b[0m \u001b[0mcopy\u001b[0m\u001b[1;33m=\u001b[0m\u001b[1;32mTrue\u001b[0m\u001b[1;33m,\u001b[0m \u001b[0mallow_dups\u001b[0m\u001b[1;33m=\u001b[0m\u001b[1;32mTrue\u001b[0m\u001b[1;33m\u001b[0m\u001b[1;33m\u001b[0m\u001b[0m\n",
      "\u001b[1;32m~\\Anaconda3\\envs\\py36\\lib\\site-packages\\pandas\\core\\indexing.py\u001b[0m in \u001b[0;36m_get_listlike_indexer\u001b[1;34m(self, key, axis, raise_missing)\u001b[0m\n\u001b[0;32m   1551\u001b[0m \u001b[1;33m\u001b[0m\u001b[0m\n\u001b[0;32m   1552\u001b[0m         self._validate_read_indexer(\n\u001b[1;32m-> 1553\u001b[1;33m             \u001b[0mkeyarr\u001b[0m\u001b[1;33m,\u001b[0m \u001b[0mindexer\u001b[0m\u001b[1;33m,\u001b[0m \u001b[0mo\u001b[0m\u001b[1;33m.\u001b[0m\u001b[0m_get_axis_number\u001b[0m\u001b[1;33m(\u001b[0m\u001b[0maxis\u001b[0m\u001b[1;33m)\u001b[0m\u001b[1;33m,\u001b[0m \u001b[0mraise_missing\u001b[0m\u001b[1;33m=\u001b[0m\u001b[0mraise_missing\u001b[0m\u001b[1;33m\u001b[0m\u001b[1;33m\u001b[0m\u001b[0m\n\u001b[0m\u001b[0;32m   1554\u001b[0m         )\n\u001b[0;32m   1555\u001b[0m         \u001b[1;32mreturn\u001b[0m \u001b[0mkeyarr\u001b[0m\u001b[1;33m,\u001b[0m \u001b[0mindexer\u001b[0m\u001b[1;33m\u001b[0m\u001b[1;33m\u001b[0m\u001b[0m\n",
      "\u001b[1;32m~\\Anaconda3\\envs\\py36\\lib\\site-packages\\pandas\\core\\indexing.py\u001b[0m in \u001b[0;36m_validate_read_indexer\u001b[1;34m(self, key, indexer, axis, raise_missing)\u001b[0m\n\u001b[0;32m   1638\u001b[0m             \u001b[1;32mif\u001b[0m \u001b[0mmissing\u001b[0m \u001b[1;33m==\u001b[0m \u001b[0mlen\u001b[0m\u001b[1;33m(\u001b[0m\u001b[0mindexer\u001b[0m\u001b[1;33m)\u001b[0m\u001b[1;33m:\u001b[0m\u001b[1;33m\u001b[0m\u001b[1;33m\u001b[0m\u001b[0m\n\u001b[0;32m   1639\u001b[0m                 \u001b[0maxis_name\u001b[0m \u001b[1;33m=\u001b[0m \u001b[0mself\u001b[0m\u001b[1;33m.\u001b[0m\u001b[0mobj\u001b[0m\u001b[1;33m.\u001b[0m\u001b[0m_get_axis_name\u001b[0m\u001b[1;33m(\u001b[0m\u001b[0maxis\u001b[0m\u001b[1;33m)\u001b[0m\u001b[1;33m\u001b[0m\u001b[1;33m\u001b[0m\u001b[0m\n\u001b[1;32m-> 1640\u001b[1;33m                 \u001b[1;32mraise\u001b[0m \u001b[0mKeyError\u001b[0m\u001b[1;33m(\u001b[0m\u001b[1;34mf\"None of [{key}] are in the [{axis_name}]\"\u001b[0m\u001b[1;33m)\u001b[0m\u001b[1;33m\u001b[0m\u001b[1;33m\u001b[0m\u001b[0m\n\u001b[0m\u001b[0;32m   1641\u001b[0m \u001b[1;33m\u001b[0m\u001b[0m\n\u001b[0;32m   1642\u001b[0m             \u001b[1;31m# We (temporarily) allow for some missing keys with .loc, except in\u001b[0m\u001b[1;33m\u001b[0m\u001b[1;33m\u001b[0m\u001b[1;33m\u001b[0m\u001b[0m\n",
      "\u001b[1;31mKeyError\u001b[0m: \"None of [Index(['2018-10-10', '2018-10-12'], dtype='object', name='Date')] are in the [index]\""
     ]
    }
   ],
   "source": [
    "# Key Error 발생. Key값이 일치 하지 않기 때문이다.\n",
    "df.loc[['2018-10-10','2018-10-12'],'Open'] "
   ]
  },
  {
   "cell_type": "code",
   "execution_count": 52,
   "metadata": {},
   "outputs": [
    {
     "ename": "TypeError",
     "evalue": "Cannot convert input [['2018-10-10', '2018-10-12']] of type <class 'list'> to Timestamp",
     "output_type": "error",
     "traceback": [
      "\u001b[1;31m---------------------------------------------------------------------------\u001b[0m",
      "\u001b[1;31mTypeError\u001b[0m                                 Traceback (most recent call last)",
      "\u001b[1;32m~\\Anaconda3\\envs\\py36\\lib\\site-packages\\pandas\\core\\indexes\\datetimes.py\u001b[0m in \u001b[0;36mget_loc\u001b[1;34m(self, key, method, tolerance)\u001b[0m\n\u001b[0;32m    714\u001b[0m         \u001b[1;32mtry\u001b[0m\u001b[1;33m:\u001b[0m\u001b[1;33m\u001b[0m\u001b[1;33m\u001b[0m\u001b[0m\n\u001b[1;32m--> 715\u001b[1;33m             \u001b[1;32mreturn\u001b[0m \u001b[0mIndex\u001b[0m\u001b[1;33m.\u001b[0m\u001b[0mget_loc\u001b[0m\u001b[1;33m(\u001b[0m\u001b[0mself\u001b[0m\u001b[1;33m,\u001b[0m \u001b[0mkey\u001b[0m\u001b[1;33m,\u001b[0m \u001b[0mmethod\u001b[0m\u001b[1;33m,\u001b[0m \u001b[0mtolerance\u001b[0m\u001b[1;33m)\u001b[0m\u001b[1;33m\u001b[0m\u001b[1;33m\u001b[0m\u001b[0m\n\u001b[0m\u001b[0;32m    716\u001b[0m         \u001b[1;32mexcept\u001b[0m \u001b[1;33m(\u001b[0m\u001b[0mKeyError\u001b[0m\u001b[1;33m,\u001b[0m \u001b[0mValueError\u001b[0m\u001b[1;33m,\u001b[0m \u001b[0mTypeError\u001b[0m\u001b[1;33m)\u001b[0m\u001b[1;33m:\u001b[0m\u001b[1;33m\u001b[0m\u001b[1;33m\u001b[0m\u001b[0m\n",
      "\u001b[1;32m~\\Anaconda3\\envs\\py36\\lib\\site-packages\\pandas\\core\\indexes\\base.py\u001b[0m in \u001b[0;36mget_loc\u001b[1;34m(self, key, method, tolerance)\u001b[0m\n\u001b[0;32m   2645\u001b[0m             \u001b[1;32mtry\u001b[0m\u001b[1;33m:\u001b[0m\u001b[1;33m\u001b[0m\u001b[1;33m\u001b[0m\u001b[0m\n\u001b[1;32m-> 2646\u001b[1;33m                 \u001b[1;32mreturn\u001b[0m \u001b[0mself\u001b[0m\u001b[1;33m.\u001b[0m\u001b[0m_engine\u001b[0m\u001b[1;33m.\u001b[0m\u001b[0mget_loc\u001b[0m\u001b[1;33m(\u001b[0m\u001b[0mkey\u001b[0m\u001b[1;33m)\u001b[0m\u001b[1;33m\u001b[0m\u001b[1;33m\u001b[0m\u001b[0m\n\u001b[0m\u001b[0;32m   2647\u001b[0m             \u001b[1;32mexcept\u001b[0m \u001b[0mKeyError\u001b[0m\u001b[1;33m:\u001b[0m\u001b[1;33m\u001b[0m\u001b[1;33m\u001b[0m\u001b[0m\n",
      "\u001b[1;32mpandas\\_libs\\index.pyx\u001b[0m in \u001b[0;36mpandas._libs.index.DatetimeEngine.get_loc\u001b[1;34m()\u001b[0m\n",
      "\u001b[1;32mpandas\\_libs\\index.pyx\u001b[0m in \u001b[0;36mpandas._libs.index.DatetimeEngine.get_loc\u001b[1;34m()\u001b[0m\n",
      "\u001b[1;31mTypeError\u001b[0m: ",
      "\nDuring handling of the above exception, another exception occurred:\n",
      "\u001b[1;31mTypeError\u001b[0m                                 Traceback (most recent call last)",
      "\u001b[1;32m<ipython-input-52-94fa097c8b23>\u001b[0m in \u001b[0;36m<module>\u001b[1;34m\u001b[0m\n\u001b[0;32m      1\u001b[0m \u001b[1;31m# Type Error 발생. DataFrame에서 처리할 수 있는 Type으로 변환되지 않기 때문이다.\u001b[0m\u001b[1;33m\u001b[0m\u001b[1;33m\u001b[0m\u001b[1;33m\u001b[0m\u001b[0m\n\u001b[1;32m----> 2\u001b[1;33m \u001b[0mdf\u001b[0m\u001b[1;33m.\u001b[0m\u001b[0mloc\u001b[0m\u001b[1;33m[\u001b[0m\u001b[1;33m[\u001b[0m\u001b[1;34m'2018-10-10'\u001b[0m\u001b[1;33m,\u001b[0m\u001b[1;34m'2018-10-12'\u001b[0m\u001b[1;33m]\u001b[0m\u001b[1;33m:\u001b[0m\u001b[1;34m'2018-10-20'\u001b[0m\u001b[1;33m,\u001b[0m\u001b[1;34m'Open'\u001b[0m\u001b[1;33m]\u001b[0m\u001b[1;33m\u001b[0m\u001b[1;33m\u001b[0m\u001b[0m\n\u001b[0m",
      "\u001b[1;32m~\\Anaconda3\\envs\\py36\\lib\\site-packages\\pandas\\core\\indexing.py\u001b[0m in \u001b[0;36m__getitem__\u001b[1;34m(self, key)\u001b[0m\n\u001b[0;32m   1760\u001b[0m                 \u001b[1;32mexcept\u001b[0m \u001b[1;33m(\u001b[0m\u001b[0mKeyError\u001b[0m\u001b[1;33m,\u001b[0m \u001b[0mIndexError\u001b[0m\u001b[1;33m,\u001b[0m \u001b[0mAttributeError\u001b[0m\u001b[1;33m)\u001b[0m\u001b[1;33m:\u001b[0m\u001b[1;33m\u001b[0m\u001b[1;33m\u001b[0m\u001b[0m\n\u001b[0;32m   1761\u001b[0m                     \u001b[1;32mpass\u001b[0m\u001b[1;33m\u001b[0m\u001b[1;33m\u001b[0m\u001b[0m\n\u001b[1;32m-> 1762\u001b[1;33m             \u001b[1;32mreturn\u001b[0m \u001b[0mself\u001b[0m\u001b[1;33m.\u001b[0m\u001b[0m_getitem_tuple\u001b[0m\u001b[1;33m(\u001b[0m\u001b[0mkey\u001b[0m\u001b[1;33m)\u001b[0m\u001b[1;33m\u001b[0m\u001b[1;33m\u001b[0m\u001b[0m\n\u001b[0m\u001b[0;32m   1763\u001b[0m         \u001b[1;32melse\u001b[0m\u001b[1;33m:\u001b[0m\u001b[1;33m\u001b[0m\u001b[1;33m\u001b[0m\u001b[0m\n\u001b[0;32m   1764\u001b[0m             \u001b[1;31m# we by definition only have the 0th axis\u001b[0m\u001b[1;33m\u001b[0m\u001b[1;33m\u001b[0m\u001b[1;33m\u001b[0m\u001b[0m\n",
      "\u001b[1;32m~\\Anaconda3\\envs\\py36\\lib\\site-packages\\pandas\\core\\indexing.py\u001b[0m in \u001b[0;36m_getitem_tuple\u001b[1;34m(self, tup)\u001b[0m\n\u001b[0;32m   1270\u001b[0m     \u001b[1;32mdef\u001b[0m \u001b[0m_getitem_tuple\u001b[0m\u001b[1;33m(\u001b[0m\u001b[0mself\u001b[0m\u001b[1;33m,\u001b[0m \u001b[0mtup\u001b[0m\u001b[1;33m:\u001b[0m \u001b[0mTuple\u001b[0m\u001b[1;33m)\u001b[0m\u001b[1;33m:\u001b[0m\u001b[1;33m\u001b[0m\u001b[1;33m\u001b[0m\u001b[0m\n\u001b[0;32m   1271\u001b[0m         \u001b[1;32mtry\u001b[0m\u001b[1;33m:\u001b[0m\u001b[1;33m\u001b[0m\u001b[1;33m\u001b[0m\u001b[0m\n\u001b[1;32m-> 1272\u001b[1;33m             \u001b[1;32mreturn\u001b[0m \u001b[0mself\u001b[0m\u001b[1;33m.\u001b[0m\u001b[0m_getitem_lowerdim\u001b[0m\u001b[1;33m(\u001b[0m\u001b[0mtup\u001b[0m\u001b[1;33m)\u001b[0m\u001b[1;33m\u001b[0m\u001b[1;33m\u001b[0m\u001b[0m\n\u001b[0m\u001b[0;32m   1273\u001b[0m         \u001b[1;32mexcept\u001b[0m \u001b[0mIndexingError\u001b[0m\u001b[1;33m:\u001b[0m\u001b[1;33m\u001b[0m\u001b[1;33m\u001b[0m\u001b[0m\n\u001b[0;32m   1274\u001b[0m             \u001b[1;32mpass\u001b[0m\u001b[1;33m\u001b[0m\u001b[1;33m\u001b[0m\u001b[0m\n",
      "\u001b[1;32m~\\Anaconda3\\envs\\py36\\lib\\site-packages\\pandas\\core\\indexing.py\u001b[0m in \u001b[0;36m_getitem_lowerdim\u001b[1;34m(self, tup)\u001b[0m\n\u001b[0;32m   1419\u001b[0m                     \u001b[1;32mreturn\u001b[0m \u001b[0msection\u001b[0m\u001b[1;33m\u001b[0m\u001b[1;33m\u001b[0m\u001b[0m\n\u001b[0;32m   1420\u001b[0m                 \u001b[1;31m# This is an elided recursive call to iloc/loc/etc'\u001b[0m\u001b[1;33m\u001b[0m\u001b[1;33m\u001b[0m\u001b[1;33m\u001b[0m\u001b[0m\n\u001b[1;32m-> 1421\u001b[1;33m                 \u001b[1;32mreturn\u001b[0m \u001b[0mgetattr\u001b[0m\u001b[1;33m(\u001b[0m\u001b[0msection\u001b[0m\u001b[1;33m,\u001b[0m \u001b[0mself\u001b[0m\u001b[1;33m.\u001b[0m\u001b[0mname\u001b[0m\u001b[1;33m)\u001b[0m\u001b[1;33m[\u001b[0m\u001b[0mnew_key\u001b[0m\u001b[1;33m]\u001b[0m\u001b[1;33m\u001b[0m\u001b[1;33m\u001b[0m\u001b[0m\n\u001b[0m\u001b[0;32m   1422\u001b[0m \u001b[1;33m\u001b[0m\u001b[0m\n\u001b[0;32m   1423\u001b[0m         \u001b[1;32mraise\u001b[0m \u001b[0mIndexingError\u001b[0m\u001b[1;33m(\u001b[0m\u001b[1;34m\"not applicable\"\u001b[0m\u001b[1;33m)\u001b[0m\u001b[1;33m\u001b[0m\u001b[1;33m\u001b[0m\u001b[0m\n",
      "\u001b[1;32m~\\Anaconda3\\envs\\py36\\lib\\site-packages\\pandas\\core\\indexing.py\u001b[0m in \u001b[0;36m__getitem__\u001b[1;34m(self, key)\u001b[0m\n\u001b[0;32m   1766\u001b[0m \u001b[1;33m\u001b[0m\u001b[0m\n\u001b[0;32m   1767\u001b[0m             \u001b[0mmaybe_callable\u001b[0m \u001b[1;33m=\u001b[0m \u001b[0mcom\u001b[0m\u001b[1;33m.\u001b[0m\u001b[0mapply_if_callable\u001b[0m\u001b[1;33m(\u001b[0m\u001b[0mkey\u001b[0m\u001b[1;33m,\u001b[0m \u001b[0mself\u001b[0m\u001b[1;33m.\u001b[0m\u001b[0mobj\u001b[0m\u001b[1;33m)\u001b[0m\u001b[1;33m\u001b[0m\u001b[1;33m\u001b[0m\u001b[0m\n\u001b[1;32m-> 1768\u001b[1;33m             \u001b[1;32mreturn\u001b[0m \u001b[0mself\u001b[0m\u001b[1;33m.\u001b[0m\u001b[0m_getitem_axis\u001b[0m\u001b[1;33m(\u001b[0m\u001b[0mmaybe_callable\u001b[0m\u001b[1;33m,\u001b[0m \u001b[0maxis\u001b[0m\u001b[1;33m=\u001b[0m\u001b[0maxis\u001b[0m\u001b[1;33m)\u001b[0m\u001b[1;33m\u001b[0m\u001b[1;33m\u001b[0m\u001b[0m\n\u001b[0m\u001b[0;32m   1769\u001b[0m \u001b[1;33m\u001b[0m\u001b[0m\n\u001b[0;32m   1770\u001b[0m     \u001b[1;32mdef\u001b[0m \u001b[0m_is_scalar_access\u001b[0m\u001b[1;33m(\u001b[0m\u001b[0mself\u001b[0m\u001b[1;33m,\u001b[0m \u001b[0mkey\u001b[0m\u001b[1;33m:\u001b[0m \u001b[0mTuple\u001b[0m\u001b[1;33m)\u001b[0m\u001b[1;33m:\u001b[0m\u001b[1;33m\u001b[0m\u001b[1;33m\u001b[0m\u001b[0m\n",
      "\u001b[1;32m~\\Anaconda3\\envs\\py36\\lib\\site-packages\\pandas\\core\\indexing.py\u001b[0m in \u001b[0;36m_getitem_axis\u001b[1;34m(self, key, axis)\u001b[0m\n\u001b[0;32m   1910\u001b[0m         \u001b[1;32mif\u001b[0m \u001b[0misinstance\u001b[0m\u001b[1;33m(\u001b[0m\u001b[0mkey\u001b[0m\u001b[1;33m,\u001b[0m \u001b[0mslice\u001b[0m\u001b[1;33m)\u001b[0m\u001b[1;33m:\u001b[0m\u001b[1;33m\u001b[0m\u001b[1;33m\u001b[0m\u001b[0m\n\u001b[0;32m   1911\u001b[0m             \u001b[0mself\u001b[0m\u001b[1;33m.\u001b[0m\u001b[0m_validate_key\u001b[0m\u001b[1;33m(\u001b[0m\u001b[0mkey\u001b[0m\u001b[1;33m,\u001b[0m \u001b[0maxis\u001b[0m\u001b[1;33m)\u001b[0m\u001b[1;33m\u001b[0m\u001b[1;33m\u001b[0m\u001b[0m\n\u001b[1;32m-> 1912\u001b[1;33m             \u001b[1;32mreturn\u001b[0m \u001b[0mself\u001b[0m\u001b[1;33m.\u001b[0m\u001b[0m_get_slice_axis\u001b[0m\u001b[1;33m(\u001b[0m\u001b[0mkey\u001b[0m\u001b[1;33m,\u001b[0m \u001b[0maxis\u001b[0m\u001b[1;33m=\u001b[0m\u001b[0maxis\u001b[0m\u001b[1;33m)\u001b[0m\u001b[1;33m\u001b[0m\u001b[1;33m\u001b[0m\u001b[0m\n\u001b[0m\u001b[0;32m   1913\u001b[0m         \u001b[1;32melif\u001b[0m \u001b[0mcom\u001b[0m\u001b[1;33m.\u001b[0m\u001b[0mis_bool_indexer\u001b[0m\u001b[1;33m(\u001b[0m\u001b[0mkey\u001b[0m\u001b[1;33m)\u001b[0m\u001b[1;33m:\u001b[0m\u001b[1;33m\u001b[0m\u001b[1;33m\u001b[0m\u001b[0m\n\u001b[0;32m   1914\u001b[0m             \u001b[1;32mreturn\u001b[0m \u001b[0mself\u001b[0m\u001b[1;33m.\u001b[0m\u001b[0m_getbool_axis\u001b[0m\u001b[1;33m(\u001b[0m\u001b[0mkey\u001b[0m\u001b[1;33m,\u001b[0m \u001b[0maxis\u001b[0m\u001b[1;33m=\u001b[0m\u001b[0maxis\u001b[0m\u001b[1;33m)\u001b[0m\u001b[1;33m\u001b[0m\u001b[1;33m\u001b[0m\u001b[0m\n",
      "\u001b[1;32m~\\Anaconda3\\envs\\py36\\lib\\site-packages\\pandas\\core\\indexing.py\u001b[0m in \u001b[0;36m_get_slice_axis\u001b[1;34m(self, slice_obj, axis)\u001b[0m\n\u001b[0;32m   1795\u001b[0m         \u001b[0mlabels\u001b[0m \u001b[1;33m=\u001b[0m \u001b[0mobj\u001b[0m\u001b[1;33m.\u001b[0m\u001b[0m_get_axis\u001b[0m\u001b[1;33m(\u001b[0m\u001b[0maxis\u001b[0m\u001b[1;33m)\u001b[0m\u001b[1;33m\u001b[0m\u001b[1;33m\u001b[0m\u001b[0m\n\u001b[0;32m   1796\u001b[0m         indexer = labels.slice_indexer(\n\u001b[1;32m-> 1797\u001b[1;33m             \u001b[0mslice_obj\u001b[0m\u001b[1;33m.\u001b[0m\u001b[0mstart\u001b[0m\u001b[1;33m,\u001b[0m \u001b[0mslice_obj\u001b[0m\u001b[1;33m.\u001b[0m\u001b[0mstop\u001b[0m\u001b[1;33m,\u001b[0m \u001b[0mslice_obj\u001b[0m\u001b[1;33m.\u001b[0m\u001b[0mstep\u001b[0m\u001b[1;33m,\u001b[0m \u001b[0mkind\u001b[0m\u001b[1;33m=\u001b[0m\u001b[0mself\u001b[0m\u001b[1;33m.\u001b[0m\u001b[0mname\u001b[0m\u001b[1;33m\u001b[0m\u001b[1;33m\u001b[0m\u001b[0m\n\u001b[0m\u001b[0;32m   1798\u001b[0m         )\n\u001b[0;32m   1799\u001b[0m \u001b[1;33m\u001b[0m\u001b[0m\n",
      "\u001b[1;32m~\\Anaconda3\\envs\\py36\\lib\\site-packages\\pandas\\core\\indexes\\datetimes.py\u001b[0m in \u001b[0;36mslice_indexer\u001b[1;34m(self, start, end, step, kind)\u001b[0m\n\u001b[0;32m    813\u001b[0m \u001b[1;33m\u001b[0m\u001b[0m\n\u001b[0;32m    814\u001b[0m         \u001b[1;32mtry\u001b[0m\u001b[1;33m:\u001b[0m\u001b[1;33m\u001b[0m\u001b[1;33m\u001b[0m\u001b[0m\n\u001b[1;32m--> 815\u001b[1;33m             \u001b[1;32mreturn\u001b[0m \u001b[0mIndex\u001b[0m\u001b[1;33m.\u001b[0m\u001b[0mslice_indexer\u001b[0m\u001b[1;33m(\u001b[0m\u001b[0mself\u001b[0m\u001b[1;33m,\u001b[0m \u001b[0mstart\u001b[0m\u001b[1;33m,\u001b[0m \u001b[0mend\u001b[0m\u001b[1;33m,\u001b[0m \u001b[0mstep\u001b[0m\u001b[1;33m,\u001b[0m \u001b[0mkind\u001b[0m\u001b[1;33m=\u001b[0m\u001b[0mkind\u001b[0m\u001b[1;33m)\u001b[0m\u001b[1;33m\u001b[0m\u001b[1;33m\u001b[0m\u001b[0m\n\u001b[0m\u001b[0;32m    816\u001b[0m         \u001b[1;32mexcept\u001b[0m \u001b[0mKeyError\u001b[0m\u001b[1;33m:\u001b[0m\u001b[1;33m\u001b[0m\u001b[1;33m\u001b[0m\u001b[0m\n\u001b[0;32m    817\u001b[0m             \u001b[1;31m# For historical reasons DatetimeIndex by default supports\u001b[0m\u001b[1;33m\u001b[0m\u001b[1;33m\u001b[0m\u001b[1;33m\u001b[0m\u001b[0m\n",
      "\u001b[1;32m~\\Anaconda3\\envs\\py36\\lib\\site-packages\\pandas\\core\\indexes\\base.py\u001b[0m in \u001b[0;36mslice_indexer\u001b[1;34m(self, start, end, step, kind)\u001b[0m\n\u001b[0;32m   4711\u001b[0m         \u001b[0mslice\u001b[0m\u001b[1;33m(\u001b[0m\u001b[1;36m1\u001b[0m\u001b[1;33m,\u001b[0m \u001b[1;36m3\u001b[0m\u001b[1;33m)\u001b[0m\u001b[1;33m\u001b[0m\u001b[1;33m\u001b[0m\u001b[0m\n\u001b[0;32m   4712\u001b[0m         \"\"\"\n\u001b[1;32m-> 4713\u001b[1;33m         \u001b[0mstart_slice\u001b[0m\u001b[1;33m,\u001b[0m \u001b[0mend_slice\u001b[0m \u001b[1;33m=\u001b[0m \u001b[0mself\u001b[0m\u001b[1;33m.\u001b[0m\u001b[0mslice_locs\u001b[0m\u001b[1;33m(\u001b[0m\u001b[0mstart\u001b[0m\u001b[1;33m,\u001b[0m \u001b[0mend\u001b[0m\u001b[1;33m,\u001b[0m \u001b[0mstep\u001b[0m\u001b[1;33m=\u001b[0m\u001b[0mstep\u001b[0m\u001b[1;33m,\u001b[0m \u001b[0mkind\u001b[0m\u001b[1;33m=\u001b[0m\u001b[0mkind\u001b[0m\u001b[1;33m)\u001b[0m\u001b[1;33m\u001b[0m\u001b[1;33m\u001b[0m\u001b[0m\n\u001b[0m\u001b[0;32m   4714\u001b[0m \u001b[1;33m\u001b[0m\u001b[0m\n\u001b[0;32m   4715\u001b[0m         \u001b[1;31m# return a slice\u001b[0m\u001b[1;33m\u001b[0m\u001b[1;33m\u001b[0m\u001b[1;33m\u001b[0m\u001b[0m\n",
      "\u001b[1;32m~\\Anaconda3\\envs\\py36\\lib\\site-packages\\pandas\\core\\indexes\\base.py\u001b[0m in \u001b[0;36mslice_locs\u001b[1;34m(self, start, end, step, kind)\u001b[0m\n\u001b[0;32m   4924\u001b[0m         \u001b[0mstart_slice\u001b[0m \u001b[1;33m=\u001b[0m \u001b[1;32mNone\u001b[0m\u001b[1;33m\u001b[0m\u001b[1;33m\u001b[0m\u001b[0m\n\u001b[0;32m   4925\u001b[0m         \u001b[1;32mif\u001b[0m \u001b[0mstart\u001b[0m \u001b[1;32mis\u001b[0m \u001b[1;32mnot\u001b[0m \u001b[1;32mNone\u001b[0m\u001b[1;33m:\u001b[0m\u001b[1;33m\u001b[0m\u001b[1;33m\u001b[0m\u001b[0m\n\u001b[1;32m-> 4926\u001b[1;33m             \u001b[0mstart_slice\u001b[0m \u001b[1;33m=\u001b[0m \u001b[0mself\u001b[0m\u001b[1;33m.\u001b[0m\u001b[0mget_slice_bound\u001b[0m\u001b[1;33m(\u001b[0m\u001b[0mstart\u001b[0m\u001b[1;33m,\u001b[0m \u001b[1;34m\"left\"\u001b[0m\u001b[1;33m,\u001b[0m \u001b[0mkind\u001b[0m\u001b[1;33m)\u001b[0m\u001b[1;33m\u001b[0m\u001b[1;33m\u001b[0m\u001b[0m\n\u001b[0m\u001b[0;32m   4927\u001b[0m         \u001b[1;32mif\u001b[0m \u001b[0mstart_slice\u001b[0m \u001b[1;32mis\u001b[0m \u001b[1;32mNone\u001b[0m\u001b[1;33m:\u001b[0m\u001b[1;33m\u001b[0m\u001b[1;33m\u001b[0m\u001b[0m\n\u001b[0;32m   4928\u001b[0m             \u001b[0mstart_slice\u001b[0m \u001b[1;33m=\u001b[0m \u001b[1;36m0\u001b[0m\u001b[1;33m\u001b[0m\u001b[1;33m\u001b[0m\u001b[0m\n",
      "\u001b[1;32m~\\Anaconda3\\envs\\py36\\lib\\site-packages\\pandas\\core\\indexes\\base.py\u001b[0m in \u001b[0;36mget_slice_bound\u001b[1;34m(self, label, side, kind)\u001b[0m\n\u001b[0;32m   4840\u001b[0m         \u001b[1;31m# we need to look up the label\u001b[0m\u001b[1;33m\u001b[0m\u001b[1;33m\u001b[0m\u001b[1;33m\u001b[0m\u001b[0m\n\u001b[0;32m   4841\u001b[0m         \u001b[1;32mtry\u001b[0m\u001b[1;33m:\u001b[0m\u001b[1;33m\u001b[0m\u001b[1;33m\u001b[0m\u001b[0m\n\u001b[1;32m-> 4842\u001b[1;33m             \u001b[0mslc\u001b[0m \u001b[1;33m=\u001b[0m \u001b[0mself\u001b[0m\u001b[1;33m.\u001b[0m\u001b[0mget_loc\u001b[0m\u001b[1;33m(\u001b[0m\u001b[0mlabel\u001b[0m\u001b[1;33m)\u001b[0m\u001b[1;33m\u001b[0m\u001b[1;33m\u001b[0m\u001b[0m\n\u001b[0m\u001b[0;32m   4843\u001b[0m         \u001b[1;32mexcept\u001b[0m \u001b[0mKeyError\u001b[0m \u001b[1;32mas\u001b[0m \u001b[0merr\u001b[0m\u001b[1;33m:\u001b[0m\u001b[1;33m\u001b[0m\u001b[1;33m\u001b[0m\u001b[0m\n\u001b[0;32m   4844\u001b[0m             \u001b[1;32mtry\u001b[0m\u001b[1;33m:\u001b[0m\u001b[1;33m\u001b[0m\u001b[1;33m\u001b[0m\u001b[0m\n",
      "\u001b[1;32m~\\Anaconda3\\envs\\py36\\lib\\site-packages\\pandas\\core\\indexes\\datetimes.py\u001b[0m in \u001b[0;36mget_loc\u001b[1;34m(self, key, method, tolerance)\u001b[0m\n\u001b[0;32m    721\u001b[0m \u001b[1;33m\u001b[0m\u001b[0m\n\u001b[0;32m    722\u001b[0m             \u001b[1;32mtry\u001b[0m\u001b[1;33m:\u001b[0m\u001b[1;33m\u001b[0m\u001b[1;33m\u001b[0m\u001b[0m\n\u001b[1;32m--> 723\u001b[1;33m                 \u001b[0mstamp\u001b[0m \u001b[1;33m=\u001b[0m \u001b[0mTimestamp\u001b[0m\u001b[1;33m(\u001b[0m\u001b[0mkey\u001b[0m\u001b[1;33m)\u001b[0m\u001b[1;33m\u001b[0m\u001b[1;33m\u001b[0m\u001b[0m\n\u001b[0m\u001b[0;32m    724\u001b[0m                 \u001b[1;32mif\u001b[0m \u001b[0mstamp\u001b[0m\u001b[1;33m.\u001b[0m\u001b[0mtzinfo\u001b[0m \u001b[1;32mis\u001b[0m \u001b[1;32mnot\u001b[0m \u001b[1;32mNone\u001b[0m \u001b[1;32mand\u001b[0m \u001b[0mself\u001b[0m\u001b[1;33m.\u001b[0m\u001b[0mtz\u001b[0m \u001b[1;32mis\u001b[0m \u001b[1;32mnot\u001b[0m \u001b[1;32mNone\u001b[0m\u001b[1;33m:\u001b[0m\u001b[1;33m\u001b[0m\u001b[1;33m\u001b[0m\u001b[0m\n\u001b[0;32m    725\u001b[0m                     \u001b[0mstamp\u001b[0m \u001b[1;33m=\u001b[0m \u001b[0mstamp\u001b[0m\u001b[1;33m.\u001b[0m\u001b[0mtz_convert\u001b[0m\u001b[1;33m(\u001b[0m\u001b[0mself\u001b[0m\u001b[1;33m.\u001b[0m\u001b[0mtz\u001b[0m\u001b[1;33m)\u001b[0m\u001b[1;33m\u001b[0m\u001b[1;33m\u001b[0m\u001b[0m\n",
      "\u001b[1;32mpandas\\_libs\\tslibs\\timestamps.pyx\u001b[0m in \u001b[0;36mpandas._libs.tslibs.timestamps.Timestamp.__new__\u001b[1;34m()\u001b[0m\n",
      "\u001b[1;32mpandas\\_libs\\tslibs\\conversion.pyx\u001b[0m in \u001b[0;36mpandas._libs.tslibs.conversion.convert_to_tsobject\u001b[1;34m()\u001b[0m\n",
      "\u001b[1;31mTypeError\u001b[0m: Cannot convert input [['2018-10-10', '2018-10-12']] of type <class 'list'> to Timestamp"
     ]
    }
   ],
   "source": [
    "# Type Error 발생. DataFrame에서 처리할 수 있는 Type으로 변환되지 않기 때문이다.\n",
    "df.loc[['2018-10-10','2018-10-12']:'2018-10-20','Open']"
   ]
  },
  {
   "cell_type": "code",
   "execution_count": 53,
   "metadata": {},
   "outputs": [
    {
     "data": {
      "text/html": [
       "<div>\n",
       "<style scoped>\n",
       "    .dataframe tbody tr th:only-of-type {\n",
       "        vertical-align: middle;\n",
       "    }\n",
       "\n",
       "    .dataframe tbody tr th {\n",
       "        vertical-align: top;\n",
       "    }\n",
       "\n",
       "    .dataframe thead th {\n",
       "        text-align: right;\n",
       "    }\n",
       "</style>\n",
       "<table border=\"1\" class=\"dataframe\">\n",
       "  <thead>\n",
       "    <tr style=\"text-align: right;\">\n",
       "      <th></th>\n",
       "      <th>Open</th>\n",
       "      <th>High</th>\n",
       "      <th>Low</th>\n",
       "      <th>Close</th>\n",
       "    </tr>\n",
       "    <tr>\n",
       "      <th>Date</th>\n",
       "      <th></th>\n",
       "      <th></th>\n",
       "      <th></th>\n",
       "      <th></th>\n",
       "    </tr>\n",
       "  </thead>\n",
       "  <tbody>\n",
       "    <tr>\n",
       "      <th>2018-10-10</th>\n",
       "      <td>225.460007</td>\n",
       "      <td>226.350006</td>\n",
       "      <td>216.050003</td>\n",
       "      <td>216.360001</td>\n",
       "    </tr>\n",
       "    <tr>\n",
       "      <th>2018-10-11</th>\n",
       "      <td>214.520004</td>\n",
       "      <td>219.500000</td>\n",
       "      <td>212.320007</td>\n",
       "      <td>214.449997</td>\n",
       "    </tr>\n",
       "    <tr>\n",
       "      <th>2018-10-12</th>\n",
       "      <td>220.419998</td>\n",
       "      <td>222.880005</td>\n",
       "      <td>216.839996</td>\n",
       "      <td>222.110001</td>\n",
       "    </tr>\n",
       "    <tr>\n",
       "      <th>2018-10-15</th>\n",
       "      <td>221.160004</td>\n",
       "      <td>221.830002</td>\n",
       "      <td>217.270004</td>\n",
       "      <td>217.360001</td>\n",
       "    </tr>\n",
       "    <tr>\n",
       "      <th>2018-10-16</th>\n",
       "      <td>218.929993</td>\n",
       "      <td>222.990005</td>\n",
       "      <td>216.759995</td>\n",
       "      <td>222.149994</td>\n",
       "    </tr>\n",
       "    <tr>\n",
       "      <th>2018-10-17</th>\n",
       "      <td>222.300003</td>\n",
       "      <td>222.639999</td>\n",
       "      <td>219.339996</td>\n",
       "      <td>221.190002</td>\n",
       "    </tr>\n",
       "    <tr>\n",
       "      <th>2018-10-18</th>\n",
       "      <td>217.860001</td>\n",
       "      <td>219.740005</td>\n",
       "      <td>213.000000</td>\n",
       "      <td>216.020004</td>\n",
       "    </tr>\n",
       "    <tr>\n",
       "      <th>2018-10-19</th>\n",
       "      <td>218.059998</td>\n",
       "      <td>221.259995</td>\n",
       "      <td>217.429993</td>\n",
       "      <td>219.309998</td>\n",
       "    </tr>\n",
       "  </tbody>\n",
       "</table>\n",
       "</div>"
      ],
      "text/plain": [
       "                  Open        High         Low       Close\n",
       "Date                                                      \n",
       "2018-10-10  225.460007  226.350006  216.050003  216.360001\n",
       "2018-10-11  214.520004  219.500000  212.320007  214.449997\n",
       "2018-10-12  220.419998  222.880005  216.839996  222.110001\n",
       "2018-10-15  221.160004  221.830002  217.270004  217.360001\n",
       "2018-10-16  218.929993  222.990005  216.759995  222.149994\n",
       "2018-10-17  222.300003  222.639999  219.339996  221.190002\n",
       "2018-10-18  217.860001  219.740005  213.000000  216.020004\n",
       "2018-10-19  218.059998  221.259995  217.429993  219.309998"
      ]
     },
     "execution_count": 53,
     "metadata": {},
     "output_type": "execute_result"
    }
   ],
   "source": [
    "df.loc['2018-10-10':'2018-10-20',['Open','High','Low','Close']]"
   ]
  },
  {
   "cell_type": "code",
   "execution_count": 54,
   "metadata": {},
   "outputs": [
    {
     "data": {
      "text/html": [
       "<div>\n",
       "<style scoped>\n",
       "    .dataframe tbody tr th:only-of-type {\n",
       "        vertical-align: middle;\n",
       "    }\n",
       "\n",
       "    .dataframe tbody tr th {\n",
       "        vertical-align: top;\n",
       "    }\n",
       "\n",
       "    .dataframe thead th {\n",
       "        text-align: right;\n",
       "    }\n",
       "</style>\n",
       "<table border=\"1\" class=\"dataframe\">\n",
       "  <thead>\n",
       "    <tr style=\"text-align: right;\">\n",
       "      <th></th>\n",
       "      <th>Open</th>\n",
       "      <th>High</th>\n",
       "      <th>Low</th>\n",
       "      <th>Close</th>\n",
       "    </tr>\n",
       "    <tr>\n",
       "      <th>Date</th>\n",
       "      <th></th>\n",
       "      <th></th>\n",
       "      <th></th>\n",
       "      <th></th>\n",
       "    </tr>\n",
       "  </thead>\n",
       "  <tbody>\n",
       "    <tr>\n",
       "      <th>2012-08-28</th>\n",
       "      <td>96.425713</td>\n",
       "      <td>96.585716</td>\n",
       "      <td>95.809998</td>\n",
       "      <td>96.400002</td>\n",
       "    </tr>\n",
       "    <tr>\n",
       "      <th>2012-08-29</th>\n",
       "      <td>96.464287</td>\n",
       "      <td>96.809998</td>\n",
       "      <td>96.085716</td>\n",
       "      <td>96.209999</td>\n",
       "    </tr>\n",
       "    <tr>\n",
       "      <th>2012-08-30</th>\n",
       "      <td>95.805717</td>\n",
       "      <td>95.935715</td>\n",
       "      <td>94.692856</td>\n",
       "      <td>94.838570</td>\n",
       "    </tr>\n",
       "    <tr>\n",
       "      <th>2012-08-31</th>\n",
       "      <td>95.321426</td>\n",
       "      <td>95.514282</td>\n",
       "      <td>93.892860</td>\n",
       "      <td>95.034286</td>\n",
       "    </tr>\n",
       "    <tr>\n",
       "      <th>2012-09-04</th>\n",
       "      <td>95.108574</td>\n",
       "      <td>96.448570</td>\n",
       "      <td>94.928574</td>\n",
       "      <td>96.424286</td>\n",
       "    </tr>\n",
       "    <tr>\n",
       "      <th>2012-09-05</th>\n",
       "      <td>96.510002</td>\n",
       "      <td>96.621429</td>\n",
       "      <td>95.657143</td>\n",
       "      <td>95.747147</td>\n",
       "    </tr>\n",
       "    <tr>\n",
       "      <th>2012-09-06</th>\n",
       "      <td>96.167145</td>\n",
       "      <td>96.898575</td>\n",
       "      <td>95.828575</td>\n",
       "      <td>96.610001</td>\n",
       "    </tr>\n",
       "    <tr>\n",
       "      <th>2012-09-07</th>\n",
       "      <td>96.864288</td>\n",
       "      <td>97.497147</td>\n",
       "      <td>96.538574</td>\n",
       "      <td>97.205711</td>\n",
       "    </tr>\n",
       "    <tr>\n",
       "      <th>2012-09-10</th>\n",
       "      <td>97.207146</td>\n",
       "      <td>97.612854</td>\n",
       "      <td>94.585716</td>\n",
       "      <td>94.677139</td>\n",
       "    </tr>\n",
       "    <tr>\n",
       "      <th>2012-09-11</th>\n",
       "      <td>95.015717</td>\n",
       "      <td>95.728569</td>\n",
       "      <td>93.785713</td>\n",
       "      <td>94.370003</td>\n",
       "    </tr>\n",
       "  </tbody>\n",
       "</table>\n",
       "</div>"
      ],
      "text/plain": [
       "                 Open       High        Low      Close\n",
       "Date                                                  \n",
       "2012-08-28  96.425713  96.585716  95.809998  96.400002\n",
       "2012-08-29  96.464287  96.809998  96.085716  96.209999\n",
       "2012-08-30  95.805717  95.935715  94.692856  94.838570\n",
       "2012-08-31  95.321426  95.514282  93.892860  95.034286\n",
       "2012-09-04  95.108574  96.448570  94.928574  96.424286\n",
       "2012-09-05  96.510002  96.621429  95.657143  95.747147\n",
       "2012-09-06  96.167145  96.898575  95.828575  96.610001\n",
       "2012-09-07  96.864288  97.497147  96.538574  97.205711\n",
       "2012-09-10  97.207146  97.612854  94.585716  94.677139\n",
       "2012-09-11  95.015717  95.728569  93.785713  94.370003"
      ]
     },
     "execution_count": 54,
     "metadata": {},
     "output_type": "execute_result"
    }
   ],
   "source": [
    "df.iloc[8000:8010,[0,1,2,3]]"
   ]
  },
  {
   "cell_type": "markdown",
   "metadata": {},
   "source": [
    "ISO8601을 따르고 있기에 강력한 기능 <br/>\n",
    "Although the default pandas datetime format is ISO8601 (“yyyy-mm-dd hh:mm:ss”) when selecting data using partial string indexing it understands a lot of other different formats.\n",
    "\n",
    "http://sergilehkyi.com/tips-on-working-with-datetime-index-in-pandas/"
   ]
  },
  {
   "cell_type": "code",
   "execution_count": 55,
   "metadata": {},
   "outputs": [
    {
     "data": {
      "text/html": [
       "<div>\n",
       "<style scoped>\n",
       "    .dataframe tbody tr th:only-of-type {\n",
       "        vertical-align: middle;\n",
       "    }\n",
       "\n",
       "    .dataframe tbody tr th {\n",
       "        vertical-align: top;\n",
       "    }\n",
       "\n",
       "    .dataframe thead th {\n",
       "        text-align: right;\n",
       "    }\n",
       "</style>\n",
       "<table border=\"1\" class=\"dataframe\">\n",
       "  <thead>\n",
       "    <tr style=\"text-align: right;\">\n",
       "      <th></th>\n",
       "      <th>Open</th>\n",
       "      <th>High</th>\n",
       "      <th>Low</th>\n",
       "      <th>Close</th>\n",
       "      <th>Adj Close</th>\n",
       "      <th>Volume</th>\n",
       "    </tr>\n",
       "    <tr>\n",
       "      <th>Date</th>\n",
       "      <th></th>\n",
       "      <th></th>\n",
       "      <th></th>\n",
       "      <th></th>\n",
       "      <th></th>\n",
       "      <th></th>\n",
       "    </tr>\n",
       "  </thead>\n",
       "  <tbody>\n",
       "    <tr>\n",
       "      <th>2016-11-01</th>\n",
       "      <td>113.459999</td>\n",
       "      <td>113.769997</td>\n",
       "      <td>110.529999</td>\n",
       "      <td>111.489998</td>\n",
       "      <td>106.680237</td>\n",
       "      <td>43825800.0</td>\n",
       "    </tr>\n",
       "    <tr>\n",
       "      <th>2016-11-02</th>\n",
       "      <td>111.400002</td>\n",
       "      <td>112.349998</td>\n",
       "      <td>111.230003</td>\n",
       "      <td>111.589996</td>\n",
       "      <td>106.775925</td>\n",
       "      <td>28331700.0</td>\n",
       "    </tr>\n",
       "    <tr>\n",
       "      <th>2016-11-03</th>\n",
       "      <td>110.980003</td>\n",
       "      <td>111.459999</td>\n",
       "      <td>109.550003</td>\n",
       "      <td>109.830002</td>\n",
       "      <td>105.631424</td>\n",
       "      <td>26932600.0</td>\n",
       "    </tr>\n",
       "    <tr>\n",
       "      <th>2016-11-04</th>\n",
       "      <td>108.529999</td>\n",
       "      <td>110.250000</td>\n",
       "      <td>108.110001</td>\n",
       "      <td>108.839996</td>\n",
       "      <td>104.679260</td>\n",
       "      <td>30837000.0</td>\n",
       "    </tr>\n",
       "    <tr>\n",
       "      <th>2016-11-07</th>\n",
       "      <td>110.080002</td>\n",
       "      <td>110.510002</td>\n",
       "      <td>109.459999</td>\n",
       "      <td>110.410004</td>\n",
       "      <td>106.189255</td>\n",
       "      <td>32560000.0</td>\n",
       "    </tr>\n",
       "  </tbody>\n",
       "</table>\n",
       "</div>"
      ],
      "text/plain": [
       "                  Open        High         Low       Close   Adj Close  \\\n",
       "Date                                                                     \n",
       "2016-11-01  113.459999  113.769997  110.529999  111.489998  106.680237   \n",
       "2016-11-02  111.400002  112.349998  111.230003  111.589996  106.775925   \n",
       "2016-11-03  110.980003  111.459999  109.550003  109.830002  105.631424   \n",
       "2016-11-04  108.529999  110.250000  108.110001  108.839996  104.679260   \n",
       "2016-11-07  110.080002  110.510002  109.459999  110.410004  106.189255   \n",
       "\n",
       "                Volume  \n",
       "Date                    \n",
       "2016-11-01  43825800.0  \n",
       "2016-11-02  28331700.0  \n",
       "2016-11-03  26932600.0  \n",
       "2016-11-04  30837000.0  \n",
       "2016-11-07  32560000.0  "
      ]
     },
     "execution_count": 55,
     "metadata": {},
     "output_type": "execute_result"
    }
   ],
   "source": [
    "df.loc['2016-11'].head()"
   ]
  },
  {
   "cell_type": "code",
   "execution_count": 56,
   "metadata": {},
   "outputs": [
    {
     "data": {
      "text/html": [
       "<div>\n",
       "<style scoped>\n",
       "    .dataframe tbody tr th:only-of-type {\n",
       "        vertical-align: middle;\n",
       "    }\n",
       "\n",
       "    .dataframe tbody tr th {\n",
       "        vertical-align: top;\n",
       "    }\n",
       "\n",
       "    .dataframe thead th {\n",
       "        text-align: right;\n",
       "    }\n",
       "</style>\n",
       "<table border=\"1\" class=\"dataframe\">\n",
       "  <thead>\n",
       "    <tr style=\"text-align: right;\">\n",
       "      <th></th>\n",
       "      <th>Open</th>\n",
       "      <th>High</th>\n",
       "      <th>Low</th>\n",
       "      <th>Close</th>\n",
       "      <th>Adj Close</th>\n",
       "      <th>Volume</th>\n",
       "    </tr>\n",
       "    <tr>\n",
       "      <th>Date</th>\n",
       "      <th></th>\n",
       "      <th></th>\n",
       "      <th></th>\n",
       "      <th></th>\n",
       "      <th></th>\n",
       "      <th></th>\n",
       "    </tr>\n",
       "  </thead>\n",
       "  <tbody>\n",
       "    <tr>\n",
       "      <th>2016-11-01</th>\n",
       "      <td>113.459999</td>\n",
       "      <td>113.769997</td>\n",
       "      <td>110.529999</td>\n",
       "      <td>111.489998</td>\n",
       "      <td>106.680237</td>\n",
       "      <td>43825800.0</td>\n",
       "    </tr>\n",
       "    <tr>\n",
       "      <th>2016-11-02</th>\n",
       "      <td>111.400002</td>\n",
       "      <td>112.349998</td>\n",
       "      <td>111.230003</td>\n",
       "      <td>111.589996</td>\n",
       "      <td>106.775925</td>\n",
       "      <td>28331700.0</td>\n",
       "    </tr>\n",
       "    <tr>\n",
       "      <th>2016-11-03</th>\n",
       "      <td>110.980003</td>\n",
       "      <td>111.459999</td>\n",
       "      <td>109.550003</td>\n",
       "      <td>109.830002</td>\n",
       "      <td>105.631424</td>\n",
       "      <td>26932600.0</td>\n",
       "    </tr>\n",
       "    <tr>\n",
       "      <th>2016-11-04</th>\n",
       "      <td>108.529999</td>\n",
       "      <td>110.250000</td>\n",
       "      <td>108.110001</td>\n",
       "      <td>108.839996</td>\n",
       "      <td>104.679260</td>\n",
       "      <td>30837000.0</td>\n",
       "    </tr>\n",
       "    <tr>\n",
       "      <th>2016-11-07</th>\n",
       "      <td>110.080002</td>\n",
       "      <td>110.510002</td>\n",
       "      <td>109.459999</td>\n",
       "      <td>110.410004</td>\n",
       "      <td>106.189255</td>\n",
       "      <td>32560000.0</td>\n",
       "    </tr>\n",
       "  </tbody>\n",
       "</table>\n",
       "</div>"
      ],
      "text/plain": [
       "                  Open        High         Low       Close   Adj Close  \\\n",
       "Date                                                                     \n",
       "2016-11-01  113.459999  113.769997  110.529999  111.489998  106.680237   \n",
       "2016-11-02  111.400002  112.349998  111.230003  111.589996  106.775925   \n",
       "2016-11-03  110.980003  111.459999  109.550003  109.830002  105.631424   \n",
       "2016-11-04  108.529999  110.250000  108.110001  108.839996  104.679260   \n",
       "2016-11-07  110.080002  110.510002  109.459999  110.410004  106.189255   \n",
       "\n",
       "                Volume  \n",
       "Date                    \n",
       "2016-11-01  43825800.0  \n",
       "2016-11-02  28331700.0  \n",
       "2016-11-03  26932600.0  \n",
       "2016-11-04  30837000.0  \n",
       "2016-11-07  32560000.0  "
      ]
     },
     "execution_count": 56,
     "metadata": {},
     "output_type": "execute_result"
    }
   ],
   "source": [
    "df.loc['2016-Nov-1':'2016-Nov-10'].head()"
   ]
  },
  {
   "cell_type": "code",
   "execution_count": 57,
   "metadata": {},
   "outputs": [
    {
     "data": {
      "text/html": [
       "<div>\n",
       "<style scoped>\n",
       "    .dataframe tbody tr th:only-of-type {\n",
       "        vertical-align: middle;\n",
       "    }\n",
       "\n",
       "    .dataframe tbody tr th {\n",
       "        vertical-align: top;\n",
       "    }\n",
       "\n",
       "    .dataframe thead th {\n",
       "        text-align: right;\n",
       "    }\n",
       "</style>\n",
       "<table border=\"1\" class=\"dataframe\">\n",
       "  <thead>\n",
       "    <tr style=\"text-align: right;\">\n",
       "      <th></th>\n",
       "      <th>Open</th>\n",
       "      <th>High</th>\n",
       "      <th>Low</th>\n",
       "      <th>Close</th>\n",
       "      <th>Adj Close</th>\n",
       "      <th>Volume</th>\n",
       "    </tr>\n",
       "    <tr>\n",
       "      <th>Date</th>\n",
       "      <th></th>\n",
       "      <th></th>\n",
       "      <th></th>\n",
       "      <th></th>\n",
       "      <th></th>\n",
       "      <th></th>\n",
       "    </tr>\n",
       "  </thead>\n",
       "  <tbody>\n",
       "    <tr>\n",
       "      <th>2016-11-01</th>\n",
       "      <td>113.459999</td>\n",
       "      <td>113.769997</td>\n",
       "      <td>110.529999</td>\n",
       "      <td>111.489998</td>\n",
       "      <td>106.680237</td>\n",
       "      <td>43825800.0</td>\n",
       "    </tr>\n",
       "    <tr>\n",
       "      <th>2016-11-02</th>\n",
       "      <td>111.400002</td>\n",
       "      <td>112.349998</td>\n",
       "      <td>111.230003</td>\n",
       "      <td>111.589996</td>\n",
       "      <td>106.775925</td>\n",
       "      <td>28331700.0</td>\n",
       "    </tr>\n",
       "    <tr>\n",
       "      <th>2016-11-03</th>\n",
       "      <td>110.980003</td>\n",
       "      <td>111.459999</td>\n",
       "      <td>109.550003</td>\n",
       "      <td>109.830002</td>\n",
       "      <td>105.631424</td>\n",
       "      <td>26932600.0</td>\n",
       "    </tr>\n",
       "    <tr>\n",
       "      <th>2016-11-04</th>\n",
       "      <td>108.529999</td>\n",
       "      <td>110.250000</td>\n",
       "      <td>108.110001</td>\n",
       "      <td>108.839996</td>\n",
       "      <td>104.679260</td>\n",
       "      <td>30837000.0</td>\n",
       "    </tr>\n",
       "    <tr>\n",
       "      <th>2016-11-07</th>\n",
       "      <td>110.080002</td>\n",
       "      <td>110.510002</td>\n",
       "      <td>109.459999</td>\n",
       "      <td>110.410004</td>\n",
       "      <td>106.189255</td>\n",
       "      <td>32560000.0</td>\n",
       "    </tr>\n",
       "  </tbody>\n",
       "</table>\n",
       "</div>"
      ],
      "text/plain": [
       "                  Open        High         Low       Close   Adj Close  \\\n",
       "Date                                                                     \n",
       "2016-11-01  113.459999  113.769997  110.529999  111.489998  106.680237   \n",
       "2016-11-02  111.400002  112.349998  111.230003  111.589996  106.775925   \n",
       "2016-11-03  110.980003  111.459999  109.550003  109.830002  105.631424   \n",
       "2016-11-04  108.529999  110.250000  108.110001  108.839996  104.679260   \n",
       "2016-11-07  110.080002  110.510002  109.459999  110.410004  106.189255   \n",
       "\n",
       "                Volume  \n",
       "Date                    \n",
       "2016-11-01  43825800.0  \n",
       "2016-11-02  28331700.0  \n",
       "2016-11-03  26932600.0  \n",
       "2016-11-04  30837000.0  \n",
       "2016-11-07  32560000.0  "
      ]
     },
     "execution_count": 57,
     "metadata": {},
     "output_type": "execute_result"
    }
   ],
   "source": [
    "df.loc['November 1, 2016':'November 10, 2016'].head()"
   ]
  },
  {
   "cell_type": "code",
   "execution_count": 58,
   "metadata": {},
   "outputs": [
    {
     "data": {
      "text/html": [
       "<div>\n",
       "<style scoped>\n",
       "    .dataframe tbody tr th:only-of-type {\n",
       "        vertical-align: middle;\n",
       "    }\n",
       "\n",
       "    .dataframe tbody tr th {\n",
       "        vertical-align: top;\n",
       "    }\n",
       "\n",
       "    .dataframe thead th {\n",
       "        text-align: right;\n",
       "    }\n",
       "</style>\n",
       "<table border=\"1\" class=\"dataframe\">\n",
       "  <thead>\n",
       "    <tr style=\"text-align: right;\">\n",
       "      <th></th>\n",
       "      <th>Open</th>\n",
       "      <th>High</th>\n",
       "      <th>Low</th>\n",
       "      <th>Close</th>\n",
       "      <th>Adj Close</th>\n",
       "      <th>Volume</th>\n",
       "    </tr>\n",
       "    <tr>\n",
       "      <th>Date</th>\n",
       "      <th></th>\n",
       "      <th></th>\n",
       "      <th></th>\n",
       "      <th></th>\n",
       "      <th></th>\n",
       "      <th></th>\n",
       "    </tr>\n",
       "  </thead>\n",
       "  <tbody>\n",
       "    <tr>\n",
       "      <th>2018-10-10</th>\n",
       "      <td>225.460007</td>\n",
       "      <td>226.350006</td>\n",
       "      <td>216.050003</td>\n",
       "      <td>216.360001</td>\n",
       "      <td>213.863373</td>\n",
       "      <td>41990600.0</td>\n",
       "    </tr>\n",
       "    <tr>\n",
       "      <th>2018-10-11</th>\n",
       "      <td>214.520004</td>\n",
       "      <td>219.500000</td>\n",
       "      <td>212.320007</td>\n",
       "      <td>214.449997</td>\n",
       "      <td>211.975418</td>\n",
       "      <td>53124400.0</td>\n",
       "    </tr>\n",
       "    <tr>\n",
       "      <th>2018-10-12</th>\n",
       "      <td>220.419998</td>\n",
       "      <td>222.880005</td>\n",
       "      <td>216.839996</td>\n",
       "      <td>222.110001</td>\n",
       "      <td>219.547028</td>\n",
       "      <td>40337900.0</td>\n",
       "    </tr>\n",
       "    <tr>\n",
       "      <th>2018-10-15</th>\n",
       "      <td>221.160004</td>\n",
       "      <td>221.830002</td>\n",
       "      <td>217.270004</td>\n",
       "      <td>217.360001</td>\n",
       "      <td>214.851822</td>\n",
       "      <td>30791000.0</td>\n",
       "    </tr>\n",
       "    <tr>\n",
       "      <th>2018-10-16</th>\n",
       "      <td>218.929993</td>\n",
       "      <td>222.990005</td>\n",
       "      <td>216.759995</td>\n",
       "      <td>222.149994</td>\n",
       "      <td>219.586548</td>\n",
       "      <td>29184000.0</td>\n",
       "    </tr>\n",
       "    <tr>\n",
       "      <th>2018-10-17</th>\n",
       "      <td>222.300003</td>\n",
       "      <td>222.639999</td>\n",
       "      <td>219.339996</td>\n",
       "      <td>221.190002</td>\n",
       "      <td>218.637650</td>\n",
       "      <td>22885400.0</td>\n",
       "    </tr>\n",
       "    <tr>\n",
       "      <th>2018-10-18</th>\n",
       "      <td>217.860001</td>\n",
       "      <td>219.740005</td>\n",
       "      <td>213.000000</td>\n",
       "      <td>216.020004</td>\n",
       "      <td>213.527298</td>\n",
       "      <td>32581300.0</td>\n",
       "    </tr>\n",
       "    <tr>\n",
       "      <th>2018-10-19</th>\n",
       "      <td>218.059998</td>\n",
       "      <td>221.259995</td>\n",
       "      <td>217.429993</td>\n",
       "      <td>219.309998</td>\n",
       "      <td>216.779327</td>\n",
       "      <td>33078700.0</td>\n",
       "    </tr>\n",
       "  </tbody>\n",
       "</table>\n",
       "</div>"
      ],
      "text/plain": [
       "                  Open        High         Low       Close   Adj Close  \\\n",
       "Date                                                                     \n",
       "2018-10-10  225.460007  226.350006  216.050003  216.360001  213.863373   \n",
       "2018-10-11  214.520004  219.500000  212.320007  214.449997  211.975418   \n",
       "2018-10-12  220.419998  222.880005  216.839996  222.110001  219.547028   \n",
       "2018-10-15  221.160004  221.830002  217.270004  217.360001  214.851822   \n",
       "2018-10-16  218.929993  222.990005  216.759995  222.149994  219.586548   \n",
       "2018-10-17  222.300003  222.639999  219.339996  221.190002  218.637650   \n",
       "2018-10-18  217.860001  219.740005  213.000000  216.020004  213.527298   \n",
       "2018-10-19  218.059998  221.259995  217.429993  219.309998  216.779327   \n",
       "\n",
       "                Volume  \n",
       "Date                    \n",
       "2018-10-10  41990600.0  \n",
       "2018-10-11  53124400.0  \n",
       "2018-10-12  40337900.0  \n",
       "2018-10-15  30791000.0  \n",
       "2018-10-16  29184000.0  \n",
       "2018-10-17  22885400.0  \n",
       "2018-10-18  32581300.0  \n",
       "2018-10-19  33078700.0  "
      ]
     },
     "execution_count": 58,
     "metadata": {},
     "output_type": "execute_result"
    }
   ],
   "source": [
    "df.loc['2018-10-10':'2018-10-20']"
   ]
  },
  {
   "cell_type": "markdown",
   "metadata": {},
   "source": [
    "## 2.2.4 금융 시계열 데이터 분석에 유용한 pandas 함수들"
   ]
  },
  {
   "cell_type": "markdown",
   "metadata": {},
   "source": [
    "#### Shifting and lags\n",
    "우리는 원하는 시간 주기로 간격만큼 index를 shift할 수 있다. <br/>\n",
    "shift 함수는 pandas를 이용할때 다양한 곳에서 유용하게 사용된다. 다른 시간의 시계열 데이터와 비교할 때 유용하다.<br/>\n"
   ]
  },
  {
   "cell_type": "code",
   "execution_count": 59,
   "metadata": {},
   "outputs": [
    {
     "data": {
      "text/html": [
       "<div>\n",
       "<style scoped>\n",
       "    .dataframe tbody tr th:only-of-type {\n",
       "        vertical-align: middle;\n",
       "    }\n",
       "\n",
       "    .dataframe tbody tr th {\n",
       "        vertical-align: top;\n",
       "    }\n",
       "\n",
       "    .dataframe thead th {\n",
       "        text-align: right;\n",
       "    }\n",
       "</style>\n",
       "<table border=\"1\" class=\"dataframe\">\n",
       "  <thead>\n",
       "    <tr style=\"text-align: right;\">\n",
       "      <th></th>\n",
       "      <th>Open</th>\n",
       "      <th>High</th>\n",
       "      <th>Low</th>\n",
       "      <th>Close</th>\n",
       "      <th>Adj Close</th>\n",
       "      <th>Volume</th>\n",
       "    </tr>\n",
       "    <tr>\n",
       "      <th>Date</th>\n",
       "      <th></th>\n",
       "      <th></th>\n",
       "      <th></th>\n",
       "      <th></th>\n",
       "      <th></th>\n",
       "      <th></th>\n",
       "    </tr>\n",
       "  </thead>\n",
       "  <tbody>\n",
       "    <tr>\n",
       "      <th>1980-12-12</th>\n",
       "      <td>0.513393</td>\n",
       "      <td>0.515625</td>\n",
       "      <td>0.513393</td>\n",
       "      <td>0.513393</td>\n",
       "      <td>0.410525</td>\n",
       "      <td>117258400.0</td>\n",
       "    </tr>\n",
       "    <tr>\n",
       "      <th>1980-12-15</th>\n",
       "      <td>0.488839</td>\n",
       "      <td>0.488839</td>\n",
       "      <td>0.486607</td>\n",
       "      <td>0.486607</td>\n",
       "      <td>0.389106</td>\n",
       "      <td>43971200.0</td>\n",
       "    </tr>\n",
       "    <tr>\n",
       "      <th>1980-12-16</th>\n",
       "      <td>0.453125</td>\n",
       "      <td>0.453125</td>\n",
       "      <td>0.450893</td>\n",
       "      <td>0.450893</td>\n",
       "      <td>0.360548</td>\n",
       "      <td>26432000.0</td>\n",
       "    </tr>\n",
       "    <tr>\n",
       "      <th>1980-12-17</th>\n",
       "      <td>0.462054</td>\n",
       "      <td>0.464286</td>\n",
       "      <td>0.462054</td>\n",
       "      <td>0.462054</td>\n",
       "      <td>0.369472</td>\n",
       "      <td>21610400.0</td>\n",
       "    </tr>\n",
       "    <tr>\n",
       "      <th>1980-12-18</th>\n",
       "      <td>0.475446</td>\n",
       "      <td>0.477679</td>\n",
       "      <td>0.475446</td>\n",
       "      <td>0.475446</td>\n",
       "      <td>0.380182</td>\n",
       "      <td>18362400.0</td>\n",
       "    </tr>\n",
       "  </tbody>\n",
       "</table>\n",
       "</div>"
      ],
      "text/plain": [
       "                Open      High       Low     Close  Adj Close       Volume\n",
       "Date                                                                      \n",
       "1980-12-12  0.513393  0.515625  0.513393  0.513393   0.410525  117258400.0\n",
       "1980-12-15  0.488839  0.488839  0.486607  0.486607   0.389106   43971200.0\n",
       "1980-12-16  0.453125  0.453125  0.450893  0.450893   0.360548   26432000.0\n",
       "1980-12-17  0.462054  0.464286  0.462054  0.462054   0.369472   21610400.0\n",
       "1980-12-18  0.475446  0.477679  0.475446  0.475446   0.380182   18362400.0"
      ]
     },
     "execution_count": 59,
     "metadata": {},
     "output_type": "execute_result"
    }
   ],
   "source": [
    "aapl_df.head()"
   ]
  },
  {
   "cell_type": "code",
   "execution_count": 60,
   "metadata": {},
   "outputs": [],
   "source": [
    "aapl_df['Close_lag1'] = aapl_df['Close'].shift(1) "
   ]
  },
  {
   "cell_type": "code",
   "execution_count": 61,
   "metadata": {},
   "outputs": [
    {
     "data": {
      "text/html": [
       "<div>\n",
       "<style scoped>\n",
       "    .dataframe tbody tr th:only-of-type {\n",
       "        vertical-align: middle;\n",
       "    }\n",
       "\n",
       "    .dataframe tbody tr th {\n",
       "        vertical-align: top;\n",
       "    }\n",
       "\n",
       "    .dataframe thead th {\n",
       "        text-align: right;\n",
       "    }\n",
       "</style>\n",
       "<table border=\"1\" class=\"dataframe\">\n",
       "  <thead>\n",
       "    <tr style=\"text-align: right;\">\n",
       "      <th></th>\n",
       "      <th>Open</th>\n",
       "      <th>High</th>\n",
       "      <th>Low</th>\n",
       "      <th>Close</th>\n",
       "      <th>Adj Close</th>\n",
       "      <th>Volume</th>\n",
       "      <th>Close_lag1</th>\n",
       "    </tr>\n",
       "    <tr>\n",
       "      <th>Date</th>\n",
       "      <th></th>\n",
       "      <th></th>\n",
       "      <th></th>\n",
       "      <th></th>\n",
       "      <th></th>\n",
       "      <th></th>\n",
       "      <th></th>\n",
       "    </tr>\n",
       "  </thead>\n",
       "  <tbody>\n",
       "    <tr>\n",
       "      <th>1980-12-12</th>\n",
       "      <td>0.513393</td>\n",
       "      <td>0.515625</td>\n",
       "      <td>0.513393</td>\n",
       "      <td>0.513393</td>\n",
       "      <td>0.410525</td>\n",
       "      <td>117258400.0</td>\n",
       "      <td>NaN</td>\n",
       "    </tr>\n",
       "    <tr>\n",
       "      <th>1980-12-15</th>\n",
       "      <td>0.488839</td>\n",
       "      <td>0.488839</td>\n",
       "      <td>0.486607</td>\n",
       "      <td>0.486607</td>\n",
       "      <td>0.389106</td>\n",
       "      <td>43971200.0</td>\n",
       "      <td>0.513393</td>\n",
       "    </tr>\n",
       "    <tr>\n",
       "      <th>1980-12-16</th>\n",
       "      <td>0.453125</td>\n",
       "      <td>0.453125</td>\n",
       "      <td>0.450893</td>\n",
       "      <td>0.450893</td>\n",
       "      <td>0.360548</td>\n",
       "      <td>26432000.0</td>\n",
       "      <td>0.486607</td>\n",
       "    </tr>\n",
       "    <tr>\n",
       "      <th>1980-12-17</th>\n",
       "      <td>0.462054</td>\n",
       "      <td>0.464286</td>\n",
       "      <td>0.462054</td>\n",
       "      <td>0.462054</td>\n",
       "      <td>0.369472</td>\n",
       "      <td>21610400.0</td>\n",
       "      <td>0.450893</td>\n",
       "    </tr>\n",
       "    <tr>\n",
       "      <th>1980-12-18</th>\n",
       "      <td>0.475446</td>\n",
       "      <td>0.477679</td>\n",
       "      <td>0.475446</td>\n",
       "      <td>0.475446</td>\n",
       "      <td>0.380182</td>\n",
       "      <td>18362400.0</td>\n",
       "      <td>0.462054</td>\n",
       "    </tr>\n",
       "  </tbody>\n",
       "</table>\n",
       "</div>"
      ],
      "text/plain": [
       "                Open      High       Low     Close  Adj Close       Volume  \\\n",
       "Date                                                                         \n",
       "1980-12-12  0.513393  0.515625  0.513393  0.513393   0.410525  117258400.0   \n",
       "1980-12-15  0.488839  0.488839  0.486607  0.486607   0.389106   43971200.0   \n",
       "1980-12-16  0.453125  0.453125  0.450893  0.450893   0.360548   26432000.0   \n",
       "1980-12-17  0.462054  0.464286  0.462054  0.462054   0.369472   21610400.0   \n",
       "1980-12-18  0.475446  0.477679  0.475446  0.475446   0.380182   18362400.0   \n",
       "\n",
       "            Close_lag1  \n",
       "Date                    \n",
       "1980-12-12         NaN  \n",
       "1980-12-15    0.513393  \n",
       "1980-12-16    0.486607  \n",
       "1980-12-17    0.450893  \n",
       "1980-12-18    0.462054  "
      ]
     },
     "execution_count": 61,
     "metadata": {},
     "output_type": "execute_result"
    }
   ],
   "source": [
    "aapl_df.head()"
   ]
  },
  {
   "cell_type": "code",
   "execution_count": 63,
   "metadata": {},
   "outputs": [
    {
     "data": {
      "text/plain": [
       "<matplotlib.legend.Legend at 0x1805063ac50>"
      ]
     },
     "execution_count": 63,
     "metadata": {},
     "output_type": "execute_result"
    },
    {
     "data": {
      "image/png": "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",
      "text/plain": [
       "<Figure size 432x288 with 1 Axes>"
      ]
     },
     "metadata": {
      "needs_background": "light"
     },
     "output_type": "display_data"
    }
   ],
   "source": [
    "aapl_df['Close'].asfreq('M',method='ffill').plot(legend=True)\n",
    "shifted = aapl_df['Close'].asfreq('M',method='ffill').shift(10).plot(legend = True)\n",
    "shifted.legend(['Close','Close_lagged'])"
   ]
  },
  {
   "cell_type": "markdown",
   "metadata": {},
   "source": [
    "#### 1.9 Percent change\n",
    "\n",
    "우리는 금융시계열을 다루니 하루하루 주가가 어느정도 변동하는지 간단하게 살펴보자."
   ]
  },
  {
   "cell_type": "code",
   "execution_count": 64,
   "metadata": {},
   "outputs": [],
   "source": [
    "aapl_df['pct_change'] = aapl_df['Close'].pct_change()"
   ]
  },
  {
   "cell_type": "code",
   "execution_count": 65,
   "metadata": {},
   "outputs": [
    {
     "data": {
      "text/html": [
       "<div>\n",
       "<style scoped>\n",
       "    .dataframe tbody tr th:only-of-type {\n",
       "        vertical-align: middle;\n",
       "    }\n",
       "\n",
       "    .dataframe tbody tr th {\n",
       "        vertical-align: top;\n",
       "    }\n",
       "\n",
       "    .dataframe thead th {\n",
       "        text-align: right;\n",
       "    }\n",
       "</style>\n",
       "<table border=\"1\" class=\"dataframe\">\n",
       "  <thead>\n",
       "    <tr style=\"text-align: right;\">\n",
       "      <th></th>\n",
       "      <th>Open</th>\n",
       "      <th>High</th>\n",
       "      <th>Low</th>\n",
       "      <th>Close</th>\n",
       "      <th>Adj Close</th>\n",
       "      <th>Volume</th>\n",
       "      <th>Close_lag1</th>\n",
       "      <th>pct_change</th>\n",
       "    </tr>\n",
       "    <tr>\n",
       "      <th>Date</th>\n",
       "      <th></th>\n",
       "      <th></th>\n",
       "      <th></th>\n",
       "      <th></th>\n",
       "      <th></th>\n",
       "      <th></th>\n",
       "      <th></th>\n",
       "      <th></th>\n",
       "    </tr>\n",
       "  </thead>\n",
       "  <tbody>\n",
       "    <tr>\n",
       "      <th>1980-12-12</th>\n",
       "      <td>0.513393</td>\n",
       "      <td>0.515625</td>\n",
       "      <td>0.513393</td>\n",
       "      <td>0.513393</td>\n",
       "      <td>0.410525</td>\n",
       "      <td>117258400.0</td>\n",
       "      <td>NaN</td>\n",
       "      <td>NaN</td>\n",
       "    </tr>\n",
       "    <tr>\n",
       "      <th>1980-12-15</th>\n",
       "      <td>0.488839</td>\n",
       "      <td>0.488839</td>\n",
       "      <td>0.486607</td>\n",
       "      <td>0.486607</td>\n",
       "      <td>0.389106</td>\n",
       "      <td>43971200.0</td>\n",
       "      <td>0.513393</td>\n",
       "      <td>-0.052174</td>\n",
       "    </tr>\n",
       "    <tr>\n",
       "      <th>1980-12-16</th>\n",
       "      <td>0.453125</td>\n",
       "      <td>0.453125</td>\n",
       "      <td>0.450893</td>\n",
       "      <td>0.450893</td>\n",
       "      <td>0.360548</td>\n",
       "      <td>26432000.0</td>\n",
       "      <td>0.486607</td>\n",
       "      <td>-0.073394</td>\n",
       "    </tr>\n",
       "    <tr>\n",
       "      <th>1980-12-17</th>\n",
       "      <td>0.462054</td>\n",
       "      <td>0.464286</td>\n",
       "      <td>0.462054</td>\n",
       "      <td>0.462054</td>\n",
       "      <td>0.369472</td>\n",
       "      <td>21610400.0</td>\n",
       "      <td>0.450893</td>\n",
       "      <td>0.024753</td>\n",
       "    </tr>\n",
       "    <tr>\n",
       "      <th>1980-12-18</th>\n",
       "      <td>0.475446</td>\n",
       "      <td>0.477679</td>\n",
       "      <td>0.475446</td>\n",
       "      <td>0.475446</td>\n",
       "      <td>0.380182</td>\n",
       "      <td>18362400.0</td>\n",
       "      <td>0.462054</td>\n",
       "      <td>0.028984</td>\n",
       "    </tr>\n",
       "    <tr>\n",
       "      <th>1980-12-19</th>\n",
       "      <td>0.504464</td>\n",
       "      <td>0.506696</td>\n",
       "      <td>0.504464</td>\n",
       "      <td>0.504464</td>\n",
       "      <td>0.403385</td>\n",
       "      <td>12157600.0</td>\n",
       "      <td>0.475446</td>\n",
       "      <td>0.061033</td>\n",
       "    </tr>\n",
       "    <tr>\n",
       "      <th>1980-12-22</th>\n",
       "      <td>0.529018</td>\n",
       "      <td>0.531250</td>\n",
       "      <td>0.529018</td>\n",
       "      <td>0.529018</td>\n",
       "      <td>0.423019</td>\n",
       "      <td>9340800.0</td>\n",
       "      <td>0.504464</td>\n",
       "      <td>0.048673</td>\n",
       "    </tr>\n",
       "    <tr>\n",
       "      <th>1980-12-23</th>\n",
       "      <td>0.551339</td>\n",
       "      <td>0.553571</td>\n",
       "      <td>0.551339</td>\n",
       "      <td>0.551339</td>\n",
       "      <td>0.440868</td>\n",
       "      <td>11737600.0</td>\n",
       "      <td>0.529018</td>\n",
       "      <td>0.042193</td>\n",
       "    </tr>\n",
       "    <tr>\n",
       "      <th>1980-12-24</th>\n",
       "      <td>0.580357</td>\n",
       "      <td>0.582589</td>\n",
       "      <td>0.580357</td>\n",
       "      <td>0.580357</td>\n",
       "      <td>0.464072</td>\n",
       "      <td>12000800.0</td>\n",
       "      <td>0.551339</td>\n",
       "      <td>0.052632</td>\n",
       "    </tr>\n",
       "    <tr>\n",
       "      <th>1980-12-26</th>\n",
       "      <td>0.633929</td>\n",
       "      <td>0.636161</td>\n",
       "      <td>0.633929</td>\n",
       "      <td>0.633929</td>\n",
       "      <td>0.506909</td>\n",
       "      <td>13893600.0</td>\n",
       "      <td>0.580357</td>\n",
       "      <td>0.092309</td>\n",
       "    </tr>\n",
       "  </tbody>\n",
       "</table>\n",
       "</div>"
      ],
      "text/plain": [
       "                Open      High       Low     Close  Adj Close       Volume  \\\n",
       "Date                                                                         \n",
       "1980-12-12  0.513393  0.515625  0.513393  0.513393   0.410525  117258400.0   \n",
       "1980-12-15  0.488839  0.488839  0.486607  0.486607   0.389106   43971200.0   \n",
       "1980-12-16  0.453125  0.453125  0.450893  0.450893   0.360548   26432000.0   \n",
       "1980-12-17  0.462054  0.464286  0.462054  0.462054   0.369472   21610400.0   \n",
       "1980-12-18  0.475446  0.477679  0.475446  0.475446   0.380182   18362400.0   \n",
       "1980-12-19  0.504464  0.506696  0.504464  0.504464   0.403385   12157600.0   \n",
       "1980-12-22  0.529018  0.531250  0.529018  0.529018   0.423019    9340800.0   \n",
       "1980-12-23  0.551339  0.553571  0.551339  0.551339   0.440868   11737600.0   \n",
       "1980-12-24  0.580357  0.582589  0.580357  0.580357   0.464072   12000800.0   \n",
       "1980-12-26  0.633929  0.636161  0.633929  0.633929   0.506909   13893600.0   \n",
       "\n",
       "            Close_lag1  pct_change  \n",
       "Date                                \n",
       "1980-12-12         NaN         NaN  \n",
       "1980-12-15    0.513393   -0.052174  \n",
       "1980-12-16    0.486607   -0.073394  \n",
       "1980-12-17    0.450893    0.024753  \n",
       "1980-12-18    0.462054    0.028984  \n",
       "1980-12-19    0.475446    0.061033  \n",
       "1980-12-22    0.504464    0.048673  \n",
       "1980-12-23    0.529018    0.042193  \n",
       "1980-12-24    0.551339    0.052632  \n",
       "1980-12-26    0.580357    0.092309  "
      ]
     },
     "execution_count": 65,
     "metadata": {},
     "output_type": "execute_result"
    }
   ],
   "source": [
    "aapl_df.head(10)"
   ]
  },
  {
   "cell_type": "code",
   "execution_count": 66,
   "metadata": {},
   "outputs": [
    {
     "data": {
      "text/plain": [
       "<matplotlib.axes._subplots.AxesSubplot at 0x1805173e160>"
      ]
     },
     "execution_count": 66,
     "metadata": {},
     "output_type": "execute_result"
    },
    {
     "data": {
      "image/png": "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",
      "text/plain": [
       "<Figure size 432x288 with 1 Axes>"
      ]
     },
     "metadata": {
      "needs_background": "light"
     },
     "output_type": "display_data"
    }
   ],
   "source": [
    "aapl_df['Close'].pct_change().plot()"
   ]
  },
  {
   "cell_type": "markdown",
   "metadata": {},
   "source": [
    "#### Diff"
   ]
  },
  {
   "cell_type": "code",
   "execution_count": 67,
   "metadata": {},
   "outputs": [],
   "source": [
    "aapl_df['Close_diff'] = aapl_df['Close'].diff()"
   ]
  },
  {
   "cell_type": "code",
   "execution_count": 68,
   "metadata": {},
   "outputs": [],
   "source": [
    "# aapl_df['Close'].shift()"
   ]
  },
  {
   "cell_type": "code",
   "execution_count": 69,
   "metadata": {},
   "outputs": [
    {
     "name": "stdout",
     "output_type": "stream",
     "text": [
      "Date\n",
      "1980-12-12         NaN\n",
      "1980-12-15   -0.026786\n",
      "1980-12-16   -0.035714\n",
      "1980-12-17    0.011161\n",
      "1980-12-18    0.013392\n",
      "Name: Close, dtype: float64\n"
     ]
    },
    {
     "data": {
      "text/plain": [
       "<matplotlib.axes._subplots.AxesSubplot at 0x1805181a438>"
      ]
     },
     "execution_count": 69,
     "metadata": {},
     "output_type": "execute_result"
    },
    {
     "data": {
      "image/png": "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",
      "text/plain": [
       "<Figure size 432x288 with 1 Axes>"
      ]
     },
     "metadata": {
      "needs_background": "light"
     },
     "output_type": "display_data"
    }
   ],
   "source": [
    "print(aapl_df['Close'].diff().head())\n",
    "aapl_df['Close'].diff().plot()"
   ]
  },
  {
   "cell_type": "code",
   "execution_count": 70,
   "metadata": {},
   "outputs": [
    {
     "name": "stdout",
     "output_type": "stream",
     "text": [
      "Date\n",
      "1980-12-12         NaN\n",
      "1980-12-15   -0.052174\n",
      "1980-12-16   -0.073394\n",
      "1980-12-17    0.024753\n",
      "1980-12-18    0.028984\n",
      "Name: Close, dtype: float64\n"
     ]
    },
    {
     "data": {
      "text/plain": [
       "<matplotlib.axes._subplots.AxesSubplot at 0x180518e25c0>"
      ]
     },
     "execution_count": 70,
     "metadata": {},
     "output_type": "execute_result"
    },
    {
     "data": {
      "image/png": "iVBORw0KGgoAAAANSUhEUgAAAXwAAAD8CAYAAAB0IB+mAAAABHNCSVQICAgIfAhkiAAAAAlwSFlzAAALEgAACxIB0t1+/AAAADh0RVh0U29mdHdhcmUAbWF0cGxvdGxpYiB2ZXJzaW9uMy4xLjMsIGh0dHA6Ly9tYXRwbG90bGliLm9yZy+AADFEAAAgAElEQVR4nO3dd5gUVdbA4d+ZGYacs+QcDIgECUoQUIIr5pwDurqruIYPdXUVUVhF17yKOa26ZlcRFQREESSj5KgkiZJhmHC/P6q6p0N17unumTrv8/Aw3V3ddaam+tStG8UYg1JKqbIvK90BKKWUSg1N+Eop5RKa8JVSyiU04SullEtowldKKZfQhK+UUi6Rk+4AwqlTp45p3rx5usNQSqlSY968eTuMMXWdXsvohN+8eXPmzp2b7jCUUqrUEJFfQ72mVTpKKeUSmvCVUsolNOErpZRLaMJXSimX0ISvlFIuoQlflWmH8wtZv+NAusNQKiNowldl2s3vLKDf+GnkFRSmOxSl0k4TvirTZqzaAUBhka77oJQmfKWUcglN+Eop5RKa8JVSyiU04SullEtowldKKZfQhK+UUi6hCV+5gtFemUppwldlm0i6I1Aqc2jCV0opl9CEr5RSLqEJX5VpWnevVDFN+MoVtC5fKU34SinlGprwlVLKJTThK1fQunylNOGrMk7r7pUqpglfKaVcQhO+KtV+3XmATbsPRbXtkYIinpu2miMFRSUclVKZSRO+KtX6PjqN3uO+jWrbl79fxyOTVvDGj+tLNCalMpUmfOUaB48U2P/rgubKnTThK9fRHjvKrTThqzLNN7lrhx3ldprwlVLKJZKS8EVksIisEJHVIjLK4fVLRGSx/W+miHRKxn6VikT74StVLOGELyLZwLPAEKAjcJGIdAzYbB3Q1xhzHPAgMCHR/SqllIpNMkr43YHVxpi1xpgjwLvAcN8NjDEzjTF/2A9nAY2TsF+l4mLQVlvlTslI+I2ADT6PN9rPhXIN8GWoF0VkhIjMFZG527dvT0J4Stm0fke5XDISvtO3yLEIJSL9sRL+/4X6MGPMBGNMV2NM17p16yYhPJUJtu07zMINu9MdhlKuloyEvxFo4vO4MbA5cCMROQ54CRhujNmZhP2qUmTwEzM489kf0h2GUq6WjIQ/B2gjIi1EJBe4EPjMdwMRaQp8BFxmjFmZhH260r7D+fxx4Ei6w4jLrjTH7XvLqQOvlFvlJPoBxpgCEfkL8BWQDbxijFkiIjfYrz8P3AfUBp4Tqx61wBjTNdF9u81xD3yNMbB+3LB0h1JqSIiflXKjhBM+gDFmIjAx4LnnfX6+Frg2GftyMy2ZKqUSoSNtlVLKJTThqzJNb4qUKqYJX7mCb/29XgSUW2nCV66h466U22nCV2WaLnaiVDFN+KrM2nc43/tzItU4RwqKuP+zJew+WDrHQCjloQlflVnRLla+ett+mo/6gu9WOs/d9OnCTbw2cz3/nLQcgGkrtlFQqAuhAxzOL+S0f33HrLU6eL400IQfpWVb9vL+3A2Or63auo/mo75g1dZ9KY5KhSOhKu0DBjTMWb8LgIk/b3HcvMjevrDIMHXFNq58dQ7PTVuTvEAT9MeBI2zZcygt+16zfT8rtu7j/s+WpGX/Kjaa8KM05MkZ3PHBYsfX/rfYShSfL3ZOGCo9AtO9JGGs7fZ9eQD8tutgyG0O5xcy5vOlHMgrSHh/0ThhzDf0HPttSvYVyHPtzNIW8VJBE34S6KmeuLXb9yd9vp1Yc1CyRjK/NetXXvp+Hc9NW52cD4wgnSOwPfteumUvU1dsS18gKiqa8JNI+3dHlldQyPodB4KeP+Wx6fR9dGoaInK+YK/eto9t+w7H9Xn5hdaZUFCU2WfEwg27mffrH5E3DMN3MZnPFgZNkqsyjCZ8B8YYCmP4snpLkjrZTUR3ffQz/cZPY8+h/KDX9h1OThWIMYYd+/NCVuFE81ca+Ph39AqoJonmzxvLeRPOxws2sudg8DHytX7HAb+EfSjGLqhnPvsD5/x7ZlzxeegpX7pownfw1qxfaXX3RMcS3uPfBM/u7Ekseu5H9sPqHQAcPGIl9/zCooiJLRoj313A5t1Ww+U7P22g65jJLP99r982sVbxBJbQD+UXcvdHPwOwbV8eJiDbLd28l1Z3T+StWb/GGL2/1dv2c+t7ixj53oKw2/UbP80vYfdJwx1Skc8xCDweKvNowg+wde9h7v3U6nGwYVdwz4enpqwKek7bq6LnvTjaueHW9xbSafTXCX/uJws3M/p/SwH4frXVvXJtQNVRpHwUaa3bzxdv8V4Evlu5nbdn/wZAUZFh3q+7WLDBKm1vsi888TYSH863Supb9+bF9D5Pg3Kyrd2+n/Of/5H9Do3QmuJLF034AS6cMCvu95bmAs7O/Xn0HDuFFb+XbNfSwItjSfRsijXRxnvBfuPH9azeto+HJy7jnH//yD0f/+L3ekktlj53/S7e/em3uN8/c/WOmO6qHpm0gp/W72KGwziF0nzOu1FS5sMvSzaE6W4XircKP0XlnQnfrWFEn1YJfcabP66nVb0q9GpVB4Apy7exZc9hXpyxlvHndUpClM6Kj1XJOJxfyBch+tOHSuxTloXuXbLnYH7IuvGVW/cz8PHvYo4xUec+/2Pc7z2QV8DFL82mW/OaMb/X+W+mGb80KZMl/AGPTaPz6K8xxlAUphHtpRlrg3qM+CaFvPxClm3ZS6C8gkK/kZbxlhCPFBTx/PQ15AeM2py5egeLwiz4/fDE5fHt0Me9ny7h4hdnJ/w5sfIMhvp1xwEuezm5+zcYflq3K/J2PqfErLU7+Xrp1pDbdhr9NdNDjMCNJNF+/8mqKrz/syU8bVdFFtg9iGK5k/PE4VSa9/16pSr1L/jtj7DfaxVamUz4a7Yf4I+D+Vz68mxa3j0x6PXt+/LYcyifMV8s44IJoUtLd3ywmCFPzghaR7bd3ycx7Knvg7aP9fb2lR/WMe7L5bw+c73f8xe/NJvhaVrw2/M7TF2xje9X7Uj653vqty9+aTYz4vj8/87ZwG87Q9+FFYX5I3jy58cLNjHply3szyvwq8Lbe6jA8Q6vJKq5flyz03ssAiW7muS1met5LKCzgdMuDh0pdOxl5E34Du9KdZXOzDU7OOu5mUyYsTa1Oy4jymTC9/hhtf/8Hg9PXMYlL82i20OTueP9RYD1Jff4eeMebx9qKE5Oh/KDb+lX+Eyj4Cm1Op37RUXG726gsMh4k8p+uxtiJszo6FuY3H3wCFe9OodLk1wCj8aXP2/hl017HF8zxnDnh4s56znni6EgIRcrv+ujn71Jb9PuQ9zw1nxv46jHpCW/c/IjwT1dQk7REMHm3Yd4/JuV3t4rSzbvofmoL7j/syVc9OIs+jrsq8SF+VU63DfJ2wvJ/y3+De2+fL8bqei7sHm31XNuZZzTmExeupVj/vFVzF1Yy4oynfADTfhurfci4LmN9y3R/OmZ4FI7hL5Vnbt+FwMfnx6UOHyd9dwPtL7nS+/j8V+v4ORHprJh10FviSnUF+XLn7d44/t04aaQ+0i29+Y4zxkUzvSV2xn8xHdB1VOx+vPb8zn9aee/g8dO+44rcAIzgwn5x/rfouBBQaGqBRYGVKeFKolH8tmizTw1ZRVrtu9n0i9bvHeFr9l3dJk4MOs9p/mivCX8YPd9WtxQHe1v8+9pa7jrI+dpSqIW56F75Kvl7M8rCDs1RlnmqoTvpNAutuzcH3uXtge/WMbqbft54Tvr9jKwBPTLpj0s2rjHfs16ceYa64KzY3+ed/tQBcg/vz2fV39Yx+H8Qm55d2HM8cUjXMPz7LU7WbN9v+Nroz5czPLf97GthLoGBvrvnA1+F1IP3/gjNaKHyrfTV8RXZx/O3z+JfXKxeG4sbnp7fuxvihSH/b9TP/tNf8R+MfznpOW881PshQrfWHw98+0q7nK4M3HimfMnWQPkkmHb3sNM+uX3lOzLFQl//m/hh4//ceAIXcZMDvn6wRCTYGXbZ59nGt7ABONbUn1xxlq/UvqO/Ud49Yf1QPgqg2378mh/76Sg5wuLwjdIx0qKK2pDzmlzwYRZDHhsuvP77f+TOfhm5podtPv7l2zde9j+7OLX7vzQuYTou01+hOmRN+12LuUlu7eVdWydP/PMJLfVhOqhFInT380YgzHGr+vs4fxC8gp8qnF8Tt1PF27mpv/M55MFm2h/75cpmz12/NcreSfKbqqehB+urScafxw4EjSwL14XTpjFDW/No/tDoXNQsriiW+anCzbRoFoFx9eMMXR+8Juw77/7Y+fSQ3ZWQKI28PnizdSslEvv1nX8XgrsWXPdG3P9Hu8+eIQalXKDZlgMVV3U55GpbNp9iLeuOZGT2tRx3CZaU5Zt5Xa7TeObpVvZ5xODMYa7P/6Zs09oHPYzvO0YScqVa7fv9/Yimr5iO+d3axLxPQWFxq/UHul6GKp3zhOTgwfXJWL3wXx27He+iAZWH0XywbyNUW/7wP+WkJtTXKbr9tBkjmtUHfCfxmLbvsOOPYoGPDY9aDBXx/smUbFcNktGD3bc5xeLt/CFfYF4b84G/n56x6jjDWd/XgEXvziLnq1qA/H3CMqyD0ei5+npT3/Ppt2HWD9uGGAN2Pxp3S7+1OmoqN7vucCKiLd6KRV3x65I+K//+GvIL1w0PA1Fgeas979zeHv2b+z/zvoivXR516g//52ffuPRr1bwwQ09g/pYTw6RlDz1ytNWbIsq4f+yaQ+jPlrMg8OP4azn/OdP+a9Pve2+gAvOnR8s5v15G/3q9dds30+rulXYtPsQDapVIDtLvLfIeVEuOhLJeT7HIdoS96bdh/h4QXFCLCgKH0uqepjEOl9N4O97OL8QESifk+29MEfSfNQXQc9t35fHlOXBYw66PzTF8TMCRyqDdRE9kECD57a90U9I1/aeL2lZtzKTRvZh5uodLN64h8V2FenHCzbxrwuOj3n/oUr4uw4c4YN5G7ju5JbewsuzU1fTuGZFhh/fKOhzAtt1LnpxFmu3H2Bgh/pUzM2OGMeZz/7Aoo17WD9uWEpH6ruiSgdgdoj+2dHUikTbaOc79DyWBSk22vWgTgNqNu+Jb8ZGD09109gvl/HLpr1ByR7CJ7737RKl73Ea8Nh0tuw5RO9x3/LoVysA+N3+Ij8/PTkLg+x0qFZy6i3la/nv+5j4c3FdaKTxCpky98sz367i2amrefDzpX7P/7JpL3d//DPt751En3T06Ang1JvMt1dbNHY7TJoXypHCIpb/vo/PFm2OuUR/8EgB7835jX2H8/3q6z3JvDDgb3/7+4t4eOJyFvjccT361Qpv29lz01Zz6Uuhe61tsQuF0VYVedr2ILVdW12T8HfE0SibiHi78sVrz8F874RkHlOXb6Pt379k8cbdIReoOP3pGSEvhuHs2GclZM+8NR5fBTQ+/XfOBsfSZiw8X4geY51LovHan5cZXfPGf72SR79awcvfrwt67T/2fD1b9+ZFXf0TqltrLH7dGVy6v/cT/6kjAsePBPKccv+Z/Zu3ABTPt+LmdxbEPJPqmC+W8X8f/syx93/t15PI0+4WeLH3rH8cqt3nkUkr+H516HEjgV+vJZv38NoP/n/Ptdv3M+7L5WELGoMen86wp2aEfD1RrqjSSYfxX69IyX5e+n4dOdlZPD99DQ2rV+DHuwawc38etauUZ5q9IMW8X/8IeQH6ZVN8DU8fzi+uOlm9rbjnzr68Ar5e8junHt2A/8z+LWT7R6z+8ekvSZs+2SPahr5U+n3PYbaEuKuLtoE3UrfWaEx1qPrx7UY6+InvWB7FgLRdB474nQNX927h/Xnb3sPUrVqeH9fspGer2mELSdFcKJqP+sJbp+7b6+6j+Zt46Kxjrc/xVukEfn7osTSxrBngeb+nC+6V9u+7be9hTrE7PATeBfse11XbnHvBJYsm/BKyOwlT/kbLcwJt2XOYsROXebuJemzYdSiuOYLC8fQlP5hXyOUBA7RGvDmPBfcOSlqyHzdpeUqPZzol+y4mHp8s2MT9/1sadptokj3A09/6N4C/4lPq7f7wFK49qQUvfb+Ox8/vFLZjQKgq0sDR4Fv2HKJh9Yp+jdAGw/VvzmVEn1Z4+lkE9nD7aX3ou1zfNpj+46cxok9L7+O9h/OpVqFcyAvSnoP5HCksovvDzn/XdQ7tJJ73Va9ULmRM8XJNlY5bBCZ7sL5koU6sRK3dccCxnSFSz6dYuCXZZ4qR7yVnzMeLM9Z5ux6H8pJdjbVsy16enbqajX8cxBjDlGX+nRXGfx28DgXAV0v8qxBHffgz63cc8E5VDXA4v4ivlmzlprfn+5Xwi4qM4/ibvIJC77oNgdbtOODX5/+4+7/2u3gEVtd0GfMN3cJ0t+w/fprj81e+9lPI9yRCS/hKqbSbsmwba3cc4M0ff+Xqk5pHNUHg5KVbvYveeExfuZ1+IZKoSHHVUH5hEbd/sIiP5m+iSa2K3m3GfrmcRRt2M/z46LpXAkxftZ18O+kfyCv0q7KJdzR1MtphnEim9FRw0rVrVzN37tzIGwZItJFQKVX21KtanpZ1KzNr7S4a1agY95QZ4ZzYolZcnSCceNojYiUi84wxjv3CtYSvlHKFbfvyvIObSiLZQ+ju35lC6/CVUsolkpLwRWSwiKwQkdUiMsrhdRGRp+zXF4vICcnYr1JKqeglnPBFJBt4FhgCdAQuEpHACTSGAG3sfyOAfye6X6WUUrFJRgm/O7DaGLPWGHMEeBcYHrDNcOANY5kF1BCRhknYt1JKqSglI+E3Anwnt95oPxfrNgCIyAgRmSsic7dvT/685Eop5VbJSPhOg8wC+3pGs431pDETjDFdjTFd69atm3BwSimlLMlI+BsB38nKGwOB68lFs41SSpVatw5sm+4QIkpGwp8DtBGRFiKSC1wIfBawzWfA5XZvnR7AHmNMfEvzKKVUBrp5QGtGDWmflM+qUr5khkglnPCNMQXAX4CvgGXAf40xS0TkBhG5wd5sIrAWWA28CNyY6H6VUipWdw5ux7qxQzmmUbWkf7aIkBO4Cl4Ir1/dPezr4845NhkhBUlKP3xjzERjTFtjTCtjzEP2c88bY563fzbGmJvs1481xsQ+X4JSyjW+u6N/0HPvXNcjKZ8tIvz1lDZJ+SyP87taM30GLnt6dudGXNqjadD2fdsGt0/+3+Diu4PKuRlawlexO7lNHRpWd15jN5lOO7p+ie9DlX6Dj25QIp/bqEbFyBthLQf6xc0nUb9aee9zTWtX8tvmyl7N6dmqdtSfCdCqbmUA7ju9I9f3taY09kybfFqI3/nlK7ry3ojIF5Y7TmvHkgdOY/69g3jgjKMZe/ZxAEELDZ3TpTFjznQurT9yznF+j+tVLf79j4rh94yFJvwU69KsJi9e3pX/Xt8z6Z9drYJ/qeCfASdUSeplLy6tUq9jw9DVE29eE77qAOCGfq1Y8sBpfs85lUpjlRVldhnYsT5HH1U97Bq19atVsP+3kuKgjuELM/ee3pGT2/iUosPMEZmbk8W5XawSepdmNTmxpf+5PO7s4IR9U//WVC6fQ63KuVzRq7m3ZH9+1yZ+2zWtVSnovR7h5rtvW79K6IAToAk/xd64ujsVymXTpFYlVj00JOj17s1r+T0+NcKJ3bZ+FW7o2wqAZy85gQ9uKL6QVChXvJjyHae1SyTsiO4a0oEvbzk57DZVK+hcfbH48M/hCwX92lkJrYVdknWS7bCKVPcW/ufY8U1qUDmgkTBUqTQWvvvu1KSG4zYrxgz2/tyrVZ2In9nevrjVqZILwBU9mzlud2aI6Y2dFtWa8re+jD+vE+vHDaNGpdyg1y/sHv3Fr2JuNvcM7cBN/Vux+P5TaeKQ8BvXtErvqV0E1aIJP4lahvniAax+aIjfF6tcdvDh79ys+Isx487+XNmrecjPG3PmMbx2VXf+b3A7Pr2pNye3qUubelW9r/smfN+fS0qHhtWoXtEqtYw/r5Pfa9Pv6McxR1V3fN/pxzVkrEMpKhFHH1WN631WJiotpt3ez/tzl2a1WDr6tKBtlo0ezPpxwzjHs0KUgccCjrdHx6OKS/8n2on+jE5H8Z/rTkxe0AF6tKzF+nHDePnKblzduwXrxg71K4g8eWFxSb58TvB5ec1JLYKe8yTqf/ypI++O6MG9p3fknBMaMzLKrpBOBfypt/fjhcu6OCbl2wbF38Xyuj4tueO09lSrUFyCf+XKrlzRsxkzR53iLRjVruJ/cUnFMtia8AluaPHIzc4Km3AD9Q5TQnn+0i7kOCT4D//cy++xbx1lk1qVqGWfFDUcbv8u7dGMo2pURES8JSgT7t7Vh++XzleftnV55UrHqbS9VjvcmXhOVs/6CoM6+N+ZeG7JnZzYohYXdW/KW9f4JyHfOs1YvXBZl6QUoeomEEM8mtfxLzTkOpwzFXOtJFm7snVuNKpZkXO6BC8PWKNSOWpUyuXn+09l2ejBtKpnVRMYrNL0OSc05l8XBF8oIiWeWpWDS8G+PH/HVnWrcN+fOiIi3tL+9X1aMvz4Rqx6aEhQNRJYc8Dfe3rgVFzFyudk06NlbSrl5vDY+Z2oWTnXsa0q1Pq4vs+2qFM5ZF3+0UnuxXNK+/o8MPwYjqpRkar2haBLM/87Ld+lScKt75sITfjA17f2cXx+3DnHcv8ZR0f9OUVhFpPp3dq5jvv4JjX8Xrv0xGZ8/3/9mTnqFADaN6jG+zf05K4k9e/1qBiixN+hQVVOaV+fk1oXX7wCv4BOFy4P7xEIOF99z9+zT7Bm1fjHnzoyakh7LjnRui0/qY3/BdOT2KLle1E0Br91TZ18fWsfnrqoc9htQl0YE/XsxcUTxt7Yr1XI7XyPde2ARNurdR1euKwLt5/qXF238L5TAahaoRwVc7OLj4Z9nj52fifO6hx8oZh6W7+wsc+9ZyAL7h3EhMu6BL22Ysxgx/MjK0tYP24Ydw3tAFh3t4HVSOE0CFNgcFKxXDantK8HQLeAatJo9GtbL+b3lAaa8MM4o5NzPWCz2pV4cPjRfHeHf5VLqHpKwHtVD5SdJbx9bXGvgKwsoXHNSn6t9N2a14rrpPVVOSB5hipBeL6Evi87Lff26pXdGHpscenIu73PNa95QE8Lz+LPowa3Z/24YVzVuwU39G1FVog7rHAX0AX3DvJ7vH7cMO7/U/HFuXHNihFLqm3rV43YOBau0S1WviXadg2Kq95OPy665fS+urUPE2/2byc57egG5OZE9zX23oVF2C7wLiPwDjgrS6hZOZdTHUrHTlU08Vo5Zggrxwzh5Su6Rr3k4A19WzHnnoFUzM2mT9u6rHl4KMc2dq5KDMdzTkZ7bJPlmYs707lp6DySqDKf8Pu3izwfT/1qFWhQrQIvXl5clXH30PYhS7JVyudwWc/mNK1difvPOJp1Y4cy487+nN+1SYnVjbasG1+r/WlH1+ei7k05t0tj7hwcXBKMpuRUp0r5oOXW+revx8NnBde7e5KJSHDM/dvXY/24YdSLsrQWbvXNGpXK0Sngi3y8fcFtWqsSIpHK93acDlsd06gar1/dnX9d0InGNZOX8GMp0fq6a0h7GlavQJ0q5f3q5AO1qluZlnVCtyNd0NVqfAxVen3qos68elW3oOcDOxKkSm5OFrk5WQzoUD9sFUf/dsW/T06W+FXDeS5W8Szl+upV3Zjyt75AcfvcK1d2LW47STKDdfH/+MbeJfL5oEscAlY96ay7B/g9lxOmT1nguSMi3oafaHoaOLltUFt+WLMjrvf6CozthcuKL2I39mvNI5NWAMWl72tPbsFZnRvRZcxkv/dFU4dYo1IuLetWZu32A97E6fliCYlXoYf6jr597YmO8QU+Fdgn2lcz+/cPtYnTwJiSFngX5nF931Zc3zd0tY/HFLsqJtSazsc2rh52ndTAO9oLuzXhf4s2065BVX5cuzPi/t++tuQagsO5oFsTVm7dzys/rIt4VxdL1bjvheS9ET1Z/vteTm5Tl1PaJ298y8c39uLyV35i3+GCpH1mOGW2hO+5yse7RPslPv2QY73F8tS/x+KvA9rw7ojo++aH63sdjTb1q/LjXadwzUktqF0luGEy2u9FOfvC6Pki3W53/6xYLtvvyxVdeRu+va2v9+ealcsx487gEZeeeUaGH2+1BXh6BgVqE6K65tSO9fnm1r52XNELrEO/1qE3SSRPXng8udlZfgPvROD5S09g0kjntqR0GXfOcSwZPZi7h3ZgyDHhB2dVq5BD79bxFXYSJSIhzwGPOAr4fupWLe/frz9JOjet6e3gkIpummUy4a8fN4zP/3oSYA2EuKi7/2CIwAZUp146vnWRsfYWKalRcr7qVXOOqVqEE99Xw+oVE+4N8Nj5nTilfT1a2z1ArurdgvXjhtnVYbF/dsu6Vbyl77FnHUeTWpW8PZc8Cdfz3b2gWxPqVCnPvy9xXjHzjE5HUS47OIZHz+3krZuN5df39HKJh6fQMPz4Rqx8aEjQOTf4mIaO3QMzQW5OVthBUQDHNIq9njyVGtrnUL2qJT/CPZOV2Sqd+tUqeG9fhx7bkLFnH+e91X31yu4cyi+kfE4WO/bnheyW6RFYOoilsNCmXhVObJm6OtBIvwvARVEMJIk2ER7TqDqvXBlc7xvv5wGMPetYHpq4zNuw6Xlv/WoV2HngCOXtZF25fA5z/z4wzD6Fbs1rMXONf3WE7wjHeC54PVvW5se1Ox3r5Hu0rMXlPZvTo2VtxnyxlI/mb+LWgW35c5ieOIFeu6oby3/fF3NcJSkV4zgS4emOHOqveWWv5jSqUTGjpxtJ8CYkKmU24YfjaQwC4mqUi6UB6Ju/9Y28UQqFq8ON5OZTWrP7UH7U28d789CrdR2+8OmN4vmcR849jhW/76NDhOos37EIToPbfHnuGs7t0pgP5m0Mu+0DZxzNA/9bwguXd+H9uRsZfEwDnpyyym8bQRh6rLV6Z42K1mdXLp8dU2+Pfu3q0a9d6eoWmGiVSdL2H+Kky84SBkeolkqbFA65dWXCD+enewZw6Eih33NDj23I10u3pikiZ8k+R647uQUvzlgX9vP/FqK/dygS4ud4Va2Q4zjAKJxINzw1KuUy556B1KmSy8BEzQ8AABNySURBVPFNavD3T34JuW2HhtW87SzXnNQCYwyX92zGGz/+GlNMJa1fu7rk5RelZF91qpRnx/48rujlPMVBqqVjuoLSpEzW4SeiXtUKNKvt37XtzM6N/Brs0l2aKQlN7d/Z09idjJF+yRos6OltE+1x920gjub3qFu1vDVauXFsjfMiwujhx/g953t3Ee2o52R77aruvBPFjI/J4DlfMrX9oTTw3AlWinGgYTy0hB8l38FB0XyRRw5sw0fzN5VILM1qV+Jvg0KXtqfc1jfkSNpQLunelNqVc71T5Sa7pJTIBaRXq9r8uvMgVaKcfM3373NZj2Z8u3wbs+8ewIkPT4k7hkSU1DD5TJLuQlBpLoPdcVo7mtaqWGLTVPvShB8l3xM6mpN75MC2UU/sFKvpDotD+GoVxyCtrKziuudkubFfa75aknhV2ANnHMN1J7ekjkP3UV9OXT89g73A6ldeEl3rIsVQVnRqXJ2G1f17oGXab1sar60Vc7O5snfsXXzjoQk/aqW5DBG7ZHxxfKeaSOTjcnOyohppHOnOa1yE9QE6NKzKWZ0bhZ3bJhbpLvUm26d/OSndIYRW1g52CdGEHyW/En76wkihUlhUSlBOduT+5vGIdCRLY6nUI1Ni93bSceF5GwtttI3SrT7zY8czL0dpk+wvcioSg37Z0yfdXwnP6Oto23ncSo9OlE49ur63y17ZT/duLN+H9upV3dhzMPrxB7FqWadklrNzk6t6tyA7S7g8xApYyuKqhH9R9yZBjU5xcUHGbxFm1sV4lOaeKv1LcBBUeZ9BgCp+uTlZXHty6VvhLNVclfA9K8vHxWV1+Led2o4Xvlub7jBUhivF13FX0qKFcuQpdYZaBCaTpbs+2Y3SNchMxcZVJfxkcUOjLcCi+06lUvnMnjQr0ziVeMtyKVgbyksXTfhxiNSfu6yo7rBwukqOHHvk9tkltHpSqrmkDFTqacKPkud8rlu1PD1aOi9IrtIr00rS4e4Ec7Kz+Pn+U6mUW7q/gpl2zFV4pftsSwM9vzNXukuZgzrWZ9SQ9kHPhzpnQi1sXxppAb900IQfpXQnE5X5Xry8a+SNyhgtAJUu2ksnRnoLm7ky7W/jWSWqnAv62bulI0NppyX8KGm3MxWrmwe0oVx2Fud1aRJ549Iq066yKqyyX/RIEk8BRruhZS7PYhw3D2iT5kgslcvncPtp7cr0SNoB7a1RyPWruXtx8NIioRK+iNQC3gOaA+uB840xfwRs0wR4A2gAFAETjDFPJrLfdNICTeaqUC47oTV7Vez+0r81F5/YNOJaBSozJFr0GAVMMca0AabYjwMVALcZYzoAPYCbRKRjgvtNOa3QUSpYVpZosi9FEk34w4HX7Z9fB84M3MAYs8UYM9/+eR+wDGiU4H7TRgv4SqnSKtGEX98YswWsxA6EnVZQRJoDnYHZCe5XKaVUjCLW4YvIZKz690D3xLIjEakCfAiMNMbsDbPdCGAEQNOmTWPZhVJKqTAiJnxjzMBQr4nIVhFpaIzZIiINgW0htiuHlezfNsZ8FGF/E4AJAF27ds2YqnPtZ6yUKu0SrdL5DLjC/vkK4NPADcRa+eJlYJkx5vEE95d2pXkhD6WUuyWa8McBg0RkFTDIfoyIHCUiE+1tegOXAaeIyEL739AE95tyWsBXSpV2CfXDN8bsBAY4PL8ZGGr//D3auUUppdKu7A4BVEop5UcTfoy0Cj82Iwe2IUuPmVIZQSdPi5LW4cdn5MC2jBzYNt1hKKXQEn7MtISvlCqttIQfpUyYHnnc2cfSpn7VdIehlCqlNOHHKJ3TI1/YXUceK6Xipwk/So1qVOTkNnW4JUPmWldKqVhpwo9STnYWb15zYrrDUEqpuGmjrVJKuYQmfKWUcglN+Eop5RKa8JVSyiU04SullEtowldKKZfQhK+UUi6hCV8ppVxCE75SSrmEJnyllHIJTfhKKeUSmvCVUsolNOErpZRLaMJXSimX0ISvlFIuoQlfKaVcQhO+Ukq5hCZ8pZRyCU34SinlEprwlVLKJTThK6WUS2jCV0opl9CEr5RSLqEJXymlXEITvlJKuURCCV9EaonINyKyyv6/Zphts0VkgYh8nsg+lVJKxSfREv4oYIoxpg0wxX4cyi3AsgT3p5RSKk6JJvzhwOv2z68DZzptJCKNgWHASwnuTymlVJwSTfj1jTFbAOz/64XY7gngTqAowf0ppZSKU06kDURkMtDA4aV7otmBiJwObDPGzBORflFsPwIYAdC0adNodqGUUioKERO+MWZgqNdEZKuINDTGbBGRhsA2h816A2eIyFCgAlBNRN4yxlwaYn8TgAkAXbt2NdH8EkoppSJLtErnM+AK++crgE8DNzDG3GWMaWyMaQ5cCHwbKtkrpZQqOYkm/HHAIBFZBQyyHyMiR4nIxESDU0oplTwRq3TCMcbsBAY4PL8ZGOrw/DRgWiL7VEopFR8daauUUi6hCV8ppVxCE75SSrmEJnyllHIJTfhKKeUSmvCVUsolNOErpZRLaMJXSimX0ISvlFIuoQlfKaVcQhO+Ukq5hCZ8pZRyCU34SinlEprwlVLKJTThK6WUS2jCV0opl9CEr5RSLqEJXymlXEITvlJKuYQmfKUS1K5+1XSHoFRUElrEXCkFn9zUm0P5hekOQ6mINOErlaCKudlUzM1OdxhKRaRVOkop5RKa8JVSyiU04SullEtowldKKZfQhK+UUi6hCV8ppVxCjDHpjiEkEdkO/Bri5TrAjhSGE6tMji+TY4PMji+TY4PMji+TY4PMji+W2JoZY+o6vZDRCT8cEZlrjOma7jhCyeT4Mjk2yOz4Mjk2yOz4Mjk2yOz4khWbVukopZRLaMJXSimXKM0Jf0K6A4ggk+PL5Nggs+PL5Nggs+PL5Nggs+NLSmyltg5fKaVUbEpzCV8ppVQMNOErpZRLaMJXKoCISLpjKK302MUvFccu4xO+nkDx02MXt3LpDiAUEWme7hgi0GMXvxI/dhmZ8EXkaBHpB2AysFVZRLqLyMMiknHHT49d/ESkp4i8D4wXkY4ikjGrmojICSIyGRidSXF56LGLXyqPXUZ96UQkS0SeAz4E7haRB0Wkq+e19EYHIlJNRJ4FngE2GmOKMqUUrccuMSJSDyu2iVhD2G8BrrZfS1ucYrkHeAd41xhzuTGmMN1x+dJjF79UH7u0J4IANYGqQAfgEmAncJuIVDHGFKU1Mss9QA/gVGPMc5BRpegaQBUy99jdTeYeO4BOwEpjzKvAY8BHwHARaWuMMelKEPYxqgB8b4x5CUBEOotITgYdv2PI3GNXjsw+dik979Ke8O3brbb2w+pAL6CSMWY7Vml1F3CTvW3KTxw7vvb2w1eA7UA9ETlXRMaLyIUi0jTVcdmxtRCRCvbDWmTesWshIpXsh2+QWcfuIhF5QETOsJ9aAHQVkVbGmAPAHGAucD2k9uLkE9uZ9lP/BBqJyGMiMgd4EHhdRM5NVUwB8fUVkRN9nlqEdexaZsCxC4ztUaxjNz5Djt2ZInK3iAyzn1pICs+7tCV8Oxl8ATwLvCkig4wxa4GZwEh7sy1YV7zOInJUik8c3/het+NbAcwGvgRuBFYA5wF3iEjjFMbWXES+BF4C3haRjsaY1cB3wN/szdJ57Hzje9OObykwA/iK9B47EZEbgDuB9cCjInItsB/ronSLveluYDJQSUQapim2f4rIdcaY/VjHsjNwmzHmdKy/9WCfwlIq4qsqIh8BHwPXi0hNAGPMTuA94GZ703Qcu1CxHQDeBI4nvceuroh8gvX93AW8KiLn+hTO/mpvWqLHLqUJP6CUeTuw0BjTE/gUu94KqxTdW0RaGGMKgK3AYaBiGuP7BLjWfn4cMNoYc4ox5kXgXqyqlBYpjm22MWYAMBV4QEQ6Aq8BPeySVrqPnW98D4pIS6zS1v2pPna+7AtfT2CcfRt9E9APGIBVj9paRAba1WA7gUbAnjTG1l9ETjPGfACcbYz5zt58MlAX60KVKkeAb4FLgc1YF2yPD4H2IjIgHccuXGzGmLeB89N87FoBPxhj+hhjngduA261X3uHFB27VJfwK4A3ORwA8u3nqwHLRKQ18APWbc14AGPML0AzIC+N8VUHfhGRDsaYQ8aY1z0Jzi65NgB+S1FsOfbjJfb+nwG6AxdinehzgEfs19Jx7Jzi6wKMACobY173vCFVx05ELrdv9WvZTy3Dus3PMcZMBn7Bal/YDvwHeMI+FwcAAuSmMbZFQD8RaWKM2e3z1kGAoYSTlk98NYwxeVh3GpOBlVhVEe3sTRcB75KeYxcqtrb2dmKM2eXz1lQeu352teY8rDtIxOqFs9T+B/Az1rF7sqSPXUoSvogMEpFvsG6fz7dLMt8DbURkATAYyMb6svUFxgINReQZEfkFaxGUPQGlyHTE94aInGqfQEZEhovIFKxEu6sk4nOIrQDrlrCziHQSkU5YCauFHeMYoLGIPJ2mYxcqvsZAfZ/3nVGSx86uHmkoIlOBK7Aasp8WkWrABqAe0Nre/F2shsfaxpi3gLeBUVgX0TsDEm2qY3sPaA/Utt/bX0TmA0OAUcaYvcmMLUx8z4pIHWPMYWPMEeBHYBtwPoAxpsgY8xpW9cldpPbYRYrNiNWLrY/9fU7lsbsYeBGobozZKiLZdk+hDlgFSd9j9wYleN5h76xE/2GduLOB4Vh1kP8Bbrdfawd85LPtvcAz9s/1sRohz8iw+P5l/9wL66p9Zgpjewer/ruqHcvnWBemrnbcI9N87CLF95dUHDsg2/6/LfCW/XMO8BzwOlbPjVeAy7C+iGBVhz3k8xm5GRbbaJ9jXmJ/1zDxPQ18GLDtWXbcrYHKQFaajl2k2CpglZhbpfHYfRSwzRtY1UwADUr6vPP889x+J5XY/b6NVR91IjDPGPOp/dpk4HEReROrJLjBripZhlXfO9IuQW/FqoPOxPiyjDEzsaoqUh3bY8D7xpgHxaqrX2u/9gPFVTfb7OOXdAnENxOrPYESPHY5wGggW0QmYlUVFtr7LBCRv2A1ZnfEugCdiXXnMRYowuowgL39kQyLbba97WpgdTJjizK+m4HNItLXGDPdfv5jEekATMJqi+kPLEvDsYsmtlOMVYW4JpmxxRsfVnXSOhEZDZwtIoONMRuTfewCJb1KR0SuAjZidX8Cq37qIike1lwOWGu/vg+rO+HNInIL8AJWHVyJSVJ8JdK3OIrYcrBO2H/Zj9fZ7xsBXAPMh5LrBpdgfFd74iuh2Ppi3TXUxEqID2K1wfQXke7gvUiNBv5prPrxCcBJIjLbft80t8UWQ3zGju9+n/edhzU2ZSpwnF0oytTYllIC4olPrDr8q4EPsC4O/Y0xG0siviBJvqWpgtWj5RasL3d7+/knsG73fwDeAo7F6tpYGasu669Yt7M9SvJ2JpPjizG2L4D69usjsRpqu2XQsUtHfCcDl/k8fg74M3Al1l0IWAWcBsD7QHP7uRpAI7fGFkd8/wVa+LzvZLfGFmd8zbCqlp4ATijp+ILiLYED0NT+fxzwnv1zNlZJ+ST7cROsBFqi9VWlLb4YYnsNKG8/rqTxWfsBylNcR3oJMNb+eSHwV/vnrsA7Kf67ZmxsmR5fJscWR3zvpjq+wH9Jr9Ixxni62D0BtBCrD3EhsMcY87392g1Y3R4Lk73/0hxfDLEdBArs9xzU+Kz9GGPy7HjA6nq33f75KqCDiHyOdTdSYlVLpS22TI8vk2OLI755kOZ5fEr46nc9MN3ncXesQVYT8WmZTte/TI4vk2PL5Piw7jiysKrkWtvPtcaqHjmJFFSRlMbYMj2+TI6tNMTn+Vdia9raPVmKROQDrN4HeVgNnquMMUlvKY9VJseXybFBZsdnl55ysQbhfIzVOLYT69Y66f2uy0pskNnxZXJskPnxeZXwVa8S1rwVO4Cb0311K03xZXJsmR4f1qjZIqwxANekO57SElumx5fJsZWG+IwpoX74Pm7EqlcbZKyhz5kmk+PL5Nggs+PbiNUl73GNLWaZHF8mxwaZH1/JVelA8a1/ie0gQZkcXybHBpkfn1IqWIkmfKWUUpkj7QugKKWUSg1N+Eop5RKa8JVSyiU04StlE5FCEVkoIktEZJGI/M0zO2iY9zQXkYtTFaNSidCEr1SxQ8aY440xR2MNkR8K/CPCe5pjLXKhVMbTXjpK2URkvzGmis/jllgzfdbBmuXwTawZVMFazGWmiMzCmlF1HdaEe09hTS7XD2tSrWeNMS+k7JdQKgxN+ErZAhO+/dwfWEsM7gOKjDGHRaQN1syMXUWkH9YKaafb248A6hljxohIeaxpo88zxqxL6S+jlIOSHmmrVGnnmdmwHPCMiByPNYtq2xDbnwocJyLn2o+rA22wF4NRKp004SsVgl2lU4i1IPY/sJbc7ITV9nU41NuwJsz6KiVBKhUDbbRVyoGI1AWeB54xVr1ndWCLPZ3EZVjT4YJV1VPV561fAX8WkXL257QVkcoolQG0hK9UsYoishCr+qYAq5H2cfu154AP7bVSp2ItkAOwGCgQkUVYK309idVzZ749Ze52rAXJlUo7bbRVSimX0CodpZRyCU34SinlEprwlVLKJTThK6WUS2jCV0opl9CEr5RSLqEJXymlXEITvlJKucT/A7tc8BnbwpdIAAAAAElFTkSuQmCC",
      "text/plain": [
       "<Figure size 432x288 with 1 Axes>"
      ]
     },
     "metadata": {
      "needs_background": "light"
     },
     "output_type": "display_data"
    }
   ],
   "source": [
    "print((aapl_df['Close'] /aapl_df['Close'].shift(1) -1).head())\n",
    "(aapl_df['Close'] /aapl_df['Close'].shift(1) -1).plot()"
   ]
  },
  {
   "cell_type": "code",
   "execution_count": 71,
   "metadata": {},
   "outputs": [
    {
     "name": "stdout",
     "output_type": "stream",
     "text": [
      "Date\n",
      "1980-12-12         NaN\n",
      "1980-12-15   -0.052174\n",
      "1980-12-16   -0.073394\n",
      "1980-12-17    0.024753\n",
      "1980-12-18    0.028984\n",
      "Name: Close, dtype: float64\n"
     ]
    },
    {
     "data": {
      "text/plain": [
       "<matplotlib.axes._subplots.AxesSubplot at 0x180519997f0>"
      ]
     },
     "execution_count": 71,
     "metadata": {},
     "output_type": "execute_result"
    },
    {
     "data": {
      "image/png": "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",
      "text/plain": [
       "<Figure size 432x288 with 1 Axes>"
      ]
     },
     "metadata": {
      "needs_background": "light"
     },
     "output_type": "display_data"
    }
   ],
   "source": [
    "print((aapl_df['Close'].diff() /aapl_df['Close'].shift(1)).head())\n",
    "(aapl_df['Close'].diff() /aapl_df['Close'].shift(1)).plot()"
   ]
  },
  {
   "cell_type": "markdown",
   "metadata": {},
   "source": [
    "#### Rolling"
   ]
  },
  {
   "cell_type": "code",
   "execution_count": 72,
   "metadata": {},
   "outputs": [],
   "source": [
    "aapl_df['MA'] = aapl_df['Close'].rolling(window = 5).mean()"
   ]
  },
  {
   "cell_type": "code",
   "execution_count": 73,
   "metadata": {},
   "outputs": [
    {
     "data": {
      "text/html": [
       "<div>\n",
       "<style scoped>\n",
       "    .dataframe tbody tr th:only-of-type {\n",
       "        vertical-align: middle;\n",
       "    }\n",
       "\n",
       "    .dataframe tbody tr th {\n",
       "        vertical-align: top;\n",
       "    }\n",
       "\n",
       "    .dataframe thead th {\n",
       "        text-align: right;\n",
       "    }\n",
       "</style>\n",
       "<table border=\"1\" class=\"dataframe\">\n",
       "  <thead>\n",
       "    <tr style=\"text-align: right;\">\n",
       "      <th></th>\n",
       "      <th>Open</th>\n",
       "      <th>High</th>\n",
       "      <th>Low</th>\n",
       "      <th>Close</th>\n",
       "      <th>Adj Close</th>\n",
       "      <th>Volume</th>\n",
       "      <th>Close_lag1</th>\n",
       "      <th>pct_change</th>\n",
       "      <th>Close_diff</th>\n",
       "      <th>MA</th>\n",
       "    </tr>\n",
       "    <tr>\n",
       "      <th>Date</th>\n",
       "      <th></th>\n",
       "      <th></th>\n",
       "      <th></th>\n",
       "      <th></th>\n",
       "      <th></th>\n",
       "      <th></th>\n",
       "      <th></th>\n",
       "      <th></th>\n",
       "      <th></th>\n",
       "      <th></th>\n",
       "    </tr>\n",
       "  </thead>\n",
       "  <tbody>\n",
       "    <tr>\n",
       "      <th>1980-12-12</th>\n",
       "      <td>0.513393</td>\n",
       "      <td>0.515625</td>\n",
       "      <td>0.513393</td>\n",
       "      <td>0.513393</td>\n",
       "      <td>0.410525</td>\n",
       "      <td>117258400.0</td>\n",
       "      <td>NaN</td>\n",
       "      <td>NaN</td>\n",
       "      <td>NaN</td>\n",
       "      <td>NaN</td>\n",
       "    </tr>\n",
       "    <tr>\n",
       "      <th>1980-12-15</th>\n",
       "      <td>0.488839</td>\n",
       "      <td>0.488839</td>\n",
       "      <td>0.486607</td>\n",
       "      <td>0.486607</td>\n",
       "      <td>0.389106</td>\n",
       "      <td>43971200.0</td>\n",
       "      <td>0.513393</td>\n",
       "      <td>-0.052174</td>\n",
       "      <td>-0.026786</td>\n",
       "      <td>NaN</td>\n",
       "    </tr>\n",
       "    <tr>\n",
       "      <th>1980-12-16</th>\n",
       "      <td>0.453125</td>\n",
       "      <td>0.453125</td>\n",
       "      <td>0.450893</td>\n",
       "      <td>0.450893</td>\n",
       "      <td>0.360548</td>\n",
       "      <td>26432000.0</td>\n",
       "      <td>0.486607</td>\n",
       "      <td>-0.073394</td>\n",
       "      <td>-0.035714</td>\n",
       "      <td>NaN</td>\n",
       "    </tr>\n",
       "    <tr>\n",
       "      <th>1980-12-17</th>\n",
       "      <td>0.462054</td>\n",
       "      <td>0.464286</td>\n",
       "      <td>0.462054</td>\n",
       "      <td>0.462054</td>\n",
       "      <td>0.369472</td>\n",
       "      <td>21610400.0</td>\n",
       "      <td>0.450893</td>\n",
       "      <td>0.024753</td>\n",
       "      <td>0.011161</td>\n",
       "      <td>NaN</td>\n",
       "    </tr>\n",
       "    <tr>\n",
       "      <th>1980-12-18</th>\n",
       "      <td>0.475446</td>\n",
       "      <td>0.477679</td>\n",
       "      <td>0.475446</td>\n",
       "      <td>0.475446</td>\n",
       "      <td>0.380182</td>\n",
       "      <td>18362400.0</td>\n",
       "      <td>0.462054</td>\n",
       "      <td>0.028984</td>\n",
       "      <td>0.013392</td>\n",
       "      <td>0.477679</td>\n",
       "    </tr>\n",
       "    <tr>\n",
       "      <th>1980-12-19</th>\n",
       "      <td>0.504464</td>\n",
       "      <td>0.506696</td>\n",
       "      <td>0.504464</td>\n",
       "      <td>0.504464</td>\n",
       "      <td>0.403385</td>\n",
       "      <td>12157600.0</td>\n",
       "      <td>0.475446</td>\n",
       "      <td>0.061033</td>\n",
       "      <td>0.029018</td>\n",
       "      <td>0.475893</td>\n",
       "    </tr>\n",
       "    <tr>\n",
       "      <th>1980-12-22</th>\n",
       "      <td>0.529018</td>\n",
       "      <td>0.531250</td>\n",
       "      <td>0.529018</td>\n",
       "      <td>0.529018</td>\n",
       "      <td>0.423019</td>\n",
       "      <td>9340800.0</td>\n",
       "      <td>0.504464</td>\n",
       "      <td>0.048673</td>\n",
       "      <td>0.024554</td>\n",
       "      <td>0.484375</td>\n",
       "    </tr>\n",
       "    <tr>\n",
       "      <th>1980-12-23</th>\n",
       "      <td>0.551339</td>\n",
       "      <td>0.553571</td>\n",
       "      <td>0.551339</td>\n",
       "      <td>0.551339</td>\n",
       "      <td>0.440868</td>\n",
       "      <td>11737600.0</td>\n",
       "      <td>0.529018</td>\n",
       "      <td>0.042193</td>\n",
       "      <td>0.022321</td>\n",
       "      <td>0.504464</td>\n",
       "    </tr>\n",
       "    <tr>\n",
       "      <th>1980-12-24</th>\n",
       "      <td>0.580357</td>\n",
       "      <td>0.582589</td>\n",
       "      <td>0.580357</td>\n",
       "      <td>0.580357</td>\n",
       "      <td>0.464072</td>\n",
       "      <td>12000800.0</td>\n",
       "      <td>0.551339</td>\n",
       "      <td>0.052632</td>\n",
       "      <td>0.029018</td>\n",
       "      <td>0.528125</td>\n",
       "    </tr>\n",
       "    <tr>\n",
       "      <th>1980-12-26</th>\n",
       "      <td>0.633929</td>\n",
       "      <td>0.636161</td>\n",
       "      <td>0.633929</td>\n",
       "      <td>0.633929</td>\n",
       "      <td>0.506909</td>\n",
       "      <td>13893600.0</td>\n",
       "      <td>0.580357</td>\n",
       "      <td>0.092309</td>\n",
       "      <td>0.053572</td>\n",
       "      <td>0.559821</td>\n",
       "    </tr>\n",
       "  </tbody>\n",
       "</table>\n",
       "</div>"
      ],
      "text/plain": [
       "                Open      High       Low     Close  Adj Close       Volume  \\\n",
       "Date                                                                         \n",
       "1980-12-12  0.513393  0.515625  0.513393  0.513393   0.410525  117258400.0   \n",
       "1980-12-15  0.488839  0.488839  0.486607  0.486607   0.389106   43971200.0   \n",
       "1980-12-16  0.453125  0.453125  0.450893  0.450893   0.360548   26432000.0   \n",
       "1980-12-17  0.462054  0.464286  0.462054  0.462054   0.369472   21610400.0   \n",
       "1980-12-18  0.475446  0.477679  0.475446  0.475446   0.380182   18362400.0   \n",
       "1980-12-19  0.504464  0.506696  0.504464  0.504464   0.403385   12157600.0   \n",
       "1980-12-22  0.529018  0.531250  0.529018  0.529018   0.423019    9340800.0   \n",
       "1980-12-23  0.551339  0.553571  0.551339  0.551339   0.440868   11737600.0   \n",
       "1980-12-24  0.580357  0.582589  0.580357  0.580357   0.464072   12000800.0   \n",
       "1980-12-26  0.633929  0.636161  0.633929  0.633929   0.506909   13893600.0   \n",
       "\n",
       "            Close_lag1  pct_change  Close_diff        MA  \n",
       "Date                                                      \n",
       "1980-12-12         NaN         NaN         NaN       NaN  \n",
       "1980-12-15    0.513393   -0.052174   -0.026786       NaN  \n",
       "1980-12-16    0.486607   -0.073394   -0.035714       NaN  \n",
       "1980-12-17    0.450893    0.024753    0.011161       NaN  \n",
       "1980-12-18    0.462054    0.028984    0.013392  0.477679  \n",
       "1980-12-19    0.475446    0.061033    0.029018  0.475893  \n",
       "1980-12-22    0.504464    0.048673    0.024554  0.484375  \n",
       "1980-12-23    0.529018    0.042193    0.022321  0.504464  \n",
       "1980-12-24    0.551339    0.052632    0.029018  0.528125  \n",
       "1980-12-26    0.580357    0.092309    0.053572  0.559821  "
      ]
     },
     "execution_count": 73,
     "metadata": {},
     "output_type": "execute_result"
    }
   ],
   "source": [
    "aapl_df.head(10)"
   ]
  },
  {
   "cell_type": "code",
   "execution_count": 74,
   "metadata": {},
   "outputs": [
    {
     "data": {
      "text/plain": [
       "pandas.core.window.rolling.Rolling"
      ]
     },
     "execution_count": 74,
     "metadata": {},
     "output_type": "execute_result"
    }
   ],
   "source": [
    "type(aapl_df['Close'].rolling(window = 5))"
   ]
  },
  {
   "cell_type": "markdown",
   "metadata": {},
   "source": [
    "#### Resampling\n",
    "\n",
    "* Upsampling : 시계열을 Low frequency에서 high frequency로 변환한다. 누란된 데이터를 채우거나 보간하는 방법을 포함한다. (월간 -> 일)\n",
    "\n",
    "* Downsampling : 시계열을 high frequency에서 low frequency로 변환한다. 기존 데이터를 집계하는 것을 포함.(주간 -> 월 ) or (일간 -> 주간)\n",
    "\n",
    "=> 하지만 금융시계열 같은 경우는 각 시간 데이터가 중요하기에 Downsampling을 살펴보겠다"
   ]
  },
  {
   "cell_type": "code",
   "execution_count": 75,
   "metadata": {},
   "outputs": [],
   "source": [
    "import pandas as pd\n",
    "index = pd.date_range(start = '2019-01-01',end= '2019-10-01',freq='B')\n",
    "series = pd.Series(range(len(index)), index=index)\n"
   ]
  },
  {
   "cell_type": "code",
   "execution_count": 76,
   "metadata": {},
   "outputs": [
    {
     "data": {
      "text/plain": [
       "2019-01-31     253\n",
       "2019-02-28     650\n",
       "2019-03-31    1113\n",
       "2019-04-30    1639\n",
       "2019-05-31    2231\n",
       "2019-06-30    2370\n",
       "2019-07-31    3220\n",
       "2019-08-31    3575\n",
       "2019-09-30    3864\n",
       "2019-10-31     195\n",
       "Freq: M, dtype: int64"
      ]
     },
     "execution_count": 76,
     "metadata": {},
     "output_type": "execute_result"
    }
   ],
   "source": [
    "series.resample(rule='M').sum()"
   ]
  },
  {
   "cell_type": "code",
   "execution_count": 77,
   "metadata": {},
   "outputs": [
    {
     "data": {
      "text/plain": [
       "2019-01-31     22\n",
       "2019-02-28     42\n",
       "2019-03-31     63\n",
       "2019-04-30     85\n",
       "2019-05-31    108\n",
       "2019-06-30    128\n",
       "2019-07-31    151\n",
       "2019-08-31    173\n",
       "2019-09-30    194\n",
       "2019-10-31    195\n",
       "Freq: M, dtype: int64"
      ]
     },
     "execution_count": 77,
     "metadata": {},
     "output_type": "execute_result"
    }
   ],
   "source": [
    "series.resample(rule='M').last()"
   ]
  },
  {
   "cell_type": "code",
   "execution_count": 78,
   "metadata": {},
   "outputs": [
    {
     "data": {
      "text/plain": [
       "2019-01-01      0\n",
       "2019-02-01     23\n",
       "2019-03-01     43\n",
       "2019-04-01     64\n",
       "2019-05-01     86\n",
       "2019-06-01    109\n",
       "2019-07-01    129\n",
       "2019-08-01    152\n",
       "2019-09-01    174\n",
       "2019-10-01    195\n",
       "Freq: MS, dtype: int64"
      ]
     },
     "execution_count": 78,
     "metadata": {},
     "output_type": "execute_result"
    }
   ],
   "source": [
    "series.resample(rule='MS').first()"
   ]
  }
 ],
 "metadata": {
  "kernelspec": {
   "display_name": "Python 3",
   "language": "python",
   "name": "python3"
  },
  "language_info": {
   "codemirror_mode": {
    "name": "ipython",
    "version": 3
   },
   "file_extension": ".py",
   "mimetype": "text/x-python",
   "name": "python",
   "nbconvert_exporter": "python",
   "pygments_lexer": "ipython3",
   "version": "3.8.8"
  }
 },
 "nbformat": 4,
 "nbformat_minor": 4
}
