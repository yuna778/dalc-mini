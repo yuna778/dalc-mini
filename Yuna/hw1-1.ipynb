## 금융 데이터 분석을 위한 파이썬 활용법
### 2.1 날짜와 시간
### 2.1.1 파이썬 Datetime
### 날짜 변환
* 파이썬 표준 라이브러리 datetime
import datetime
format = '%Y-%m-%d %H: %M: %S'
datetime_str = '2018-05-13 12:34:56'
datetime_dt =  채워넣기
print(type(datetime_dt))
print(datetime_dt)
